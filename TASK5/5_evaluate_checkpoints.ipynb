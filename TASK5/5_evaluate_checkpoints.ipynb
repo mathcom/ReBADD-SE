{
 "cells": [
  {
   "cell_type": "code",
   "execution_count": 1,
   "id": "9cf00ead",
   "metadata": {},
   "outputs": [],
   "source": [
    "import os\n",
    "import sys\n",
    "import tqdm\n",
    "import pandas as pd"
   ]
  },
  {
   "cell_type": "code",
   "execution_count": 2,
   "id": "d2f02c96",
   "metadata": {},
   "outputs": [],
   "source": [
    "REBADD_LIB_PATH = os.path.abspath(os.pardir)\n",
    "if REBADD_LIB_PATH not in sys.path:\n",
    "    sys.path = [REBADD_LIB_PATH] + sys.path\n",
    "\n",
    "from rebadd.evaluate import evaluate_sr_nov_div"
   ]
  },
  {
   "cell_type": "code",
   "execution_count": 3,
   "id": "0fa8b185",
   "metadata": {},
   "outputs": [
    {
     "name": "stdout",
     "output_type": "stream",
     "text": [
      "2\n"
     ]
    }
   ],
   "source": [
    "## Test data (navitoclax, ABT-737)\n",
    "filepath_ref = os.path.join(os.pardir, 'data', 'zinc15', 'zinc15_test.txt')\n",
    "df_ref = pd.read_csv(filepath_ref, header=None)\n",
    "\n",
    "referece_smiles_iter = df_ref.iloc[:,0].values.tolist()\n",
    "\n",
    "print(len(referece_smiles_iter))"
   ]
  },
  {
   "cell_type": "code",
   "execution_count": 4,
   "id": "a34e843f",
   "metadata": {},
   "outputs": [],
   "source": [
    "input_dir = 'outputs_4_calculate_properties'\n",
    "\n",
    "modelnames = [\n",
    "    'zinc15',\n",
    "]\n",
    "\n",
    "filenames = [f'smi_after.csv.{num:04d}' for num in range(50,550,50)]"
   ]
  },
  {
   "cell_type": "code",
   "execution_count": 5,
   "id": "603dc4fd",
   "metadata": {},
   "outputs": [],
   "source": [
    "frames = []\n",
    "\n",
    "for modelname in modelnames:\n",
    "    \n",
    "    for filename in filenames:\n",
    "        \n",
    "        filepath = os.path.join(input_dir, modelname, filename)\n",
    "        \n",
    "        df = pd.read_csv(filepath)\n",
    "        \n",
    "        df = df.loc[:,('smiles', 'bcl2', 'bclxl', 'bclw')]\n",
    "        df.loc[:,'model'] = modelname\n",
    "        df.loc[:,'checkpoint'] = filename.split('.')[-1]\n",
    "        \n",
    "        frames.append(df)"
   ]
  },
  {
   "cell_type": "code",
   "execution_count": 6,
   "id": "55063e21",
   "metadata": {},
   "outputs": [
    {
     "name": "stderr",
     "output_type": "stream",
     "text": [
      "100%|██████████| 10/10 [00:02<00:00,  4.56it/s]\n"
     ]
    }
   ],
   "source": [
    "data = []\n",
    "\n",
    "for df in tqdm.tqdm(frames):\n",
    "\n",
    "    s_sr, s_nov, s_div = evaluate_sr_nov_div(df, referece_smiles_iter, 'bcl2_bclxl_bclw')\n",
    "    \n",
    "    data.append({'SR':s_sr, 'Nov':s_nov, 'Div':s_div, 'Model':df.loc[0,'model'], 'Ckpt':df.loc[0,'checkpoint']})"
   ]
  },
  {
   "cell_type": "code",
   "execution_count": 7,
   "id": "1d08c06b",
   "metadata": {},
   "outputs": [
    {
     "data": {
      "text/html": [
       "<div>\n",
       "<style scoped>\n",
       "    .dataframe tbody tr th:only-of-type {\n",
       "        vertical-align: middle;\n",
       "    }\n",
       "\n",
       "    .dataframe tbody tr th {\n",
       "        vertical-align: top;\n",
       "    }\n",
       "\n",
       "    .dataframe thead th {\n",
       "        text-align: right;\n",
       "    }\n",
       "</style>\n",
       "<table border=\"1\" class=\"dataframe\">\n",
       "  <thead>\n",
       "    <tr style=\"text-align: right;\">\n",
       "      <th></th>\n",
       "      <th>SR</th>\n",
       "      <th>Nov</th>\n",
       "      <th>Div</th>\n",
       "      <th>Model</th>\n",
       "      <th>Ckpt</th>\n",
       "      <th>HMean</th>\n",
       "    </tr>\n",
       "  </thead>\n",
       "  <tbody>\n",
       "    <tr>\n",
       "      <th>0</th>\n",
       "      <td>0.011</td>\n",
       "      <td>1.0</td>\n",
       "      <td>0.660186</td>\n",
       "      <td>zinc15</td>\n",
       "      <td>0050</td>\n",
       "      <td>0.193969</td>\n",
       "    </tr>\n",
       "    <tr>\n",
       "      <th>1</th>\n",
       "      <td>0.016</td>\n",
       "      <td>1.0</td>\n",
       "      <td>0.487441</td>\n",
       "      <td>zinc15</td>\n",
       "      <td>0100</td>\n",
       "      <td>0.198632</td>\n",
       "    </tr>\n",
       "    <tr>\n",
       "      <th>2</th>\n",
       "      <td>0.472</td>\n",
       "      <td>1.0</td>\n",
       "      <td>0.593304</td>\n",
       "      <td>zinc15</td>\n",
       "      <td>0150</td>\n",
       "      <td>0.654522</td>\n",
       "    </tr>\n",
       "    <tr>\n",
       "      <th>3</th>\n",
       "      <td>0.090</td>\n",
       "      <td>1.0</td>\n",
       "      <td>0.630770</td>\n",
       "      <td>zinc15</td>\n",
       "      <td>0200</td>\n",
       "      <td>0.384698</td>\n",
       "    </tr>\n",
       "    <tr>\n",
       "      <th>4</th>\n",
       "      <td>0.080</td>\n",
       "      <td>1.0</td>\n",
       "      <td>0.630366</td>\n",
       "      <td>zinc15</td>\n",
       "      <td>0250</td>\n",
       "      <td>0.369823</td>\n",
       "    </tr>\n",
       "    <tr>\n",
       "      <th>5</th>\n",
       "      <td>0.127</td>\n",
       "      <td>1.0</td>\n",
       "      <td>0.606638</td>\n",
       "      <td>zinc15</td>\n",
       "      <td>0300</td>\n",
       "      <td>0.425875</td>\n",
       "    </tr>\n",
       "    <tr>\n",
       "      <th>6</th>\n",
       "      <td>0.030</td>\n",
       "      <td>1.0</td>\n",
       "      <td>0.821601</td>\n",
       "      <td>zinc15</td>\n",
       "      <td>0350</td>\n",
       "      <td>0.291383</td>\n",
       "    </tr>\n",
       "    <tr>\n",
       "      <th>7</th>\n",
       "      <td>0.036</td>\n",
       "      <td>1.0</td>\n",
       "      <td>0.824040</td>\n",
       "      <td>zinc15</td>\n",
       "      <td>0400</td>\n",
       "      <td>0.309927</td>\n",
       "    </tr>\n",
       "    <tr>\n",
       "      <th>8</th>\n",
       "      <td>0.034</td>\n",
       "      <td>1.0</td>\n",
       "      <td>0.840132</td>\n",
       "      <td>zinc15</td>\n",
       "      <td>0450</td>\n",
       "      <td>0.306048</td>\n",
       "    </tr>\n",
       "    <tr>\n",
       "      <th>9</th>\n",
       "      <td>0.067</td>\n",
       "      <td>1.0</td>\n",
       "      <td>0.763474</td>\n",
       "      <td>zinc15</td>\n",
       "      <td>0500</td>\n",
       "      <td>0.371581</td>\n",
       "    </tr>\n",
       "  </tbody>\n",
       "</table>\n",
       "</div>"
      ],
      "text/plain": [
       "      SR  Nov       Div   Model  Ckpt     HMean\n",
       "0  0.011  1.0  0.660186  zinc15  0050  0.193969\n",
       "1  0.016  1.0  0.487441  zinc15  0100  0.198632\n",
       "2  0.472  1.0  0.593304  zinc15  0150  0.654522\n",
       "3  0.090  1.0  0.630770  zinc15  0200  0.384698\n",
       "4  0.080  1.0  0.630366  zinc15  0250  0.369823\n",
       "5  0.127  1.0  0.606638  zinc15  0300  0.425875\n",
       "6  0.030  1.0  0.821601  zinc15  0350  0.291383\n",
       "7  0.036  1.0  0.824040  zinc15  0400  0.309927\n",
       "8  0.034  1.0  0.840132  zinc15  0450  0.306048\n",
       "9  0.067  1.0  0.763474  zinc15  0500  0.371581"
      ]
     },
     "execution_count": 7,
     "metadata": {},
     "output_type": "execute_result"
    }
   ],
   "source": [
    "df_records = pd.DataFrame(data)\n",
    "df_records.loc[:,'HMean'] = (df_records.loc[:,'SR'] * df_records.loc[:,'Nov'] * df_records.loc[:,'Div']) ** 0.333\n",
    "\n",
    "df_records"
   ]
  },
  {
   "cell_type": "code",
   "execution_count": null,
   "id": "2ec0b337",
   "metadata": {},
   "outputs": [],
   "source": []
  }
 ],
 "metadata": {
  "kernelspec": {
   "display_name": "Python 3 (ipykernel)",
   "language": "python",
   "name": "python3"
  },
  "language_info": {
   "codemirror_mode": {
    "name": "ipython",
    "version": 3
   },
   "file_extension": ".py",
   "mimetype": "text/x-python",
   "name": "python",
   "nbconvert_exporter": "python",
   "pygments_lexer": "ipython3",
   "version": "3.8.13"
  }
 },
 "nbformat": 4,
 "nbformat_minor": 5
}
