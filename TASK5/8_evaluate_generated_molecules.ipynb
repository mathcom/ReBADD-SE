{
 "cells": [
  {
   "cell_type": "code",
   "execution_count": 1,
   "id": "2d295572",
   "metadata": {},
   "outputs": [],
   "source": [
    "import os\n",
    "import sys\n",
    "import tqdm\n",
    "import pandas as pd"
   ]
  },
  {
   "cell_type": "code",
   "execution_count": 2,
   "id": "50f2d8b9",
   "metadata": {},
   "outputs": [],
   "source": [
    "REBADD_LIB_PATH = os.path.abspath(os.pardir)\n",
    "if REBADD_LIB_PATH not in sys.path:\n",
    "    sys.path = [REBADD_LIB_PATH] + sys.path\n",
    "\n",
    "from rebadd.evaluate import evaluate_sr_nov_div"
   ]
  },
  {
   "cell_type": "code",
   "execution_count": 3,
   "id": "05114561",
   "metadata": {},
   "outputs": [
    {
     "name": "stdout",
     "output_type": "stream",
     "text": [
      "2\n"
     ]
    }
   ],
   "source": [
    "## Test data (navitoclax, ABT-737)\n",
    "filepath_ref = os.path.join(os.pardir, 'data', 'zinc15', 'zinc15_test.txt')\n",
    "df_ref = pd.read_csv(filepath_ref, header=None)\n",
    "\n",
    "referece_smiles_iter = df_ref.iloc[:,0].values.tolist()\n",
    "\n",
    "print(len(referece_smiles_iter))"
   ]
  },
  {
   "cell_type": "code",
   "execution_count": 4,
   "id": "12885dfa",
   "metadata": {},
   "outputs": [],
   "source": [
    "input_dir = 'outputs_7_calculate_properties_generated'\n",
    "\n",
    "modelnames = [\n",
    "    'zinc15',\n",
    "]\n",
    "\n",
    "filenames = [f'smi_after.csv.{num}' for num in range(10)]"
   ]
  },
  {
   "cell_type": "code",
   "execution_count": 5,
   "id": "184c7571",
   "metadata": {},
   "outputs": [],
   "source": [
    "frames = []\n",
    "\n",
    "for modelname in modelnames:\n",
    "    \n",
    "    for filename in filenames:\n",
    "        \n",
    "        filepath = os.path.join(input_dir, modelname, filename)\n",
    "        \n",
    "        df = pd.read_csv(filepath)\n",
    "        \n",
    "        df = df.loc[:,('smiles', 'bcl2', 'bclxl', 'bclw')]\n",
    "        df.loc[:,'model'] = modelname\n",
    "        df.loc[:,'checkpoint'] = filename.split('.')[-1]\n",
    "        \n",
    "        frames.append(df)"
   ]
  },
  {
   "cell_type": "code",
   "execution_count": 6,
   "id": "1551905f",
   "metadata": {},
   "outputs": [
    {
     "name": "stderr",
     "output_type": "stream",
     "text": [
      "100%|██████████| 10/10 [00:09<00:00,  1.11it/s]\n"
     ]
    }
   ],
   "source": [
    "data = []\n",
    "\n",
    "for df in tqdm.tqdm(frames):\n",
    "\n",
    "    s_sr, s_nov, s_div = evaluate_sr_nov_div(df, referece_smiles_iter, 'bcl2_bclxl_bclw')\n",
    "    \n",
    "    data.append({'SR':s_sr, 'Nov':s_nov, 'Div':s_div, 'Model':df.loc[0,'model'], 'Ckpt':df.loc[0,'checkpoint']})"
   ]
  },
  {
   "cell_type": "code",
   "execution_count": 7,
   "id": "e9ee4ae3",
   "metadata": {},
   "outputs": [
    {
     "data": {
      "text/html": [
       "<div>\n",
       "<style scoped>\n",
       "    .dataframe tbody tr th:only-of-type {\n",
       "        vertical-align: middle;\n",
       "    }\n",
       "\n",
       "    .dataframe tbody tr th {\n",
       "        vertical-align: top;\n",
       "    }\n",
       "\n",
       "    .dataframe thead th {\n",
       "        text-align: right;\n",
       "    }\n",
       "</style>\n",
       "<table border=\"1\" class=\"dataframe\">\n",
       "  <thead>\n",
       "    <tr style=\"text-align: right;\">\n",
       "      <th></th>\n",
       "      <th>SR</th>\n",
       "      <th>Nov</th>\n",
       "      <th>Div</th>\n",
       "      <th>Model</th>\n",
       "      <th>Ckpt</th>\n",
       "      <th>HMean</th>\n",
       "    </tr>\n",
       "  </thead>\n",
       "  <tbody>\n",
       "    <tr>\n",
       "      <th>0</th>\n",
       "      <td>0.4626</td>\n",
       "      <td>1.0</td>\n",
       "      <td>0.646724</td>\n",
       "      <td>zinc15</td>\n",
       "      <td>0</td>\n",
       "      <td>0.669087</td>\n",
       "    </tr>\n",
       "    <tr>\n",
       "      <th>1</th>\n",
       "      <td>0.4740</td>\n",
       "      <td>1.0</td>\n",
       "      <td>0.623341</td>\n",
       "      <td>zinc15</td>\n",
       "      <td>1</td>\n",
       "      <td>0.666312</td>\n",
       "    </tr>\n",
       "    <tr>\n",
       "      <th>2</th>\n",
       "      <td>0.4746</td>\n",
       "      <td>1.0</td>\n",
       "      <td>0.660504</td>\n",
       "      <td>zinc15</td>\n",
       "      <td>2</td>\n",
       "      <td>0.679572</td>\n",
       "    </tr>\n",
       "    <tr>\n",
       "      <th>3</th>\n",
       "      <td>0.4710</td>\n",
       "      <td>1.0</td>\n",
       "      <td>0.629092</td>\n",
       "      <td>zinc15</td>\n",
       "      <td>3</td>\n",
       "      <td>0.666942</td>\n",
       "    </tr>\n",
       "    <tr>\n",
       "      <th>4</th>\n",
       "      <td>0.4788</td>\n",
       "      <td>1.0</td>\n",
       "      <td>0.652321</td>\n",
       "      <td>zinc15</td>\n",
       "      <td>4</td>\n",
       "      <td>0.678746</td>\n",
       "    </tr>\n",
       "    <tr>\n",
       "      <th>5</th>\n",
       "      <td>0.4736</td>\n",
       "      <td>1.0</td>\n",
       "      <td>0.635146</td>\n",
       "      <td>zinc15</td>\n",
       "      <td>5</td>\n",
       "      <td>0.670300</td>\n",
       "    </tr>\n",
       "    <tr>\n",
       "      <th>6</th>\n",
       "      <td>0.4738</td>\n",
       "      <td>1.0</td>\n",
       "      <td>0.656506</td>\n",
       "      <td>zinc15</td>\n",
       "      <td>6</td>\n",
       "      <td>0.677819</td>\n",
       "    </tr>\n",
       "    <tr>\n",
       "      <th>7</th>\n",
       "      <td>0.4622</td>\n",
       "      <td>1.0</td>\n",
       "      <td>0.633079</td>\n",
       "      <td>zinc15</td>\n",
       "      <td>7</td>\n",
       "      <td>0.664162</td>\n",
       "    </tr>\n",
       "    <tr>\n",
       "      <th>8</th>\n",
       "      <td>0.4766</td>\n",
       "      <td>1.0</td>\n",
       "      <td>0.646409</td>\n",
       "      <td>zinc15</td>\n",
       "      <td>8</td>\n",
       "      <td>0.675654</td>\n",
       "    </tr>\n",
       "    <tr>\n",
       "      <th>9</th>\n",
       "      <td>0.4702</td>\n",
       "      <td>1.0</td>\n",
       "      <td>0.642957</td>\n",
       "      <td>zinc15</td>\n",
       "      <td>9</td>\n",
       "      <td>0.671421</td>\n",
       "    </tr>\n",
       "  </tbody>\n",
       "</table>\n",
       "</div>"
      ],
      "text/plain": [
       "       SR  Nov       Div   Model Ckpt     HMean\n",
       "0  0.4626  1.0  0.646724  zinc15    0  0.669087\n",
       "1  0.4740  1.0  0.623341  zinc15    1  0.666312\n",
       "2  0.4746  1.0  0.660504  zinc15    2  0.679572\n",
       "3  0.4710  1.0  0.629092  zinc15    3  0.666942\n",
       "4  0.4788  1.0  0.652321  zinc15    4  0.678746\n",
       "5  0.4736  1.0  0.635146  zinc15    5  0.670300\n",
       "6  0.4738  1.0  0.656506  zinc15    6  0.677819\n",
       "7  0.4622  1.0  0.633079  zinc15    7  0.664162\n",
       "8  0.4766  1.0  0.646409  zinc15    8  0.675654\n",
       "9  0.4702  1.0  0.642957  zinc15    9  0.671421"
      ]
     },
     "execution_count": 7,
     "metadata": {},
     "output_type": "execute_result"
    }
   ],
   "source": [
    "df_records = pd.DataFrame(data)\n",
    "df_records.loc[:,'HMean'] = (df_records.loc[:,'SR'] * df_records.loc[:,'Nov'] * df_records.loc[:,'Div']) ** 0.333\n",
    "\n",
    "df_records"
   ]
  },
  {
   "cell_type": "code",
   "execution_count": 8,
   "id": "c564a921",
   "metadata": {},
   "outputs": [
    {
     "data": {
      "text/html": [
       "<div>\n",
       "<style scoped>\n",
       "    .dataframe tbody tr th:only-of-type {\n",
       "        vertical-align: middle;\n",
       "    }\n",
       "\n",
       "    .dataframe tbody tr th {\n",
       "        vertical-align: top;\n",
       "    }\n",
       "\n",
       "    .dataframe thead th {\n",
       "        text-align: right;\n",
       "    }\n",
       "</style>\n",
       "<table border=\"1\" class=\"dataframe\">\n",
       "  <thead>\n",
       "    <tr style=\"text-align: right;\">\n",
       "      <th></th>\n",
       "      <th>SR</th>\n",
       "      <th>Nov</th>\n",
       "      <th>Div</th>\n",
       "      <th>HMean</th>\n",
       "    </tr>\n",
       "    <tr>\n",
       "      <th>Model</th>\n",
       "      <th></th>\n",
       "      <th></th>\n",
       "      <th></th>\n",
       "      <th></th>\n",
       "    </tr>\n",
       "  </thead>\n",
       "  <tbody>\n",
       "    <tr>\n",
       "      <th>zinc15</th>\n",
       "      <td>0.47174</td>\n",
       "      <td>1.0</td>\n",
       "      <td>0.642608</td>\n",
       "      <td>0.672001</td>\n",
       "    </tr>\n",
       "  </tbody>\n",
       "</table>\n",
       "</div>"
      ],
      "text/plain": [
       "             SR  Nov       Div     HMean\n",
       "Model                                   \n",
       "zinc15  0.47174  1.0  0.642608  0.672001"
      ]
     },
     "execution_count": 8,
     "metadata": {},
     "output_type": "execute_result"
    }
   ],
   "source": [
    "df_records.groupby('Model').mean(numeric_only=True)"
   ]
  },
  {
   "cell_type": "code",
   "execution_count": 9,
   "id": "b406ab3a",
   "metadata": {},
   "outputs": [
    {
     "data": {
      "text/html": [
       "<div>\n",
       "<style scoped>\n",
       "    .dataframe tbody tr th:only-of-type {\n",
       "        vertical-align: middle;\n",
       "    }\n",
       "\n",
       "    .dataframe tbody tr th {\n",
       "        vertical-align: top;\n",
       "    }\n",
       "\n",
       "    .dataframe thead th {\n",
       "        text-align: right;\n",
       "    }\n",
       "</style>\n",
       "<table border=\"1\" class=\"dataframe\">\n",
       "  <thead>\n",
       "    <tr style=\"text-align: right;\">\n",
       "      <th></th>\n",
       "      <th>SR</th>\n",
       "      <th>Nov</th>\n",
       "      <th>Div</th>\n",
       "      <th>HMean</th>\n",
       "    </tr>\n",
       "    <tr>\n",
       "      <th>Model</th>\n",
       "      <th></th>\n",
       "      <th></th>\n",
       "      <th></th>\n",
       "      <th></th>\n",
       "    </tr>\n",
       "  </thead>\n",
       "  <tbody>\n",
       "    <tr>\n",
       "      <th>zinc15</th>\n",
       "      <td>0.005497</td>\n",
       "      <td>0.0</td>\n",
       "      <td>0.0122</td>\n",
       "      <td>0.005589</td>\n",
       "    </tr>\n",
       "  </tbody>\n",
       "</table>\n",
       "</div>"
      ],
      "text/plain": [
       "              SR  Nov     Div     HMean\n",
       "Model                                  \n",
       "zinc15  0.005497  0.0  0.0122  0.005589"
      ]
     },
     "execution_count": 9,
     "metadata": {},
     "output_type": "execute_result"
    }
   ],
   "source": [
    "df_records.groupby('Model').std(numeric_only=True)"
   ]
  },
  {
   "cell_type": "code",
   "execution_count": null,
   "id": "7758dde4",
   "metadata": {},
   "outputs": [],
   "source": []
  }
 ],
 "metadata": {
  "kernelspec": {
   "display_name": "Python 3 (ipykernel)",
   "language": "python",
   "name": "python3"
  },
  "language_info": {
   "codemirror_mode": {
    "name": "ipython",
    "version": 3
   },
   "file_extension": ".py",
   "mimetype": "text/x-python",
   "name": "python",
   "nbconvert_exporter": "python",
   "pygments_lexer": "ipython3",
   "version": "3.8.13"
  }
 },
 "nbformat": 4,
 "nbformat_minor": 5
}
