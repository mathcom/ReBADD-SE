{
 "cells": [
  {
   "cell_type": "code",
   "execution_count": 1,
   "id": "0f77aa59-027a-4cf6-a7ab-6fa34fa1bbc7",
   "metadata": {},
   "outputs": [],
   "source": [
    "import os\n",
    "import pandas as pd\n",
    "import tqdm\n",
    "from rdkit import Chem"
   ]
  },
  {
   "cell_type": "markdown",
   "id": "dee3fca9-05f2-4b13-adbd-160b44f818fd",
   "metadata": {},
   "source": [
    "# 1. Raw data"
   ]
  },
  {
   "cell_type": "code",
   "execution_count": 2,
   "id": "b74de4b0-06a2-411f-9e6e-030c1bdb41dd",
   "metadata": {},
   "outputs": [],
   "source": [
    "filename = 'all.txt'"
   ]
  },
  {
   "cell_type": "code",
   "execution_count": 3,
   "id": "0b4cfc3b-d9d7-4549-8db2-0f7d0f3275e0",
   "metadata": {},
   "outputs": [],
   "source": [
    "df = pd.read_csv(filename, header=None).rename(columns={0:'smiles'})"
   ]
  },
  {
   "cell_type": "code",
   "execution_count": 4,
   "id": "0b08cc35-b33c-4a65-8d23-4711267c5ba1",
   "metadata": {},
   "outputs": [
    {
     "name": "stdout",
     "output_type": "stream",
     "text": [
      "(1488640, 1)\n",
      "                                              smiles\n",
      "0            c1cc(OCCCN2CCCCC2)ccc1CN1CCC2(CC1)OCCO2\n",
      "1                      CC1COC(c2cccn2Cc2ccccc2Cl)=N1\n",
      "2  Cc1ncn(-c2ccc(C#N)nc2-c2nc3cc(-c4cnc(N)nc4)ccc...\n",
      "3     Cc1c(-c2ccc(-c3cccnc3)cc2)nc2ccc(F)cc2c1C(=O)O\n",
      "4  Cn1c(=O)c2c(SCC(=O)N3CCOCC3)nc(-c3ccccc3F)nc2n...\n"
     ]
    }
   ],
   "source": [
    "print(df.shape)\n",
    "print(df.head())"
   ]
  },
  {
   "cell_type": "markdown",
   "id": "abdac977-897c-43a0-b39e-85ed7e605b71",
   "metadata": {},
   "source": [
    "# 2. Selecting molecules with 9 atoms of importance to pharmaceutical research\n",
    "- Ref: Rocha, Gerd B., et al. \"Rm1: A reparameterization of am1 for h, c, n, o, p, s, f, cl, br, and i.\" Journal of computational chemistry 27.10 (2006): 1101-1111.\n",
    "- Iodine is not used in this study because it is not contained in the known active molecules (see actives.txt)"
   ]
  },
  {
   "cell_type": "code",
   "execution_count": 5,
   "id": "aaf9455c-c187-4719-9055-402e836748e6",
   "metadata": {},
   "outputs": [],
   "source": [
    "atomicset = {'C', 'N', 'O', 'S', 'F', 'Cl', 'Br', 'H', 'P'}"
   ]
  },
  {
   "cell_type": "code",
   "execution_count": 6,
   "id": "bd63c703-002f-43e0-aa2f-56eff91b101e",
   "metadata": {},
   "outputs": [
    {
     "name": "stderr",
     "output_type": "stream",
     "text": [
      "100%|████████████████████████████████████████████████████████████████████████████████████████████████████████████████████████████████████████████████████████████████████| 1488640/1488640 [03:39<00:00, 6771.24it/s]\n"
     ]
    }
   ],
   "source": [
    "records = []\n",
    "for i in tqdm.trange(df.shape[0]):\n",
    "    lnt = 0\n",
    "    atm = False\n",
    "    try:\n",
    "        mol = Chem.MolFromSmiles(df.loc[i, 'smiles'])\n",
    "        ## length\n",
    "        smi = Chem.MolToSmiles(mol, isomericSmiles=False)\n",
    "        lnt = len(smi)\n",
    "        ## atoms\n",
    "        atm = {atom.GetSymbol() for atom in mol.GetAtoms()}.issubset(atomicset)\n",
    "    except:\n",
    "        pass\n",
    "    ## check\n",
    "    if 0 < lnt <= 150 and atm:\n",
    "        records.append((smi, lnt))"
   ]
  },
  {
   "cell_type": "code",
   "execution_count": 7,
   "id": "4fcc4299-cf65-47ae-a1c5-a00ccc090186",
   "metadata": {},
   "outputs": [],
   "source": [
    "df_res = pd.DataFrame.from_records(records)\n",
    "df_res = df_res.rename(columns={0:'smiles', 1:'length'})"
   ]
  },
  {
   "cell_type": "code",
   "execution_count": 8,
   "id": "e6c8c0e1-8f15-4c3c-abf7-14cc9a94ed36",
   "metadata": {},
   "outputs": [],
   "source": [
    "df_res.to_csv('all_processed.csv', sep=',', index=False)"
   ]
  },
  {
   "cell_type": "code",
   "execution_count": null,
   "id": "abdc03de-9f09-4332-818a-26e9457ea052",
   "metadata": {},
   "outputs": [],
   "source": []
  }
 ],
 "metadata": {
  "kernelspec": {
   "display_name": "Python 3 (ipykernel)",
   "language": "python",
   "name": "python3"
  },
  "language_info": {
   "codemirror_mode": {
    "name": "ipython",
    "version": 3
   },
   "file_extension": ".py",
   "mimetype": "text/x-python",
   "name": "python",
   "nbconvert_exporter": "python",
   "pygments_lexer": "ipython3",
   "version": "3.8.18"
  }
 },
 "nbformat": 4,
 "nbformat_minor": 5
}
