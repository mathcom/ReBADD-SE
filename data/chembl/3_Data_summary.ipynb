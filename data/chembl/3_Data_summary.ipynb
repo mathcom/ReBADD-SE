{
 "cells": [
  {
   "cell_type": "code",
   "execution_count": 1,
   "id": "fb604fd1",
   "metadata": {},
   "outputs": [],
   "source": [
    "import pandas as pd\n",
    "import matplotlib.pyplot as plt\n",
    "import seaborn as sns\n",
    "import tqdm\n",
    "from rdkit.Chem import MolFromSmiles, Lipinski # NumHDonors, NumHAcceptors\n",
    "from rdkit.Chem.rdMolDescriptors import CalcExactMolWt\n",
    "from rdkit.Chem.Crippen import MolLogP"
   ]
  },
  {
   "cell_type": "code",
   "execution_count": 2,
   "id": "082d159f",
   "metadata": {},
   "outputs": [],
   "source": [
    "smi = \"CC1(CCC(=C(C1)CN2CCN(CC2)C3=CC=C(C=C3)C(=O)NS(=O)(=O)C4=CC(=C(C=C4)NC(CCN5CCOCC5)CSC6=CC=CC=C6)S(=O)(=O)C(F)(F)F)C7=CC=C(C=C7)Cl)C\""
   ]
  },
  {
   "cell_type": "code",
   "execution_count": 3,
   "id": "b93f6bcb",
   "metadata": {},
   "outputs": [],
   "source": [
    "mol = MolFromSmiles(smi)"
   ]
  },
  {
   "cell_type": "code",
   "execution_count": 4,
   "id": "dcd92d79",
   "metadata": {},
   "outputs": [
    {
     "name": "stdout",
     "output_type": "stream",
     "text": [
      "2\n",
      "11\n",
      "973.29550982\n",
      "8.833200000000005\n"
     ]
    }
   ],
   "source": [
    "print(Lipinski.NumHDonors(mol))\n",
    "print(Lipinski.NumHAcceptors(mol))\n",
    "print(CalcExactMolWt(mol))\n",
    "print(MolLogP(mol))"
   ]
  },
  {
   "cell_type": "code",
   "execution_count": null,
   "id": "6772f80d",
   "metadata": {},
   "outputs": [],
   "source": []
  },
  {
   "cell_type": "markdown",
   "id": "89fd1cb5",
   "metadata": {},
   "source": [
    "### Lipinski's Rules (RO5)\n",
    "- MW < 500 Da\n",
    "- ClogP < 5\n",
    "- H-bond donor < 5\n",
    "- H-bond acceptor < 10"
   ]
  },
  {
   "cell_type": "code",
   "execution_count": 2,
   "id": "63bdfeee",
   "metadata": {},
   "outputs": [],
   "source": [
    "df = pd.read_csv(\"chembl_test_full.csv\")"
   ]
  },
  {
   "cell_type": "code",
   "execution_count": 3,
   "id": "26d1647d",
   "metadata": {},
   "outputs": [
    {
     "data": {
      "text/html": [
       "<div>\n",
       "<style scoped>\n",
       "    .dataframe tbody tr th:only-of-type {\n",
       "        vertical-align: middle;\n",
       "    }\n",
       "\n",
       "    .dataframe tbody tr th {\n",
       "        vertical-align: top;\n",
       "    }\n",
       "\n",
       "    .dataframe thead th {\n",
       "        text-align: right;\n",
       "    }\n",
       "</style>\n",
       "<table border=\"1\" class=\"dataframe\">\n",
       "  <thead>\n",
       "    <tr style=\"text-align: right;\">\n",
       "      <th></th>\n",
       "      <th>smiles</th>\n",
       "      <th>jnk3</th>\n",
       "      <th>gsk3</th>\n",
       "    </tr>\n",
       "  </thead>\n",
       "  <tbody>\n",
       "    <tr>\n",
       "      <th>0</th>\n",
       "      <td>c1cc2ccc3ncc(-c4ccc(-c5ccn[nH]5)cc4)cc3c2cn1</td>\n",
       "      <td>0.91</td>\n",
       "      <td>0.52</td>\n",
       "    </tr>\n",
       "    <tr>\n",
       "      <th>1</th>\n",
       "      <td>c1ccc2c(-c3ccncc3)c[nH]c2c1</td>\n",
       "      <td>0.64</td>\n",
       "      <td>0.81</td>\n",
       "    </tr>\n",
       "    <tr>\n",
       "      <th>2</th>\n",
       "      <td>c1ccc2cc(-c3n[nH]cc3-c3ccncc3)ccc2c1</td>\n",
       "      <td>0.74</td>\n",
       "      <td>0.72</td>\n",
       "    </tr>\n",
       "    <tr>\n",
       "      <th>3</th>\n",
       "      <td>c1cc(-c2nccs2)c2nc(Nc3ccc(-n4cnc(N5CCOCC5)n4)c...</td>\n",
       "      <td>0.98</td>\n",
       "      <td>0.52</td>\n",
       "    </tr>\n",
       "    <tr>\n",
       "      <th>4</th>\n",
       "      <td>c1ccc(-c2ccc3c(-c4ccnc(Nc5ccc6c(c5)OCCO6)n4)cn...</td>\n",
       "      <td>0.51</td>\n",
       "      <td>0.98</td>\n",
       "    </tr>\n",
       "    <tr>\n",
       "      <th>...</th>\n",
       "      <td>...</td>\n",
       "      <td>...</td>\n",
       "      <td>...</td>\n",
       "    </tr>\n",
       "    <tr>\n",
       "      <th>310</th>\n",
       "      <td>O=[N+]([O-])c1ccc(Nc2nccc(-c3cnn4ncccc34)n2)cc1</td>\n",
       "      <td>0.51</td>\n",
       "      <td>0.99</td>\n",
       "    </tr>\n",
       "    <tr>\n",
       "      <th>311</th>\n",
       "      <td>O=[N+]([O-])C=Cc1ccc2c(c1)OCO2</td>\n",
       "      <td>0.63</td>\n",
       "      <td>0.62</td>\n",
       "    </tr>\n",
       "    <tr>\n",
       "      <th>312</th>\n",
       "      <td>O=S(=O)(c1cccc2cnccc12)N1CCCNCC1</td>\n",
       "      <td>0.72</td>\n",
       "      <td>0.68</td>\n",
       "    </tr>\n",
       "    <tr>\n",
       "      <th>313</th>\n",
       "      <td>O=S(=O)(NCCNCC=Cc1ccc(Br)cc1)c1cccc2cnccc12</td>\n",
       "      <td>0.69</td>\n",
       "      <td>0.90</td>\n",
       "    </tr>\n",
       "    <tr>\n",
       "      <th>314</th>\n",
       "      <td>Sc1nnc(-c2ccncc2)n1-c1ccc2ccccc2c1</td>\n",
       "      <td>0.71</td>\n",
       "      <td>0.61</td>\n",
       "    </tr>\n",
       "  </tbody>\n",
       "</table>\n",
       "<p>315 rows × 3 columns</p>\n",
       "</div>"
      ],
      "text/plain": [
       "                                                smiles  jnk3  gsk3\n",
       "0         c1cc2ccc3ncc(-c4ccc(-c5ccn[nH]5)cc4)cc3c2cn1  0.91  0.52\n",
       "1                          c1ccc2c(-c3ccncc3)c[nH]c2c1  0.64  0.81\n",
       "2                 c1ccc2cc(-c3n[nH]cc3-c3ccncc3)ccc2c1  0.74  0.72\n",
       "3    c1cc(-c2nccs2)c2nc(Nc3ccc(-n4cnc(N5CCOCC5)n4)c...  0.98  0.52\n",
       "4    c1ccc(-c2ccc3c(-c4ccnc(Nc5ccc6c(c5)OCCO6)n4)cn...  0.51  0.98\n",
       "..                                                 ...   ...   ...\n",
       "310    O=[N+]([O-])c1ccc(Nc2nccc(-c3cnn4ncccc34)n2)cc1  0.51  0.99\n",
       "311                     O=[N+]([O-])C=Cc1ccc2c(c1)OCO2  0.63  0.62\n",
       "312                   O=S(=O)(c1cccc2cnccc12)N1CCCNCC1  0.72  0.68\n",
       "313        O=S(=O)(NCCNCC=Cc1ccc(Br)cc1)c1cccc2cnccc12  0.69  0.90\n",
       "314                 Sc1nnc(-c2ccncc2)n1-c1ccc2ccccc2c1  0.71  0.61\n",
       "\n",
       "[315 rows x 3 columns]"
      ]
     },
     "execution_count": 3,
     "metadata": {},
     "output_type": "execute_result"
    }
   ],
   "source": [
    "df"
   ]
  },
  {
   "cell_type": "code",
   "execution_count": 4,
   "id": "2f6c7d94",
   "metadata": {},
   "outputs": [
    {
     "name": "stderr",
     "output_type": "stream",
     "text": [
      "100%|████████████████████████████████████████████████████████████████████████████████████████████████████████████████████████████████████████████████████████████████████████████████████████████| 315/315 [00:00<00:00, 1764.98it/s]\n"
     ]
    }
   ],
   "source": [
    "for i, smi in tqdm.tqdm(enumerate(df.loc[:,'smiles'].values), total=len(df)):\n",
    "    \n",
    "    mol = MolFromSmiles(smi)\n",
    "    \n",
    "    df.loc[i,'donor'] = Lipinski.NumHDonors(mol)\n",
    "    df.loc[i,'acceptor'] = Lipinski.NumHAcceptors(mol)\n",
    "    df.loc[i,'mwt'] = CalcExactMolWt(mol)\n",
    "    df.loc[i,'logp'] = MolLogP(mol)"
   ]
  },
  {
   "cell_type": "code",
   "execution_count": 5,
   "id": "203f004f",
   "metadata": {},
   "outputs": [
    {
     "name": "stderr",
     "output_type": "stream",
     "text": [
      "100%|████████████████████████████████████████████████████████████████████████████████████████████████████████████████████████████████████████████████████████████████████████████████████████████| 315/315 [00:00<00:00, 2920.57it/s]\n"
     ]
    }
   ],
   "source": [
    "for i in tqdm.trange(len(df)):\n",
    "    \n",
    "    df.loc[i,'violation_Ro5'] = 0\n",
    "    \n",
    "    df.loc[i,'violation_Ro5'] += 0 if df.loc[i,'donor'] < 5 else 1\n",
    "    df.loc[i,'violation_Ro5'] += 0 if df.loc[i,'acceptor'] < 10 else 1\n",
    "    df.loc[i,'violation_Ro5'] += 0 if df.loc[i,'mwt'] < 500 else 1\n",
    "    df.loc[i,'violation_Ro5'] += 1 if df.loc[i,'donor'] > 5 else 0"
   ]
  },
  {
   "cell_type": "code",
   "execution_count": 6,
   "id": "8569dedd",
   "metadata": {},
   "outputs": [
    {
     "data": {
      "text/plain": [
       "0.0    0.815873\n",
       "1.0    0.161905\n",
       "2.0    0.019048\n",
       "4.0    0.003175\n",
       "Name: violation_Ro5, dtype: float64"
      ]
     },
     "execution_count": 6,
     "metadata": {},
     "output_type": "execute_result"
    }
   ],
   "source": [
    "df.loc[:,'violation_Ro5'].value_counts() / len(df)"
   ]
  },
  {
   "cell_type": "code",
   "execution_count": null,
   "id": "c84cce9e",
   "metadata": {},
   "outputs": [],
   "source": []
  }
 ],
 "metadata": {
  "kernelspec": {
   "display_name": "Python 3 (ipykernel)",
   "language": "python",
   "name": "python3"
  },
  "language_info": {
   "codemirror_mode": {
    "name": "ipython",
    "version": 3
   },
   "file_extension": ".py",
   "mimetype": "text/x-python",
   "name": "python",
   "nbconvert_exporter": "python",
   "pygments_lexer": "ipython3",
   "version": "3.8.13"
  }
 },
 "nbformat": 4,
 "nbformat_minor": 5
}
