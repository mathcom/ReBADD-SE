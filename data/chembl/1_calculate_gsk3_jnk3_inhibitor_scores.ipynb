{
 "cells": [
  {
   "cell_type": "code",
   "execution_count": 11,
   "id": "a0839fac-d4c7-45c7-b587-d85aeef1476e",
   "metadata": {},
   "outputs": [],
   "source": [
    "import os\n",
    "import sys\n",
    "import pandas as pd\n",
    "import networkx as nx\n",
    "import tqdm\n",
    "from multiprocessing import Pool\n",
    "from rdkit import Chem, DataStructs\n",
    "from rdkit.Chem import AllChem"
   ]
  },
  {
   "cell_type": "code",
   "execution_count": 5,
   "id": "baa3210a-2461-461e-a6b7-48c22df98da7",
   "metadata": {},
   "outputs": [],
   "source": [
    "ROOT_PATH = os.path.abspath(os.path.join(os.getcwd(), os.pardir, os.pardir, 'rebadd'))\n",
    "if ROOT_PATH not in sys.path:\n",
    "    sys.path = [ROOT_PATH] + sys.path\n",
    "    \n",
    "from chemutils import GSKScorer, JNKScorer, SAScorer, QEDScorer"
   ]
  },
  {
   "cell_type": "code",
   "execution_count": 6,
   "id": "23cb81dc-d0f3-4c4f-9882-f2360d85e1f6",
   "metadata": {},
   "outputs": [],
   "source": [
    "def GetNumRings(mol):\n",
    "    '''\n",
    "    Reference: https://github.com/wengong-jin/iclr19-graph2graph/blob/master/props/properties.py\n",
    "    '''\n",
    "    cycle_list = nx.cycle_basis(nx.Graph(Chem.rdmolops.GetAdjacencyMatrix(mol)))\n",
    "    return len(cycle_list)"
   ]
  },
  {
   "cell_type": "markdown",
   "id": "e40c9c2f-1e19-4cb6-b3ec-df20efef79ee",
   "metadata": {},
   "source": [
    "# 1. Read the preprocessed data"
   ]
  },
  {
   "cell_type": "code",
   "execution_count": 7,
   "id": "a9f62fdf-b8ff-496a-a630-51cdfd1548df",
   "metadata": {},
   "outputs": [],
   "source": [
    "df_chembl = pd.read_csv('all_processed.csv')"
   ]
  },
  {
   "cell_type": "code",
   "execution_count": 17,
   "id": "cce4658c-9855-42d1-89c9-3a7c03cdb7fb",
   "metadata": {},
   "outputs": [
    {
     "data": {
      "text/html": [
       "<div>\n",
       "<style scoped>\n",
       "    .dataframe tbody tr th:only-of-type {\n",
       "        vertical-align: middle;\n",
       "    }\n",
       "\n",
       "    .dataframe tbody tr th {\n",
       "        vertical-align: top;\n",
       "    }\n",
       "\n",
       "    .dataframe thead th {\n",
       "        text-align: right;\n",
       "    }\n",
       "</style>\n",
       "<table border=\"1\" class=\"dataframe\">\n",
       "  <thead>\n",
       "    <tr style=\"text-align: right;\">\n",
       "      <th></th>\n",
       "      <th>smiles</th>\n",
       "      <th>length</th>\n",
       "    </tr>\n",
       "  </thead>\n",
       "  <tbody>\n",
       "    <tr>\n",
       "      <th>0</th>\n",
       "      <td>c1cc(OCCCN2CCCCC2)ccc1CN1CCC2(CC1)OCCO2</td>\n",
       "      <td>39</td>\n",
       "    </tr>\n",
       "    <tr>\n",
       "      <th>1</th>\n",
       "      <td>CC1COC(c2cccn2Cc2ccccc2Cl)=N1</td>\n",
       "      <td>29</td>\n",
       "    </tr>\n",
       "    <tr>\n",
       "      <th>2</th>\n",
       "      <td>Cc1ncn(-c2ccc(C#N)nc2-c2nc3cc(-c4cnc(N)nc4)ccc...</td>\n",
       "      <td>60</td>\n",
       "    </tr>\n",
       "    <tr>\n",
       "      <th>3</th>\n",
       "      <td>Cc1c(-c2ccc(-c3cccnc3)cc2)nc2ccc(F)cc2c1C(=O)O</td>\n",
       "      <td>46</td>\n",
       "    </tr>\n",
       "    <tr>\n",
       "      <th>4</th>\n",
       "      <td>Cn1c(=O)c2c(SCC(=O)N3CCOCC3)nc(-c3ccccc3F)nc2n...</td>\n",
       "      <td>53</td>\n",
       "    </tr>\n",
       "    <tr>\n",
       "      <th>...</th>\n",
       "      <td>...</td>\n",
       "      <td>...</td>\n",
       "    </tr>\n",
       "    <tr>\n",
       "      <th>1480288</th>\n",
       "      <td>CNCCOc1ccc2cc3ccc(OCCNC)cc3nc2c1</td>\n",
       "      <td>32</td>\n",
       "    </tr>\n",
       "    <tr>\n",
       "      <th>1480289</th>\n",
       "      <td>Cc1nnc2n1-c1c(F)cc(-c3cncc(C(F)(F)F)c3)cc1CC2</td>\n",
       "      <td>45</td>\n",
       "    </tr>\n",
       "    <tr>\n",
       "      <th>1480290</th>\n",
       "      <td>Cc1c(Cc2cccnc2)c(=O)oc2cc(OC(=O)N(C)C)c(Cl)cc12</td>\n",
       "      <td>47</td>\n",
       "    </tr>\n",
       "    <tr>\n",
       "      <th>1480291</th>\n",
       "      <td>COOC1(OOCCCCCC(=O)O)CCCCCCCCCCC1</td>\n",
       "      <td>32</td>\n",
       "    </tr>\n",
       "    <tr>\n",
       "      <th>1480292</th>\n",
       "      <td>CN(C)CCNC(=O)c1cc(-c2ccc3ccccc3c2)nc2ccccc12</td>\n",
       "      <td>44</td>\n",
       "    </tr>\n",
       "  </tbody>\n",
       "</table>\n",
       "<p>1480293 rows × 2 columns</p>\n",
       "</div>"
      ],
      "text/plain": [
       "                                                    smiles  length\n",
       "0                  c1cc(OCCCN2CCCCC2)ccc1CN1CCC2(CC1)OCCO2      39\n",
       "1                            CC1COC(c2cccn2Cc2ccccc2Cl)=N1      29\n",
       "2        Cc1ncn(-c2ccc(C#N)nc2-c2nc3cc(-c4cnc(N)nc4)ccc...      60\n",
       "3           Cc1c(-c2ccc(-c3cccnc3)cc2)nc2ccc(F)cc2c1C(=O)O      46\n",
       "4        Cn1c(=O)c2c(SCC(=O)N3CCOCC3)nc(-c3ccccc3F)nc2n...      53\n",
       "...                                                    ...     ...\n",
       "1480288                   CNCCOc1ccc2cc3ccc(OCCNC)cc3nc2c1      32\n",
       "1480289      Cc1nnc2n1-c1c(F)cc(-c3cncc(C(F)(F)F)c3)cc1CC2      45\n",
       "1480290    Cc1c(Cc2cccnc2)c(=O)oc2cc(OC(=O)N(C)C)c(Cl)cc12      47\n",
       "1480291                   COOC1(OOCCCCCC(=O)O)CCCCCCCCCCC1      32\n",
       "1480292       CN(C)CCNC(=O)c1cc(-c2ccc3ccccc3c2)nc2ccccc12      44\n",
       "\n",
       "[1480293 rows x 2 columns]"
      ]
     },
     "execution_count": 17,
     "metadata": {},
     "output_type": "execute_result"
    }
   ],
   "source": [
    "df_chembl"
   ]
  },
  {
   "cell_type": "markdown",
   "id": "181e9853-ecfc-4cbe-87d9-9f6a99d37483",
   "metadata": {},
   "source": [
    "# 2. Set the oracles"
   ]
  },
  {
   "cell_type": "code",
   "execution_count": 12,
   "id": "f50dc3dd-3edd-46a9-a7bd-43b6d7cc04c8",
   "metadata": {},
   "outputs": [],
   "source": [
    "calc_gsk3 = GSKScorer()\n",
    "calc_jnk3 = JNKScorer()\n",
    "calc_sa = SAScorer()\n",
    "calc_qed = QEDScorer()"
   ]
  },
  {
   "cell_type": "code",
   "execution_count": 13,
   "id": "6dd94d7a-2bed-4809-91b4-5e404f701fd1",
   "metadata": {},
   "outputs": [],
   "source": [
    "def calc_properties(smi):\n",
    "    mol = Chem.MolFromSmiles(smi)\n",
    "\n",
    "    ## init\n",
    "    record = {'smiles':smi,}\n",
    "    \n",
    "    ## target properties\n",
    "    record['gsk3'] = calc_gsk3(smi)\n",
    "    record['jnk3'] = calc_jnk3(smi)\n",
    "    record['sa'] = calc_sa(smi)\n",
    "    record['qed'] = calc_qed(smi)\n",
    "    \n",
    "    ## number of atoms\n",
    "    record['num_atoms'] = mol.GetNumAtoms()\n",
    "    \n",
    "    ## number of rings\n",
    "    record['num_rings'] = GetNumRings(mol)\n",
    "    \n",
    "    return record"
   ]
  },
  {
   "cell_type": "code",
   "execution_count": 20,
   "id": "55c0a0d8-ad42-4ed1-8cf0-16f04e650202",
   "metadata": {},
   "outputs": [
    {
     "name": "stderr",
     "output_type": "stream",
     "text": [
      "100%|████████████████████████████████████████████████████████████████████████████████████████████████████████████████████████████████████████████████████████████████████████████████| 75/75 [15:50<00:00, 12.67s/it]\n"
     ]
    }
   ],
   "source": [
    "data = []\n",
    "batch_size = 20000\n",
    "n_jobs = 10\n",
    "\n",
    "for i in tqdm.trange(0, len(df_chembl), batch_size):\n",
    "    with Pool(n_jobs) as p:\n",
    "        data += p.map(calc_properties, df_chembl['smiles'][i:i+batch_size])"
   ]
  },
  {
   "cell_type": "code",
   "execution_count": 21,
   "id": "39e103c8-f098-4320-ac2c-0e5b5ce39a90",
   "metadata": {},
   "outputs": [],
   "source": [
    "df_chembl = pd.DataFrame(data)"
   ]
  },
  {
   "cell_type": "code",
   "execution_count": 22,
   "id": "7d3389fd-4cc3-4c18-b408-d1d427f08b60",
   "metadata": {},
   "outputs": [],
   "source": [
    "df_chembl.to_csv('chembl_gsk3_jnk3_qed_sa.csv', index=False)"
   ]
  },
  {
   "cell_type": "code",
   "execution_count": null,
   "id": "9cf134d6-a58a-4240-86c2-48047bfa1a3d",
   "metadata": {},
   "outputs": [],
   "source": []
  }
 ],
 "metadata": {
  "kernelspec": {
   "display_name": "Python 3 (ipykernel)",
   "language": "python",
   "name": "python3"
  },
  "language_info": {
   "codemirror_mode": {
    "name": "ipython",
    "version": 3
   },
   "file_extension": ".py",
   "mimetype": "text/x-python",
   "name": "python",
   "nbconvert_exporter": "python",
   "pygments_lexer": "ipython3",
   "version": "3.8.18"
  }
 },
 "nbformat": 4,
 "nbformat_minor": 5
}
