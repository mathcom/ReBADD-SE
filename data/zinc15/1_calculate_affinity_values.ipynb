{
 "cells": [
  {
   "cell_type": "code",
   "execution_count": null,
   "id": "7300acc4-5c2f-41ed-9ad3-c86ff3fa52be",
   "metadata": {},
   "outputs": [],
   "source": [
    "import os\n",
    "import sys\n",
    "import tqdm\n",
    "import pandas as pd"
   ]
  },
  {
   "cell_type": "code",
   "execution_count": null,
   "id": "4a014660-da17-4ee7-bb51-46402ee4e802",
   "metadata": {},
   "outputs": [],
   "source": [
    "import torch"
   ]
  },
  {
   "cell_type": "code",
   "execution_count": null,
   "id": "d47990b7-26dd-4902-b7f8-761efc242dda",
   "metadata": {},
   "outputs": [],
   "source": [
    "REBADD_PATH = os.path.abspath(os.path.join(os.getcwd(), os.pardir, os.pardir, 'rebadd'))\n",
    "if REBADD_PATH not in sys.path:\n",
    "    sys.path = [REBADD_PATH] + sys.path\n",
    "    \n",
    "from bindutils import BAScorerBCL2, BAScorerBCLXL, BAScorerBCLW"
   ]
  },
  {
   "cell_type": "markdown",
   "id": "b8076988-9e7d-483b-af2c-3d7ad8aef25e",
   "metadata": {},
   "source": [
    "# 1. Load SMILES data"
   ]
  },
  {
   "cell_type": "code",
   "execution_count": null,
   "id": "78c2c1af-fe1e-4b3c-b487-5fd2ae0c4ce8",
   "metadata": {},
   "outputs": [],
   "source": [
    "filepath_input = 'zinc15_raw_to_canonical.csv'"
   ]
  },
  {
   "cell_type": "code",
   "execution_count": null,
   "id": "846eef32-62a4-429a-bc66-db4666f7efc8",
   "metadata": {},
   "outputs": [],
   "source": [
    "df = pd.read_csv(filepath_input) # columns : [zinc_id, smiles, mwt, logp, length]"
   ]
  },
  {
   "cell_type": "code",
   "execution_count": null,
   "id": "ee5b4d19-6a96-4b52-b57a-33710d4583ff",
   "metadata": {},
   "outputs": [],
   "source": [
    "print(f'Number of SMILES: {df.shape[0]}')"
   ]
  },
  {
   "cell_type": "markdown",
   "id": "7d4aae15-4ae3-4a05-8013-76d9514a7a25",
   "metadata": {},
   "source": [
    "# 2. GPU check"
   ]
  },
  {
   "cell_type": "code",
   "execution_count": null,
   "id": "ab957ac3-6b1f-45ee-adbf-3e5adbf2a6e4",
   "metadata": {},
   "outputs": [],
   "source": [
    "use_cuda = torch.cuda.is_available()\n",
    "device = torch.device(\"cuda:0\" if use_cuda else \"cpu\")\n",
    "print(use_cuda, device)"
   ]
  },
  {
   "cell_type": "markdown",
   "id": "e879b8ad-11e1-4989-8a83-6b4ef54d6b41",
   "metadata": {},
   "source": [
    "# 3. DTA"
   ]
  },
  {
   "cell_type": "code",
   "execution_count": null,
   "id": "1afb18cb-d29d-4804-8d1a-8cbc9de8e7b7",
   "metadata": {},
   "outputs": [],
   "source": [
    "scorer_bcl2  = BAScorerBCL2(device, use_cuda)\n",
    "scorer_bclxl = BAScorerBCLXL(device, use_cuda)\n",
    "scorer_bclw  = BAScorerBCLW(device, use_cuda)"
   ]
  },
  {
   "cell_type": "markdown",
   "id": "23aebb32-942b-439e-86a3-0cf45cb6f3c4",
   "metadata": {},
   "source": [
    "# 4. Prediction"
   ]
  },
  {
   "cell_type": "code",
   "execution_count": null,
   "id": "1d55cef7-c645-4c35-9537-31e00d7e658e",
   "metadata": {},
   "outputs": [],
   "source": [
    "data = []\n",
    "\n",
    "for i in tqdm.trange(df.shape[0]):\n",
    "    record = {\n",
    "        'zinc_id':df.loc[i,'zinc_id'],\n",
    "        'smiles':df.loc[i,'smiles'],\n",
    "        'mwt':df.loc[i,'mwt'],\n",
    "        'logp':df.loc[i,'logp'],\n",
    "        'length':df.loc[i,'length'],\n",
    "    }\n",
    "\n",
    "    try:\n",
    "        smi = record['smiles']\n",
    "        record['ba_bcl2']  = scorer_bcl2(smi)\n",
    "        record['ba_bclxl'] = scorer_bclxl(smi)\n",
    "        record['ba_bclw']  = scorer_bclw(smi)\n",
    "        data.append(record)\n",
    "    except:\n",
    "        continue"
   ]
  },
  {
   "cell_type": "markdown",
   "id": "73892bbb-17dd-4203-be75-40d503d6eda7",
   "metadata": {},
   "source": [
    "# 5. Make a table"
   ]
  },
  {
   "cell_type": "code",
   "execution_count": null,
   "id": "f98606fa-c3af-415f-8e59-565d5aa0e2c4",
   "metadata": {},
   "outputs": [],
   "source": [
    "df_res = pd.DataFrame(data)\n",
    "print(f'Number of SMILES whose scores are available: {df_res.shape[0]}')"
   ]
  },
  {
   "cell_type": "markdown",
   "id": "a221708d-e0dd-47c4-9dfd-4df9d56f8376",
   "metadata": {},
   "source": [
    "# 6. Save the result table"
   ]
  },
  {
   "cell_type": "code",
   "execution_count": null,
   "id": "7d6dc05a-94b0-4abb-9ba6-b843e93b15a5",
   "metadata": {},
   "outputs": [],
   "source": [
    "filepath_output = 'zinc15_canonical_to_bcl2family.csv'"
   ]
  },
  {
   "cell_type": "code",
   "execution_count": null,
   "id": "cc733a1c-c96e-4297-a96d-13136fac7287",
   "metadata": {},
   "outputs": [],
   "source": [
    "df_res.to_csv(filepath_output, sep=',', index=False)\n",
    "print(f'The result is saved in {filepath_output}')"
   ]
  }
 ],
 "metadata": {
  "kernelspec": {
   "display_name": "Python 3 (ipykernel)",
   "language": "python",
   "name": "python3"
  },
  "language_info": {
   "codemirror_mode": {
    "name": "ipython",
    "version": 3
   },
   "file_extension": ".py",
   "mimetype": "text/x-python",
   "name": "python",
   "nbconvert_exporter": "python",
   "pygments_lexer": "ipython3",
   "version": "3.8.18"
  }
 },
 "nbformat": 4,
 "nbformat_minor": 5
}
