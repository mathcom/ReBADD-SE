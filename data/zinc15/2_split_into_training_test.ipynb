{
 "cells": [
  {
   "cell_type": "code",
   "execution_count": 1,
   "id": "c90833f5",
   "metadata": {},
   "outputs": [],
   "source": [
    "import os\n",
    "import tqdm\n",
    "import pandas as pd\n",
    "import networkx as nx\n",
    "from rdkit import Chem"
   ]
  },
  {
   "cell_type": "code",
   "execution_count": 2,
   "id": "a60a4136",
   "metadata": {},
   "outputs": [],
   "source": [
    "df_raw = pd.read_csv('zinc15_canonical_to_bcl2family.csv')"
   ]
  },
  {
   "cell_type": "markdown",
   "id": "d07f5774",
   "metadata": {},
   "source": [
    "# Filtering by the number of rings"
   ]
  },
  {
   "cell_type": "code",
   "execution_count": 3,
   "id": "4e8b0302",
   "metadata": {},
   "outputs": [],
   "source": [
    "df_raw = df_raw.drop_duplicates(subset=('smiles',), ignore_index=True)"
   ]
  },
  {
   "cell_type": "code",
   "execution_count": 4,
   "id": "4dea7f65",
   "metadata": {},
   "outputs": [],
   "source": [
    "def GetNumRings(smi):\n",
    "    '''\n",
    "    Reference: https://github.com/wengong-jin/iclr19-graph2graph/blob/master/props/properties.py\n",
    "    '''\n",
    "    mol = Chem.MolFromSmiles(smi)\n",
    "    cycle_list = nx.cycle_basis(nx.Graph(Chem.rdmolops.GetAdjacencyMatrix(mol)))\n",
    "    return len(cycle_list)"
   ]
  },
  {
   "cell_type": "code",
   "execution_count": 5,
   "id": "cf84537e",
   "metadata": {},
   "outputs": [
    {
     "name": "stderr",
     "output_type": "stream",
     "text": [
      "100%|██████████| 600778/600778 [05:00<00:00, 1997.28it/s]\n"
     ]
    }
   ],
   "source": [
    "cnt_rings = []\n",
    "\n",
    "for smi in tqdm.tqdm(df_raw.loc[:,'smiles'].values, total=len(df_raw)):\n",
    "    cnt_rings.append(GetNumRings(smi))\n",
    "\n",
    "df_raw.loc[:,'cnt_ring'] = cnt_rings"
   ]
  },
  {
   "cell_type": "code",
   "execution_count": 6,
   "id": "b241fbed",
   "metadata": {},
   "outputs": [],
   "source": [
    "df_filtered = df_raw[df_raw['cnt_ring'] < 10].reset_index()"
   ]
  },
  {
   "cell_type": "code",
   "execution_count": 7,
   "id": "005627d5",
   "metadata": {},
   "outputs": [
    {
     "name": "stdout",
     "output_type": "stream",
     "text": [
      "Total of molecules: 600119\n"
     ]
    },
    {
     "data": {
      "text/html": [
       "<div>\n",
       "<style scoped>\n",
       "    .dataframe tbody tr th:only-of-type {\n",
       "        vertical-align: middle;\n",
       "    }\n",
       "\n",
       "    .dataframe tbody tr th {\n",
       "        vertical-align: top;\n",
       "    }\n",
       "\n",
       "    .dataframe thead th {\n",
       "        text-align: right;\n",
       "    }\n",
       "</style>\n",
       "<table border=\"1\" class=\"dataframe\">\n",
       "  <thead>\n",
       "    <tr style=\"text-align: right;\">\n",
       "      <th></th>\n",
       "      <th>index</th>\n",
       "      <th>zinc_id</th>\n",
       "      <th>smiles</th>\n",
       "      <th>mwt</th>\n",
       "      <th>logp</th>\n",
       "      <th>length</th>\n",
       "      <th>ba_bcl2</th>\n",
       "      <th>ba_bclxl</th>\n",
       "      <th>ba_bclw</th>\n",
       "      <th>cnt_ring</th>\n",
       "    </tr>\n",
       "  </thead>\n",
       "  <tbody>\n",
       "    <tr>\n",
       "      <th>0</th>\n",
       "      <td>0</td>\n",
       "      <td>100294498</td>\n",
       "      <td>CCCCCCc1cn(C2CC(O)C(COP(=O)(O)OP(=O)(O)OP(=O)(...</td>\n",
       "      <td>552.303</td>\n",
       "      <td>0.651</td>\n",
       "      <td>66</td>\n",
       "      <td>6.027321</td>\n",
       "      <td>5.739085</td>\n",
       "      <td>5.318719</td>\n",
       "      <td>2</td>\n",
       "    </tr>\n",
       "    <tr>\n",
       "      <th>1</th>\n",
       "      <td>1</td>\n",
       "      <td>267331246</td>\n",
       "      <td>CC(C)=CC1COC23CC4(CO2)C(CCC2C5(C)CCC(OC6OCC(O)...</td>\n",
       "      <td>899.081</td>\n",
       "      <td>0.463</td>\n",
       "      <td>112</td>\n",
       "      <td>5.350236</td>\n",
       "      <td>4.991594</td>\n",
       "      <td>4.677246</td>\n",
       "      <td>9</td>\n",
       "    </tr>\n",
       "    <tr>\n",
       "      <th>2</th>\n",
       "      <td>2</td>\n",
       "      <td>223705858</td>\n",
       "      <td>CC(=O)OCC1(C(=O)O)C(CC(=O)O)=C(C(=O)OC2=CCOC=C...</td>\n",
       "      <td>538.414</td>\n",
       "      <td>0.210</td>\n",
       "      <td>77</td>\n",
       "      <td>4.933928</td>\n",
       "      <td>4.714845</td>\n",
       "      <td>5.049777</td>\n",
       "      <td>2</td>\n",
       "    </tr>\n",
       "    <tr>\n",
       "      <th>3</th>\n",
       "      <td>3</td>\n",
       "      <td>15721567</td>\n",
       "      <td>CN(CCc1ccccc1)C(=O)CNC(=O)C(CCS(C)=O)NC(=O)C(N...</td>\n",
       "      <td>502.637</td>\n",
       "      <td>0.333</td>\n",
       "      <td>59</td>\n",
       "      <td>5.222250</td>\n",
       "      <td>5.273129</td>\n",
       "      <td>4.764635</td>\n",
       "      <td>2</td>\n",
       "    </tr>\n",
       "    <tr>\n",
       "      <th>4</th>\n",
       "      <td>4</td>\n",
       "      <td>575417981</td>\n",
       "      <td>CC(=O)NC1C(OC2C(COC(C)=O)OC(Oc3ccc4c(C)cc(=O)o...</td>\n",
       "      <td>792.744</td>\n",
       "      <td>0.246</td>\n",
       "      <td>102</td>\n",
       "      <td>4.905717</td>\n",
       "      <td>4.914623</td>\n",
       "      <td>4.521364</td>\n",
       "      <td>4</td>\n",
       "    </tr>\n",
       "    <tr>\n",
       "      <th>...</th>\n",
       "      <td>...</td>\n",
       "      <td>...</td>\n",
       "      <td>...</td>\n",
       "      <td>...</td>\n",
       "      <td>...</td>\n",
       "      <td>...</td>\n",
       "      <td>...</td>\n",
       "      <td>...</td>\n",
       "      <td>...</td>\n",
       "      <td>...</td>\n",
       "    </tr>\n",
       "    <tr>\n",
       "      <th>600114</th>\n",
       "      <td>600773</td>\n",
       "      <td>409268530</td>\n",
       "      <td>COc1cc(C=C2SC(=S)N(Cc3ccco3)C2=O)ccc1OCC(=O)Nc...</td>\n",
       "      <td>529.039</td>\n",
       "      <td>5.669</td>\n",
       "      <td>60</td>\n",
       "      <td>5.851861</td>\n",
       "      <td>5.564353</td>\n",
       "      <td>5.456973</td>\n",
       "      <td>4</td>\n",
       "    </tr>\n",
       "    <tr>\n",
       "      <th>600115</th>\n",
       "      <td>600774</td>\n",
       "      <td>409344691</td>\n",
       "      <td>CCOC(=O)COc1c(Br)cc(C=C2SC(=S)N(c3cccc(SC)c3)C...</td>\n",
       "      <td>554.509</td>\n",
       "      <td>5.527</td>\n",
       "      <td>55</td>\n",
       "      <td>6.331471</td>\n",
       "      <td>6.066432</td>\n",
       "      <td>5.528964</td>\n",
       "      <td>3</td>\n",
       "    </tr>\n",
       "    <tr>\n",
       "      <th>600116</th>\n",
       "      <td>600775</td>\n",
       "      <td>409352639</td>\n",
       "      <td>COc1cc(C=C2SC(=S)N(c3cccc(C(F)(F)F)c3)C2=O)cc(...</td>\n",
       "      <td>504.349</td>\n",
       "      <td>5.891</td>\n",
       "      <td>53</td>\n",
       "      <td>6.018271</td>\n",
       "      <td>5.518678</td>\n",
       "      <td>5.613740</td>\n",
       "      <td>3</td>\n",
       "    </tr>\n",
       "    <tr>\n",
       "      <th>600117</th>\n",
       "      <td>600776</td>\n",
       "      <td>409369685</td>\n",
       "      <td>COc1cc(C=C2SC(=S)N(NC(=O)Nc3ccc(Cl)c(Cl)c3)C2=...</td>\n",
       "      <td>636.451</td>\n",
       "      <td>6.549</td>\n",
       "      <td>87</td>\n",
       "      <td>6.204907</td>\n",
       "      <td>6.185677</td>\n",
       "      <td>6.270988</td>\n",
       "      <td>4</td>\n",
       "    </tr>\n",
       "    <tr>\n",
       "      <th>600118</th>\n",
       "      <td>600777</td>\n",
       "      <td>409380109</td>\n",
       "      <td>CCOc1cc(C=C2C(=O)NC(=S)N(c3ccc(CC)cc3)C2=O)ccc...</td>\n",
       "      <td>521.038</td>\n",
       "      <td>5.711</td>\n",
       "      <td>59</td>\n",
       "      <td>6.083230</td>\n",
       "      <td>6.598084</td>\n",
       "      <td>5.672007</td>\n",
       "      <td>4</td>\n",
       "    </tr>\n",
       "  </tbody>\n",
       "</table>\n",
       "<p>600119 rows × 10 columns</p>\n",
       "</div>"
      ],
      "text/plain": [
       "         index    zinc_id                                             smiles  \\\n",
       "0            0  100294498  CCCCCCc1cn(C2CC(O)C(COP(=O)(O)OP(=O)(O)OP(=O)(...   \n",
       "1            1  267331246  CC(C)=CC1COC23CC4(CO2)C(CCC2C5(C)CCC(OC6OCC(O)...   \n",
       "2            2  223705858  CC(=O)OCC1(C(=O)O)C(CC(=O)O)=C(C(=O)OC2=CCOC=C...   \n",
       "3            3   15721567  CN(CCc1ccccc1)C(=O)CNC(=O)C(CCS(C)=O)NC(=O)C(N...   \n",
       "4            4  575417981  CC(=O)NC1C(OC2C(COC(C)=O)OC(Oc3ccc4c(C)cc(=O)o...   \n",
       "...        ...        ...                                                ...   \n",
       "600114  600773  409268530  COc1cc(C=C2SC(=S)N(Cc3ccco3)C2=O)ccc1OCC(=O)Nc...   \n",
       "600115  600774  409344691  CCOC(=O)COc1c(Br)cc(C=C2SC(=S)N(c3cccc(SC)c3)C...   \n",
       "600116  600775  409352639  COc1cc(C=C2SC(=S)N(c3cccc(C(F)(F)F)c3)C2=O)cc(...   \n",
       "600117  600776  409369685  COc1cc(C=C2SC(=S)N(NC(=O)Nc3ccc(Cl)c(Cl)c3)C2=...   \n",
       "600118  600777  409380109  CCOc1cc(C=C2C(=O)NC(=S)N(c3ccc(CC)cc3)C2=O)ccc...   \n",
       "\n",
       "            mwt   logp  length   ba_bcl2  ba_bclxl   ba_bclw  cnt_ring  \n",
       "0       552.303  0.651      66  6.027321  5.739085  5.318719         2  \n",
       "1       899.081  0.463     112  5.350236  4.991594  4.677246         9  \n",
       "2       538.414  0.210      77  4.933928  4.714845  5.049777         2  \n",
       "3       502.637  0.333      59  5.222250  5.273129  4.764635         2  \n",
       "4       792.744  0.246     102  4.905717  4.914623  4.521364         4  \n",
       "...         ...    ...     ...       ...       ...       ...       ...  \n",
       "600114  529.039  5.669      60  5.851861  5.564353  5.456973         4  \n",
       "600115  554.509  5.527      55  6.331471  6.066432  5.528964         3  \n",
       "600116  504.349  5.891      53  6.018271  5.518678  5.613740         3  \n",
       "600117  636.451  6.549      87  6.204907  6.185677  6.270988         4  \n",
       "600118  521.038  5.711      59  6.083230  6.598084  5.672007         4  \n",
       "\n",
       "[600119 rows x 10 columns]"
      ]
     },
     "execution_count": 7,
     "metadata": {},
     "output_type": "execute_result"
    }
   ],
   "source": [
    "print(f\"Total of molecules: {len(df_filtered)}\")\n",
    "df_filtered"
   ]
  },
  {
   "cell_type": "markdown",
   "id": "29f13c47",
   "metadata": {},
   "source": [
    "# Test data: three Bcl-2 family inhibitors"
   ]
  },
  {
   "cell_type": "code",
   "execution_count": 8,
   "id": "24d8dd87",
   "metadata": {},
   "outputs": [],
   "source": [
    "def get_canonical(smi):\n",
    "    mol = Chem.MolFromSmiles(smi)\n",
    "    return Chem.MolToSmiles(mol, isomericSmiles=False)"
   ]
  },
  {
   "cell_type": "code",
   "execution_count": 9,
   "id": "6aeeb7bf",
   "metadata": {},
   "outputs": [],
   "source": [
    "## PubChem 24978538\n",
    "smi_navitoclax = 'CC1(CCC(=C(C1)CN2CCN(CC2)C3=CC=C(C=C3)C(=O)NS(=O)(=O)C4=CC(=C(C=C4)NC(CCN5CCOCC5)CSC6=CC=CC=C6)S(=O)(=O)C(F)(F)F)C7=CC=C(C=C7)Cl)C'\n",
    "smi_navitoclax = get_canonical(smi_navitoclax)\n",
    "\n",
    "## PubChem 11228183\n",
    "smi_abt737 = 'CN(C)CCC(CSC1=CC=CC=C1)NC2=C(C=C(C=C2)S(=O)(=O)NC(=O)C3=CC=C(C=C3)N4CCN(CC4)CC5=CC=CC=C5C6=CC=C(C=C6)Cl)[N+](=O)[O-]'\n",
    "smi_abt737 = get_canonical(smi_abt737)\n",
    "\n",
    "## PubChem 49846579\n",
    "smi_venetoclax = 'CC1(CCC(=C(C1)C2=CC=C(C=C2)Cl)CN3CCN(CC3)C4=CC(=C(C=C4)C(=O)NS(=O)(=O)C5=CC(=C(C=C5)NCC6CCOCC6)[N+](=O)[O-])OC7=CN=C8C(=C7)C=CN8)C'\n",
    "smi_venetoclax = get_canonical(smi_venetoclax)"
   ]
  },
  {
   "cell_type": "code",
   "execution_count": 10,
   "id": "80492b36",
   "metadata": {},
   "outputs": [
    {
     "data": {
      "text/plain": [
       "True"
      ]
     },
     "execution_count": 10,
     "metadata": {},
     "output_type": "execute_result"
    }
   ],
   "source": [
    "smi_navitoclax in df_filtered['smiles'].values"
   ]
  },
  {
   "cell_type": "code",
   "execution_count": 11,
   "id": "75a11a1a",
   "metadata": {},
   "outputs": [
    {
     "data": {
      "text/plain": [
       "True"
      ]
     },
     "execution_count": 11,
     "metadata": {},
     "output_type": "execute_result"
    }
   ],
   "source": [
    "smi_abt737 in df_filtered['smiles'].values"
   ]
  },
  {
   "cell_type": "code",
   "execution_count": 12,
   "id": "cb2c6094",
   "metadata": {},
   "outputs": [
    {
     "data": {
      "text/plain": [
       "True"
      ]
     },
     "execution_count": 12,
     "metadata": {},
     "output_type": "execute_result"
    }
   ],
   "source": [
    "smi_venetoclax in df_filtered['smiles'].values"
   ]
  },
  {
   "cell_type": "markdown",
   "id": "741dbfee",
   "metadata": {},
   "source": [
    "# Spliting into Training and Test"
   ]
  },
  {
   "cell_type": "code",
   "execution_count": 13,
   "id": "b6656403",
   "metadata": {},
   "outputs": [
    {
     "name": "stdout",
     "output_type": "stream",
     "text": [
      "False    600116\n",
      "True          3\n",
      "Name: smiles, dtype: int64\n"
     ]
    }
   ],
   "source": [
    "idx_test = df_filtered['smiles'].map(lambda x:x in {smi_navitoclax, smi_abt737, smi_venetoclax})\n",
    "print(idx_test.value_counts())"
   ]
  },
  {
   "cell_type": "code",
   "execution_count": 14,
   "id": "ba35b755",
   "metadata": {},
   "outputs": [
    {
     "data": {
      "text/html": [
       "<div>\n",
       "<style scoped>\n",
       "    .dataframe tbody tr th:only-of-type {\n",
       "        vertical-align: middle;\n",
       "    }\n",
       "\n",
       "    .dataframe tbody tr th {\n",
       "        vertical-align: top;\n",
       "    }\n",
       "\n",
       "    .dataframe thead th {\n",
       "        text-align: right;\n",
       "    }\n",
       "</style>\n",
       "<table border=\"1\" class=\"dataframe\">\n",
       "  <thead>\n",
       "    <tr style=\"text-align: right;\">\n",
       "      <th></th>\n",
       "      <th>index</th>\n",
       "      <th>zinc_id</th>\n",
       "      <th>smiles</th>\n",
       "      <th>mwt</th>\n",
       "      <th>logp</th>\n",
       "      <th>length</th>\n",
       "      <th>ba_bcl2</th>\n",
       "      <th>ba_bclxl</th>\n",
       "      <th>ba_bclw</th>\n",
       "      <th>cnt_ring</th>\n",
       "    </tr>\n",
       "  </thead>\n",
       "  <tbody>\n",
       "    <tr>\n",
       "      <th>0</th>\n",
       "      <td>168705</td>\n",
       "      <td>150338726</td>\n",
       "      <td>CC1(C)CCC(c2ccc(Cl)cc2)=C(CN2CCN(c3ccc(C(=O)NS...</td>\n",
       "      <td>974.634</td>\n",
       "      <td>8.833</td>\n",
       "      <td>118</td>\n",
       "      <td>9.745277</td>\n",
       "      <td>7.524013</td>\n",
       "      <td>6.596804</td>\n",
       "      <td>7</td>\n",
       "    </tr>\n",
       "    <tr>\n",
       "      <th>1</th>\n",
       "      <td>456720</td>\n",
       "      <td>150368814</td>\n",
       "      <td>CN(C)CCC(CSc1ccccc1)Nc1ccc(S(=O)(=O)NC(=O)c2cc...</td>\n",
       "      <td>813.446</td>\n",
       "      <td>7.881</td>\n",
       "      <td>100</td>\n",
       "      <td>8.391831</td>\n",
       "      <td>9.042492</td>\n",
       "      <td>7.400223</td>\n",
       "      <td>6</td>\n",
       "    </tr>\n",
       "    <tr>\n",
       "      <th>2</th>\n",
       "      <td>457667</td>\n",
       "      <td>150338755</td>\n",
       "      <td>CC1(C)CCC(CN2CCN(c3ccc(C(=O)NS(=O)(=O)c4ccc(NC...</td>\n",
       "      <td>868.457</td>\n",
       "      <td>8.660</td>\n",
       "      <td>118</td>\n",
       "      <td>10.447940</td>\n",
       "      <td>8.814969</td>\n",
       "      <td>6.717071</td>\n",
       "      <td>8</td>\n",
       "    </tr>\n",
       "  </tbody>\n",
       "</table>\n",
       "</div>"
      ],
      "text/plain": [
       "    index    zinc_id                                             smiles  \\\n",
       "0  168705  150338726  CC1(C)CCC(c2ccc(Cl)cc2)=C(CN2CCN(c3ccc(C(=O)NS...   \n",
       "1  456720  150368814  CN(C)CCC(CSc1ccccc1)Nc1ccc(S(=O)(=O)NC(=O)c2cc...   \n",
       "2  457667  150338755  CC1(C)CCC(CN2CCN(c3ccc(C(=O)NS(=O)(=O)c4ccc(NC...   \n",
       "\n",
       "       mwt   logp  length    ba_bcl2  ba_bclxl   ba_bclw  cnt_ring  \n",
       "0  974.634  8.833     118   9.745277  7.524013  6.596804         7  \n",
       "1  813.446  7.881     100   8.391831  9.042492  7.400223         6  \n",
       "2  868.457  8.660     118  10.447940  8.814969  6.717071         8  "
      ]
     },
     "execution_count": 14,
     "metadata": {},
     "output_type": "execute_result"
    }
   ],
   "source": [
    "df_test = df_filtered[idx_test].reset_index(drop=True).copy()\n",
    "df_test"
   ]
  },
  {
   "cell_type": "code",
   "execution_count": 15,
   "id": "4109299f",
   "metadata": {},
   "outputs": [
    {
     "data": {
      "text/html": [
       "<div>\n",
       "<style scoped>\n",
       "    .dataframe tbody tr th:only-of-type {\n",
       "        vertical-align: middle;\n",
       "    }\n",
       "\n",
       "    .dataframe tbody tr th {\n",
       "        vertical-align: top;\n",
       "    }\n",
       "\n",
       "    .dataframe thead th {\n",
       "        text-align: right;\n",
       "    }\n",
       "</style>\n",
       "<table border=\"1\" class=\"dataframe\">\n",
       "  <thead>\n",
       "    <tr style=\"text-align: right;\">\n",
       "      <th></th>\n",
       "      <th>index</th>\n",
       "      <th>zinc_id</th>\n",
       "      <th>smiles</th>\n",
       "      <th>mwt</th>\n",
       "      <th>logp</th>\n",
       "      <th>length</th>\n",
       "      <th>ba_bcl2</th>\n",
       "      <th>ba_bclxl</th>\n",
       "      <th>ba_bclw</th>\n",
       "      <th>cnt_ring</th>\n",
       "    </tr>\n",
       "  </thead>\n",
       "  <tbody>\n",
       "    <tr>\n",
       "      <th>0</th>\n",
       "      <td>0</td>\n",
       "      <td>100294498</td>\n",
       "      <td>CCCCCCc1cn(C2CC(O)C(COP(=O)(O)OP(=O)(O)OP(=O)(...</td>\n",
       "      <td>552.303</td>\n",
       "      <td>0.651</td>\n",
       "      <td>66</td>\n",
       "      <td>6.027321</td>\n",
       "      <td>5.739085</td>\n",
       "      <td>5.318719</td>\n",
       "      <td>2</td>\n",
       "    </tr>\n",
       "    <tr>\n",
       "      <th>1</th>\n",
       "      <td>1</td>\n",
       "      <td>267331246</td>\n",
       "      <td>CC(C)=CC1COC23CC4(CO2)C(CCC2C5(C)CCC(OC6OCC(O)...</td>\n",
       "      <td>899.081</td>\n",
       "      <td>0.463</td>\n",
       "      <td>112</td>\n",
       "      <td>5.350236</td>\n",
       "      <td>4.991594</td>\n",
       "      <td>4.677246</td>\n",
       "      <td>9</td>\n",
       "    </tr>\n",
       "    <tr>\n",
       "      <th>2</th>\n",
       "      <td>2</td>\n",
       "      <td>223705858</td>\n",
       "      <td>CC(=O)OCC1(C(=O)O)C(CC(=O)O)=C(C(=O)OC2=CCOC=C...</td>\n",
       "      <td>538.414</td>\n",
       "      <td>0.210</td>\n",
       "      <td>77</td>\n",
       "      <td>4.933928</td>\n",
       "      <td>4.714845</td>\n",
       "      <td>5.049777</td>\n",
       "      <td>2</td>\n",
       "    </tr>\n",
       "    <tr>\n",
       "      <th>3</th>\n",
       "      <td>3</td>\n",
       "      <td>15721567</td>\n",
       "      <td>CN(CCc1ccccc1)C(=O)CNC(=O)C(CCS(C)=O)NC(=O)C(N...</td>\n",
       "      <td>502.637</td>\n",
       "      <td>0.333</td>\n",
       "      <td>59</td>\n",
       "      <td>5.222250</td>\n",
       "      <td>5.273129</td>\n",
       "      <td>4.764635</td>\n",
       "      <td>2</td>\n",
       "    </tr>\n",
       "    <tr>\n",
       "      <th>4</th>\n",
       "      <td>4</td>\n",
       "      <td>575417981</td>\n",
       "      <td>CC(=O)NC1C(OC2C(COC(C)=O)OC(Oc3ccc4c(C)cc(=O)o...</td>\n",
       "      <td>792.744</td>\n",
       "      <td>0.246</td>\n",
       "      <td>102</td>\n",
       "      <td>4.905717</td>\n",
       "      <td>4.914623</td>\n",
       "      <td>4.521364</td>\n",
       "      <td>4</td>\n",
       "    </tr>\n",
       "    <tr>\n",
       "      <th>...</th>\n",
       "      <td>...</td>\n",
       "      <td>...</td>\n",
       "      <td>...</td>\n",
       "      <td>...</td>\n",
       "      <td>...</td>\n",
       "      <td>...</td>\n",
       "      <td>...</td>\n",
       "      <td>...</td>\n",
       "      <td>...</td>\n",
       "      <td>...</td>\n",
       "    </tr>\n",
       "    <tr>\n",
       "      <th>600111</th>\n",
       "      <td>600773</td>\n",
       "      <td>409268530</td>\n",
       "      <td>COc1cc(C=C2SC(=S)N(Cc3ccco3)C2=O)ccc1OCC(=O)Nc...</td>\n",
       "      <td>529.039</td>\n",
       "      <td>5.669</td>\n",
       "      <td>60</td>\n",
       "      <td>5.851861</td>\n",
       "      <td>5.564353</td>\n",
       "      <td>5.456973</td>\n",
       "      <td>4</td>\n",
       "    </tr>\n",
       "    <tr>\n",
       "      <th>600112</th>\n",
       "      <td>600774</td>\n",
       "      <td>409344691</td>\n",
       "      <td>CCOC(=O)COc1c(Br)cc(C=C2SC(=S)N(c3cccc(SC)c3)C...</td>\n",
       "      <td>554.509</td>\n",
       "      <td>5.527</td>\n",
       "      <td>55</td>\n",
       "      <td>6.331471</td>\n",
       "      <td>6.066432</td>\n",
       "      <td>5.528964</td>\n",
       "      <td>3</td>\n",
       "    </tr>\n",
       "    <tr>\n",
       "      <th>600113</th>\n",
       "      <td>600775</td>\n",
       "      <td>409352639</td>\n",
       "      <td>COc1cc(C=C2SC(=S)N(c3cccc(C(F)(F)F)c3)C2=O)cc(...</td>\n",
       "      <td>504.349</td>\n",
       "      <td>5.891</td>\n",
       "      <td>53</td>\n",
       "      <td>6.018271</td>\n",
       "      <td>5.518678</td>\n",
       "      <td>5.613740</td>\n",
       "      <td>3</td>\n",
       "    </tr>\n",
       "    <tr>\n",
       "      <th>600114</th>\n",
       "      <td>600776</td>\n",
       "      <td>409369685</td>\n",
       "      <td>COc1cc(C=C2SC(=S)N(NC(=O)Nc3ccc(Cl)c(Cl)c3)C2=...</td>\n",
       "      <td>636.451</td>\n",
       "      <td>6.549</td>\n",
       "      <td>87</td>\n",
       "      <td>6.204907</td>\n",
       "      <td>6.185677</td>\n",
       "      <td>6.270988</td>\n",
       "      <td>4</td>\n",
       "    </tr>\n",
       "    <tr>\n",
       "      <th>600115</th>\n",
       "      <td>600777</td>\n",
       "      <td>409380109</td>\n",
       "      <td>CCOc1cc(C=C2C(=O)NC(=S)N(c3ccc(CC)cc3)C2=O)ccc...</td>\n",
       "      <td>521.038</td>\n",
       "      <td>5.711</td>\n",
       "      <td>59</td>\n",
       "      <td>6.083230</td>\n",
       "      <td>6.598084</td>\n",
       "      <td>5.672007</td>\n",
       "      <td>4</td>\n",
       "    </tr>\n",
       "  </tbody>\n",
       "</table>\n",
       "<p>600116 rows × 10 columns</p>\n",
       "</div>"
      ],
      "text/plain": [
       "         index    zinc_id                                             smiles  \\\n",
       "0            0  100294498  CCCCCCc1cn(C2CC(O)C(COP(=O)(O)OP(=O)(O)OP(=O)(...   \n",
       "1            1  267331246  CC(C)=CC1COC23CC4(CO2)C(CCC2C5(C)CCC(OC6OCC(O)...   \n",
       "2            2  223705858  CC(=O)OCC1(C(=O)O)C(CC(=O)O)=C(C(=O)OC2=CCOC=C...   \n",
       "3            3   15721567  CN(CCc1ccccc1)C(=O)CNC(=O)C(CCS(C)=O)NC(=O)C(N...   \n",
       "4            4  575417981  CC(=O)NC1C(OC2C(COC(C)=O)OC(Oc3ccc4c(C)cc(=O)o...   \n",
       "...        ...        ...                                                ...   \n",
       "600111  600773  409268530  COc1cc(C=C2SC(=S)N(Cc3ccco3)C2=O)ccc1OCC(=O)Nc...   \n",
       "600112  600774  409344691  CCOC(=O)COc1c(Br)cc(C=C2SC(=S)N(c3cccc(SC)c3)C...   \n",
       "600113  600775  409352639  COc1cc(C=C2SC(=S)N(c3cccc(C(F)(F)F)c3)C2=O)cc(...   \n",
       "600114  600776  409369685  COc1cc(C=C2SC(=S)N(NC(=O)Nc3ccc(Cl)c(Cl)c3)C2=...   \n",
       "600115  600777  409380109  CCOc1cc(C=C2C(=O)NC(=S)N(c3ccc(CC)cc3)C2=O)ccc...   \n",
       "\n",
       "            mwt   logp  length   ba_bcl2  ba_bclxl   ba_bclw  cnt_ring  \n",
       "0       552.303  0.651      66  6.027321  5.739085  5.318719         2  \n",
       "1       899.081  0.463     112  5.350236  4.991594  4.677246         9  \n",
       "2       538.414  0.210      77  4.933928  4.714845  5.049777         2  \n",
       "3       502.637  0.333      59  5.222250  5.273129  4.764635         2  \n",
       "4       792.744  0.246     102  4.905717  4.914623  4.521364         4  \n",
       "...         ...    ...     ...       ...       ...       ...       ...  \n",
       "600111  529.039  5.669      60  5.851861  5.564353  5.456973         4  \n",
       "600112  554.509  5.527      55  6.331471  6.066432  5.528964         3  \n",
       "600113  504.349  5.891      53  6.018271  5.518678  5.613740         3  \n",
       "600114  636.451  6.549      87  6.204907  6.185677  6.270988         4  \n",
       "600115  521.038  5.711      59  6.083230  6.598084  5.672007         4  \n",
       "\n",
       "[600116 rows x 10 columns]"
      ]
     },
     "execution_count": 15,
     "metadata": {},
     "output_type": "execute_result"
    }
   ],
   "source": [
    "df_train = df_filtered[~idx_test].reset_index(drop=True).copy()\n",
    "df_train"
   ]
  },
  {
   "cell_type": "markdown",
   "id": "1f0a6868",
   "metadata": {},
   "source": [
    "# Vocabulary check"
   ]
  },
  {
   "cell_type": "code",
   "execution_count": 16,
   "id": "f51be1c8",
   "metadata": {},
   "outputs": [
    {
     "name": "stdout",
     "output_type": "stream",
     "text": [
      "32\n",
      "['#', '(', ')', '+', '-', '1', '2', '3', '4', '5', '6', '7', '8', '9', '=', 'B', 'C', 'F', 'H', 'N', 'O', 'P', 'S', '[', ']', 'c', 'l', 'n', 'o', 'p', 'r', 's']\n"
     ]
    }
   ],
   "source": [
    "vocab_tr = set()\n",
    "for smi in df_train.loc[:,\"smiles\"]:\n",
    "    vocab_tr = vocab_tr.union(set(smi))\n",
    "print(len(vocab_tr))\n",
    "print(sorted(list(vocab_tr)))"
   ]
  },
  {
   "cell_type": "code",
   "execution_count": 17,
   "id": "c5cf74f3",
   "metadata": {},
   "outputs": [
    {
     "name": "stdout",
     "output_type": "stream",
     "text": [
      "21\n",
      "['(', ')', '+', '-', '1', '2', '3', '4', '5', '=', 'C', 'F', 'H', 'N', 'O', 'S', '[', ']', 'c', 'l', 'n']\n"
     ]
    }
   ],
   "source": [
    "vocab_te = set()\n",
    "for smi in df_test.loc[:,\"smiles\"]:\n",
    "    vocab_te = vocab_te.union(set(smi))\n",
    "print(len(vocab_te))\n",
    "print(sorted(list(vocab_te)))"
   ]
  },
  {
   "cell_type": "code",
   "execution_count": 18,
   "id": "ee760878",
   "metadata": {},
   "outputs": [
    {
     "data": {
      "text/plain": [
       "True"
      ]
     },
     "execution_count": 18,
     "metadata": {},
     "output_type": "execute_result"
    }
   ],
   "source": [
    "vocab_te.issubset(vocab_tr)"
   ]
  },
  {
   "cell_type": "markdown",
   "id": "8f168f24",
   "metadata": {},
   "source": [
    "# Save"
   ]
  },
  {
   "cell_type": "code",
   "execution_count": 19,
   "id": "07a77310",
   "metadata": {},
   "outputs": [],
   "source": [
    "df_train.to_csv(\"zinc15_train_full.csv\", index=False)\n",
    "df_train.loc[:,\"smiles\"].to_csv(\"zinc15_train.txt\", index=False, header=None)"
   ]
  },
  {
   "cell_type": "code",
   "execution_count": 20,
   "id": "cf2f04af",
   "metadata": {},
   "outputs": [],
   "source": [
    "df_test.to_csv(\"zinc15_test_full.csv\", index=False)\n",
    "df_test.loc[:,\"smiles\"].to_csv(\"zinc15_test.txt\", index=False, header=None)"
   ]
  },
  {
   "cell_type": "code",
   "execution_count": null,
   "id": "9d825f16",
   "metadata": {},
   "outputs": [],
   "source": []
  }
 ],
 "metadata": {
  "kernelspec": {
   "display_name": "Python 3 (ipykernel)",
   "language": "python",
   "name": "python3"
  },
  "language_info": {
   "codemirror_mode": {
    "name": "ipython",
    "version": 3
   },
   "file_extension": ".py",
   "mimetype": "text/x-python",
   "name": "python",
   "nbconvert_exporter": "python",
   "pygments_lexer": "ipython3",
   "version": "3.8.13"
  }
 },
 "nbformat": 4,
 "nbformat_minor": 5
}
