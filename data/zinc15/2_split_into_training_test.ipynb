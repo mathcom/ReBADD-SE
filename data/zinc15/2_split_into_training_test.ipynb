{
 "cells": [
  {
   "cell_type": "code",
   "execution_count": null,
   "id": "c90833f5",
   "metadata": {},
   "outputs": [],
   "source": [
    "import os\n",
    "import tqdm\n",
    "import pandas as pd\n",
    "import networkx as nx\n",
    "from rdkit import Chem"
   ]
  },
  {
   "cell_type": "code",
   "execution_count": null,
   "id": "a60a4136",
   "metadata": {},
   "outputs": [],
   "source": [
    "df_raw = pd.read_csv('zinc15_canonical_to_bcl2family.csv')"
   ]
  },
  {
   "cell_type": "markdown",
   "id": "d07f5774",
   "metadata": {},
   "source": [
    "# Filtering by the number of rings"
   ]
  },
  {
   "cell_type": "code",
   "execution_count": null,
   "id": "4e8b0302",
   "metadata": {},
   "outputs": [],
   "source": [
    "df_raw = df_raw.drop_duplicates(subset=('smiles',), ignore_index=True)"
   ]
  },
  {
   "cell_type": "code",
   "execution_count": null,
   "id": "4dea7f65",
   "metadata": {},
   "outputs": [],
   "source": [
    "def GetNumRings(smi):\n",
    "    '''\n",
    "    Reference: https://github.com/wengong-jin/iclr19-graph2graph/blob/master/props/properties.py\n",
    "    '''\n",
    "    mol = Chem.MolFromSmiles(smi)\n",
    "    cycle_list = nx.cycle_basis(nx.Graph(Chem.rdmolops.GetAdjacencyMatrix(mol)))\n",
    "    return len(cycle_list)"
   ]
  },
  {
   "cell_type": "code",
   "execution_count": null,
   "id": "cf84537e",
   "metadata": {},
   "outputs": [],
   "source": [
    "cnt_rings = []\n",
    "\n",
    "for smi in tqdm.tqdm(df_raw.loc[:,'smiles'].values, total=len(df_raw)):\n",
    "    cnt_rings.append(GetNumRings(smi))\n",
    "\n",
    "df_raw.loc[:,'cnt_ring'] = cnt_rings"
   ]
  },
  {
   "cell_type": "code",
   "execution_count": null,
   "id": "b241fbed",
   "metadata": {},
   "outputs": [],
   "source": [
    "df_filtered = df_raw[df_raw['cnt_ring'] < 10].reset_index()"
   ]
  },
  {
   "cell_type": "code",
   "execution_count": null,
   "id": "005627d5",
   "metadata": {},
   "outputs": [],
   "source": [
    "print(f\"Total of molecules: {len(df_filtered)}\")\n",
    "df_filtered"
   ]
  },
  {
   "cell_type": "markdown",
   "id": "29f13c47",
   "metadata": {},
   "source": [
    "# Test data: three Bcl-2 family inhibitors"
   ]
  },
  {
   "cell_type": "code",
   "execution_count": null,
   "id": "24d8dd87",
   "metadata": {},
   "outputs": [],
   "source": [
    "def get_canonical(smi):\n",
    "    mol = Chem.MolFromSmiles(smi)\n",
    "    return Chem.MolToSmiles(mol, isomericSmiles=False)"
   ]
  },
  {
   "cell_type": "code",
   "execution_count": null,
   "id": "6aeeb7bf",
   "metadata": {},
   "outputs": [],
   "source": [
    "## PubChem 24978538\n",
    "smi_navitoclax = 'CC1(CCC(=C(C1)CN2CCN(CC2)C3=CC=C(C=C3)C(=O)NS(=O)(=O)C4=CC(=C(C=C4)NC(CCN5CCOCC5)CSC6=CC=CC=C6)S(=O)(=O)C(F)(F)F)C7=CC=C(C=C7)Cl)C'\n",
    "smi_navitoclax = get_canonical(smi_navitoclax)\n",
    "\n",
    "## PubChem 11228183\n",
    "smi_abt737 = 'CN(C)CCC(CSC1=CC=CC=C1)NC2=C(C=C(C=C2)S(=O)(=O)NC(=O)C3=CC=C(C=C3)N4CCN(CC4)CC5=CC=CC=C5C6=CC=C(C=C6)Cl)[N+](=O)[O-]'\n",
    "smi_abt737 = get_canonical(smi_abt737)\n",
    "\n",
    "## PubChem 49846579\n",
    "smi_venetoclax = 'CC1(CCC(=C(C1)C2=CC=C(C=C2)Cl)CN3CCN(CC3)C4=CC(=C(C=C4)C(=O)NS(=O)(=O)C5=CC(=C(C=C5)NCC6CCOCC6)[N+](=O)[O-])OC7=CN=C8C(=C7)C=CN8)C'\n",
    "smi_venetoclax = get_canonical(smi_venetoclax)"
   ]
  },
  {
   "cell_type": "code",
   "execution_count": null,
   "id": "80492b36",
   "metadata": {},
   "outputs": [],
   "source": [
    "smi_navitoclax in df_filtered['smiles'].values"
   ]
  },
  {
   "cell_type": "code",
   "execution_count": null,
   "id": "75a11a1a",
   "metadata": {},
   "outputs": [],
   "source": [
    "smi_abt737 in df_filtered['smiles'].values"
   ]
  },
  {
   "cell_type": "code",
   "execution_count": null,
   "id": "cb2c6094",
   "metadata": {},
   "outputs": [],
   "source": [
    "smi_venetoclax in df_filtered['smiles'].values"
   ]
  },
  {
   "cell_type": "markdown",
   "id": "741dbfee",
   "metadata": {},
   "source": [
    "# Spliting into Training and Test"
   ]
  },
  {
   "cell_type": "code",
   "execution_count": null,
   "id": "b6656403",
   "metadata": {},
   "outputs": [],
   "source": [
    "idx_test = df_filtered['smiles'].map(lambda x:x in {smi_navitoclax, smi_abt737, smi_venetoclax})\n",
    "print(idx_test.value_counts())"
   ]
  },
  {
   "cell_type": "code",
   "execution_count": null,
   "id": "ba35b755",
   "metadata": {},
   "outputs": [],
   "source": [
    "df_test = df_filtered[idx_test].reset_index(drop=True).copy()\n",
    "df_test"
   ]
  },
  {
   "cell_type": "code",
   "execution_count": null,
   "id": "4109299f",
   "metadata": {},
   "outputs": [],
   "source": [
    "df_train = df_filtered[~idx_test].reset_index(drop=True).copy()\n",
    "df_train"
   ]
  },
  {
   "cell_type": "markdown",
   "id": "1f0a6868",
   "metadata": {},
   "source": [
    "# Vocabulary check"
   ]
  },
  {
   "cell_type": "code",
   "execution_count": null,
   "id": "f51be1c8",
   "metadata": {},
   "outputs": [],
   "source": [
    "vocab_tr = set()\n",
    "for smi in df_train.loc[:,\"smiles\"]:\n",
    "    vocab_tr = vocab_tr.union(set(smi))\n",
    "print(len(vocab_tr))\n",
    "print(sorted(list(vocab_tr)))"
   ]
  },
  {
   "cell_type": "code",
   "execution_count": null,
   "id": "c5cf74f3",
   "metadata": {},
   "outputs": [],
   "source": [
    "vocab_te = set()\n",
    "for smi in df_test.loc[:,\"smiles\"]:\n",
    "    vocab_te = vocab_te.union(set(smi))\n",
    "print(len(vocab_te))\n",
    "print(sorted(list(vocab_te)))"
   ]
  },
  {
   "cell_type": "code",
   "execution_count": null,
   "id": "ee760878",
   "metadata": {},
   "outputs": [],
   "source": [
    "vocab_te.issubset(vocab_tr)"
   ]
  },
  {
   "cell_type": "markdown",
   "id": "8f168f24",
   "metadata": {},
   "source": [
    "# Save"
   ]
  },
  {
   "cell_type": "code",
   "execution_count": null,
   "id": "07a77310",
   "metadata": {},
   "outputs": [],
   "source": [
    "df_train.to_csv(\"zinc15_train_full.csv\", index=False)\n",
    "df_train.loc[:,\"smiles\"].to_csv(\"zinc15_train.txt\", index=False, header=None)"
   ]
  },
  {
   "cell_type": "code",
   "execution_count": null,
   "id": "cf2f04af",
   "metadata": {},
   "outputs": [],
   "source": [
    "df_test.to_csv(\"zinc15_test_full.csv\", index=False)\n",
    "df_test.loc[:,\"smiles\"].to_csv(\"zinc15_test.txt\", index=False, header=None)"
   ]
  },
  {
   "cell_type": "code",
   "execution_count": null,
   "id": "9d825f16",
   "metadata": {},
   "outputs": [],
   "source": []
  }
 ],
 "metadata": {
  "kernelspec": {
   "display_name": "Python 3 (ipykernel)",
   "language": "python",
   "name": "python3"
  },
  "language_info": {
   "codemirror_mode": {
    "name": "ipython",
    "version": 3
   },
   "file_extension": ".py",
   "mimetype": "text/x-python",
   "name": "python",
   "nbconvert_exporter": "python",
   "pygments_lexer": "ipython3",
   "version": "3.8.18"
  }
 },
 "nbformat": 4,
 "nbformat_minor": 5
}
