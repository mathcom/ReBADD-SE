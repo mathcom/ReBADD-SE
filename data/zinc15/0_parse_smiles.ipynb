{
 "cells": [
  {
   "cell_type": "code",
   "execution_count": 1,
   "id": "44c1aab4-e28a-4899-9807-640c4674fa3a",
   "metadata": {},
   "outputs": [],
   "source": [
    "import os\n",
    "import pandas as pd\n",
    "import tqdm\n",
    "from rdkit import Chem"
   ]
  },
  {
   "cell_type": "markdown",
   "id": "45fce794-ed93-4efa-81da-6743a887d348",
   "metadata": {},
   "source": [
    "# 1. Raw data"
   ]
  },
  {
   "cell_type": "code",
   "execution_count": 2,
   "id": "6e1789e4-6880-4baa-b421-7046334a6e97",
   "metadata": {},
   "outputs": [],
   "source": [
    "input_dir = 'raw'\n",
    "filenames = os.listdir(input_dir)"
   ]
  },
  {
   "cell_type": "code",
   "execution_count": 3,
   "id": "7b9dcc1f-022d-4726-bb82-d7e5fe0c1ee1",
   "metadata": {},
   "outputs": [
    {
     "name": "stdout",
     "output_type": "stream",
     "text": [
      "[KIAA.txt] : (6725, 9)\n",
      "[KDBC.txt] : (22, 9)\n",
      "[KAAA.txt] : (1574, 9)\n",
      "[KFBD.txt] : (379, 9)\n",
      "[KABA.txt] : (69, 9)\n",
      "[KIBD.txt] : (181, 9)\n",
      "[KDBB.txt] : (536, 9)\n",
      "[KFAC.txt] : (292, 9)\n",
      "[KFCA.txt] : (246, 9)\n",
      "[KBCA.txt] : (63, 9)\n",
      "[KJAD.txt] : (1941, 9)\n",
      "[KJBC.txt] : (26, 9)\n",
      "[KBCB.txt] : (172, 9)\n",
      "[KHAC.txt] : (299, 9)\n",
      "[KDCC.txt] : (58, 9)\n",
      "[KHCA.txt] : (575, 9)\n",
      "[KFAA.txt] : (5255, 9)\n",
      "[KCAC.txt] : (301, 9)\n",
      "[KECD.txt] : (13, 9)\n",
      "[KCAA.txt] : (2917, 9)\n",
      "[KICA.txt] : (753, 9)\n",
      "[KECA.txt] : (123, 9)\n",
      "[KBAB.txt] : (2125, 9)\n",
      "[KBAA.txt] : (1106, 9)\n",
      "[KCBB.txt] : (202, 9)\n",
      "[KJAC.txt] : (405, 9)\n",
      "[KFCD.txt] : (6, 9)\n",
      "[KDCA.txt] : (162, 9)\n",
      "[KHAA.txt] : (6536, 9)\n",
      "[KHBA.txt] : (451, 9)\n",
      "[KBCD.txt] : (5, 9)\n",
      "[KKAC.txt] : (3013, 9)\n",
      "[KGCC.txt] : (39, 9)\n",
      "[KHBD.txt] : (280, 9)\n",
      "[KDAB.txt] : (9409, 9)\n",
      "[KABB.txt] : (98, 9)\n",
      "[KKCB.txt] : (78459, 9)\n",
      "[KFBB.txt] : (1734, 9)\n",
      "[KCAB.txt] : (3862, 9)\n",
      "[KHCD.txt] : (11, 9)\n",
      "[KKAB.txt] : (417216, 9)\n",
      "[KKBB.txt] : (34005, 9)\n",
      "[KBAD.txt] : (145, 9)\n",
      "[KCCC.txt] : (34, 9)\n",
      "[KECB.txt] : (708, 9)\n",
      "[KCCA.txt] : (128, 9)\n",
      "[KGAC.txt] : (293, 9)\n",
      "[KGAA.txt] : (6019, 9)\n",
      "[KIAB.txt] : (75558, 9)\n",
      "[KJCA.txt] : (692, 9)\n",
      "[KDCB.txt] : (730, 9)\n",
      "[KIAC.txt] : (458, 9)\n",
      "[KHAD.txt] : (5659, 9)\n",
      "[KACA.txt] : (124, 9)\n",
      "[KGBB.txt] : (3420, 9)\n",
      "[KDBD.txt] : (399, 9)\n",
      "[KCCB.txt] : (279, 9)\n",
      "[KEAB.txt] : (10370, 9)\n",
      "[KCBD.txt] : (42, 9)\n",
      "[KJBB.txt] : (8435, 9)\n",
      "[KHAB.txt] : (51490, 9)\n",
      "[KFAD.txt] : (5454, 9)\n",
      "[KGCA.txt] : (375, 9)\n",
      "[KGCD.txt] : (7, 9)\n",
      "[KGCB.txt] : (2644, 9)\n",
      "[KEBB.txt] : (802, 9)\n",
      "[KBAC.txt] : (212, 9)\n",
      "[KGBD.txt] : (405, 9)\n",
      "[KJBD.txt] : (60, 9)\n",
      "[KBBA.txt] : (20, 9)\n",
      "[KHCB.txt] : (5107, 9)\n",
      "[KKAD.txt] : (2577, 9)\n",
      "[KGAB.txt] : (31907, 9)\n",
      "[KIBA.txt] : (665, 9)\n",
      "[KICB.txt] : (7812, 9)\n",
      "[KJBA.txt] : (778, 9)\n",
      "[KKCD.txt] : (65, 9)\n",
      "[KFCB.txt] : (1418, 9)\n",
      "[KEAA.txt] : (4359, 9)\n",
      "[KKCC.txt] : (576, 9)\n",
      "[KAAB.txt] : (3200, 9)\n",
      "[KHBB.txt] : (5121, 9)\n",
      "[KJCD.txt] : (8, 9)\n",
      "[KICC.txt] : (57, 9)\n",
      "[KDBA.txt] : (81, 9)\n",
      "[KJAB.txt] : (92017, 9)\n",
      "[KJCB.txt] : (10902, 9)\n",
      "[KACB.txt] : (319, 9)\n",
      "[KCBA.txt] : (61, 9)\n",
      "[KFAB.txt] : (17655, 9)\n",
      "[KDAA.txt] : (6028, 9)\n",
      "[KICD.txt] : (2, 9)\n",
      "[KAAD.txt] : (123, 9)\n",
      "[KDAD.txt] : (3778, 9)\n",
      "[KCAD.txt] : (790, 9)\n",
      "[KDAC.txt] : (367, 9)\n",
      "[KEBA.txt] : (119, 9)\n",
      "[KBBD.txt] : (6, 9)\n",
      "[KACD.txt] : (9, 9)\n",
      "[KGBA.txt] : (315, 9)\n",
      "[KCCD.txt] : (11, 9)\n",
      "[KKCA.txt] : (3288, 9)\n",
      "[KJAA.txt] : (7912, 9)\n",
      "[KFBA.txt] : (228, 9)\n",
      "[KEAC.txt] : (238, 9)\n",
      "[KJCC.txt] : (84, 9)\n",
      "[KFCC.txt] : (48, 9)\n",
      "[KIBB.txt] : (6941, 9)\n",
      "[KGAD.txt] : (6100, 9)\n",
      "[KBBB.txt] : (79, 9)\n",
      "[KABD.txt] : (7, 9)\n",
      "[KAAC.txt] : (576, 9)\n",
      "[KKBD.txt] : (260, 9)\n",
      "[KDCD.txt] : (26, 9)\n",
      "[KIAD.txt] : (3819, 9)\n",
      "[KKBC.txt] : (302, 9)\n",
      "[KCBC.txt] : (31, 9)\n",
      "[KKAA.txt] : (39619, 9)\n",
      "[KKBA.txt] : (2696, 9)\n",
      "[KEBD.txt] : (344, 9)\n",
      "[KEAD.txt] : (4063, 9)\n"
     ]
    }
   ],
   "source": [
    "frames = []\n",
    "for filename in filenames:\n",
    "    df = pd.read_csv(os.path.join(input_dir, filename), sep='\\t')\n",
    "    print(f'[{filename}] : {df.shape}')\n",
    "    frames.append(df)"
   ]
  },
  {
   "cell_type": "code",
   "execution_count": 4,
   "id": "309f5742-9ea5-4601-8032-c90b722c70e4",
   "metadata": {},
   "outputs": [],
   "source": [
    "df_merged = pd.concat(frames, ignore_index=True)"
   ]
  },
  {
   "cell_type": "code",
   "execution_count": 5,
   "id": "37949156-99ad-452f-97dc-6f5d73745168",
   "metadata": {},
   "outputs": [
    {
     "name": "stdout",
     "output_type": "stream",
     "text": [
      "(1029500, 9)\n",
      "                                              smiles    zinc_id  \\\n",
      "0  COc1cc(C(=O)N[C@H](NC(=S)Nc2ccc(C)cc2)C(Cl)(Cl...    1218802   \n",
      "1  CCCCN1C(=O)/C(=c2\\sc3n(c2=O)[C@@H](c2cccs2)C(C...  100872142   \n",
      "2  Cc1ccccc1-c1cccc(CNc2cc(C(=O)NC3CC3)cc(S(=O)(=...  102395685   \n",
      "3  Cc1cc(C)c(S(=O)(=O)N(CC(=O)N[C@@H]2CCCC[C@H]2C...  230062739   \n",
      "4  COc1cc2c(c(OC)c1OC)-c1ccc(N[C@@H](C)C(=O)Nc3cc...  604406326   \n",
      "\n",
      "                      inchikey      mwt   logp  reactive  purchasable  \\\n",
      "0  IITNLGRVWMWOSO-GOSISDBHSA-N  506.839  4.434         0           50   \n",
      "1  HVUVUUUKHXJAFU-FEYWKWKCSA-N  535.691  4.013         0           50   \n",
      "2  NJBNXWGVFKHKFY-QHCPKHFHSA-N  546.693  4.052         0           50   \n",
      "3  IBEPCVOWDIHUJL-CJFMBICVSA-N  538.714  4.300         0           50   \n",
      "4  ITOLYQNCUZRIDN-SBUREZEXSA-N  585.661  4.189         0           50   \n",
      "\n",
      "  tranche_name  features  \n",
      "0         KIAA       NaN  \n",
      "1         KIAA       NaN  \n",
      "2         KIAA       NaN  \n",
      "3         KIAA       NaN  \n",
      "4         KIAA  biogenic  \n"
     ]
    }
   ],
   "source": [
    "print(df_merged.shape)\n",
    "print(df_merged.head())"
   ]
  },
  {
   "cell_type": "markdown",
   "id": "255a0c04-c0a9-45ae-a54f-b287aed654e2",
   "metadata": {},
   "source": [
    "# 2. Selecting molecules with 9 atoms of importance to pharmaceutical research\n",
    "- Ref: Rocha, Gerd B., et al. \"Rm1: A reparameterization of am1 for h, c, n, o, p, s, f, cl, br, and i.\" Journal of computational chemistry 27.10 (2006): 1101-1111."
   ]
  },
  {
   "cell_type": "code",
   "execution_count": 6,
   "id": "eb91216c-b600-40b3-8095-54d1da1380a1",
   "metadata": {},
   "outputs": [],
   "source": [
    "atomicset = {'C', 'N', 'O', 'S', 'F', 'Cl', 'Br', 'H', 'P'}"
   ]
  },
  {
   "cell_type": "code",
   "execution_count": 7,
   "id": "42148bf0-7d1b-4cc9-a2e9-a5e29bb6abdf",
   "metadata": {},
   "outputs": [
    {
     "name": "stderr",
     "output_type": "stream",
     "text": [
      "100%|████████████████████████████████████████████████████████████████████████████████████████████████████████████████████████████████████████████████████████████████████| 1029500/1029500 [03:39<00:00, 4686.21it/s]\n"
     ]
    }
   ],
   "source": [
    "records = []\n",
    "for i in tqdm.trange(df_merged.shape[0]):\n",
    "    lnt = 0\n",
    "    atm = False\n",
    "    idx = df_merged.loc[i, 'zinc_id']\n",
    "    mwt = df_merged.loc[i, 'mwt']\n",
    "    lgp = df_merged.loc[i, 'logp']\n",
    "    try:\n",
    "        mol = Chem.MolFromSmiles(df_merged.loc[i, 'smiles'])\n",
    "        ## length\n",
    "        smi = Chem.MolToSmiles(mol, isomericSmiles=False)\n",
    "        lnt = len(smi)\n",
    "        ## atoms\n",
    "        atm = {atom.GetSymbol() for atom in mol.GetAtoms()}.issubset(atomicset)\n",
    "    except:\n",
    "        pass\n",
    "    ## check\n",
    "    if 0 < lnt <= 150 and atm:\n",
    "        records.append((idx, smi, mwt, lgp, lnt))"
   ]
  },
  {
   "cell_type": "code",
   "execution_count": 8,
   "id": "e75975d7-8caa-4ec8-bb20-28f42e21f6cf",
   "metadata": {},
   "outputs": [],
   "source": [
    "df_res = pd.DataFrame.from_records(records)\n",
    "df_res = df_res.rename(columns={0:'zinc_id', 1:'smiles', 2:'mwt', 3:'logp', 4:'length'})"
   ]
  },
  {
   "cell_type": "code",
   "execution_count": 9,
   "id": "2a8fb606-ccfc-4ab7-9c7b-3a10a0489fbd",
   "metadata": {},
   "outputs": [],
   "source": [
    "df_res.to_csv('zinc15_raw_to_canonical.csv', sep=',', index=False)"
   ]
  },
  {
   "cell_type": "code",
   "execution_count": null,
   "id": "636ffa0b-b6df-4763-b49b-2f7f2ce0d5a2",
   "metadata": {},
   "outputs": [],
   "source": []
  }
 ],
 "metadata": {
  "kernelspec": {
   "display_name": "Python 3 (ipykernel)",
   "language": "python",
   "name": "python3"
  },
  "language_info": {
   "codemirror_mode": {
    "name": "ipython",
    "version": 3
   },
   "file_extension": ".py",
   "mimetype": "text/x-python",
   "name": "python",
   "nbconvert_exporter": "python",
   "pygments_lexer": "ipython3",
   "version": "3.8.18"
  }
 },
 "nbformat": 4,
 "nbformat_minor": 5
}
