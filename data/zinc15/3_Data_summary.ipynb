{
 "cells": [
  {
   "cell_type": "code",
   "execution_count": null,
   "id": "fb604fd1",
   "metadata": {},
   "outputs": [],
   "source": [
    "import pandas as pd\n",
    "import tqdm\n",
    "from rdkit.Chem import MolFromSmiles, Lipinski # NumHDonors, NumHAcceptors"
   ]
  },
  {
   "cell_type": "code",
   "execution_count": null,
   "id": "383811cc",
   "metadata": {},
   "outputs": [],
   "source": [
    "df = pd.read_csv(\"zinc15_train_full.csv\")\n",
    "df = df.loc[:,('smiles', 'mwt', 'logp', 'length', 'cnt_ring', 'ba_bcl2', 'ba_bclxl', 'ba_bclw')]"
   ]
  },
  {
   "cell_type": "code",
   "execution_count": null,
   "id": "fd110586",
   "metadata": {},
   "outputs": [],
   "source": [
    "idx = (df.loc[:,'ba_bcl2'] > 9.069) & (df.loc[:,'ba_bclxl'] > 9.283) & (df.loc[:,'ba_bclw'] > 6.999)\n",
    "df = df[idx].reset_index(drop=True)"
   ]
  },
  {
   "cell_type": "code",
   "execution_count": null,
   "id": "26d1647d",
   "metadata": {},
   "outputs": [],
   "source": [
    "df"
   ]
  },
  {
   "cell_type": "code",
   "execution_count": null,
   "id": "e3b24503",
   "metadata": {},
   "outputs": [],
   "source": [
    "for i, smi in tqdm.tqdm(enumerate(df.loc[:,'smiles'].values), total=len(df)):\n",
    "    \n",
    "    mol = MolFromSmiles(smi)\n",
    "    \n",
    "    df.loc[i,'donor'] = Lipinski.NumHDonors(mol)\n",
    "    df.loc[i,'acceptor'] = Lipinski.NumHAcceptors(mol)"
   ]
  },
  {
   "cell_type": "code",
   "execution_count": null,
   "id": "12a00705",
   "metadata": {},
   "outputs": [],
   "source": [
    "for i in tqdm.trange(len(df)):\n",
    "    \n",
    "    df.loc[i,'violation_Ro5'] = 0\n",
    "    \n",
    "    df.loc[i,'violation_Ro5'] += 0 if df.loc[i,'donor'] < 5 else 1\n",
    "    df.loc[i,'violation_Ro5'] += 0 if df.loc[i,'acceptor'] < 10 else 1\n",
    "    df.loc[i,'violation_Ro5'] += 0 if df.loc[i,'mwt'] < 500 else 1\n",
    "    df.loc[i,'violation_Ro5'] += 1 if df.loc[i,'logp'] > 5 else 0"
   ]
  },
  {
   "cell_type": "code",
   "execution_count": null,
   "id": "37365a9e",
   "metadata": {},
   "outputs": [],
   "source": [
    "df.loc[:,'violation_Ro5'].value_counts() / len(df)"
   ]
  },
  {
   "cell_type": "code",
   "execution_count": null,
   "id": "c84cce9e",
   "metadata": {},
   "outputs": [],
   "source": []
  }
 ],
 "metadata": {
  "kernelspec": {
   "display_name": "Python 3 (ipykernel)",
   "language": "python",
   "name": "python3"
  },
  "language_info": {
   "codemirror_mode": {
    "name": "ipython",
    "version": 3
   },
   "file_extension": ".py",
   "mimetype": "text/x-python",
   "name": "python",
   "nbconvert_exporter": "python",
   "pygments_lexer": "ipython3",
   "version": "3.8.18"
  }
 },
 "nbformat": 4,
 "nbformat_minor": 5
}
