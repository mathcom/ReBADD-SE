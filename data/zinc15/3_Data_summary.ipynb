{
 "cells": [
  {
   "cell_type": "code",
   "execution_count": 1,
   "id": "fb604fd1",
   "metadata": {},
   "outputs": [],
   "source": [
    "import pandas as pd\n",
    "import matplotlib.pyplot as plt\n",
    "import seaborn as sns\n",
    "import tqdm\n",
    "from rdkit.Chem import MolFromSmiles, Lipinski # NumHDonors, NumHAcceptors"
   ]
  },
  {
   "cell_type": "code",
   "execution_count": 2,
   "id": "383811cc",
   "metadata": {},
   "outputs": [],
   "source": [
    "df = pd.read_csv(\"zinc15_train_full.csv\")\n",
    "df = df.loc[:,('smiles', 'mwt', 'logp', 'length', 'cnt_ring', 'ba_bcl2', 'ba_bclxl', 'ba_bclw')]"
   ]
  },
  {
   "cell_type": "code",
   "execution_count": 3,
   "id": "fd110586",
   "metadata": {},
   "outputs": [],
   "source": [
    "idx = (df.loc[:,'ba_bcl2'] > 9.069) & (df.loc[:,'ba_bclxl'] > 9.283) & (df.loc[:,'ba_bclw'] > 6.999)\n",
    "df = df[idx].reset_index(drop=True)"
   ]
  },
  {
   "cell_type": "code",
   "execution_count": 4,
   "id": "26d1647d",
   "metadata": {},
   "outputs": [
    {
     "data": {
      "text/html": [
       "<div>\n",
       "<style scoped>\n",
       "    .dataframe tbody tr th:only-of-type {\n",
       "        vertical-align: middle;\n",
       "    }\n",
       "\n",
       "    .dataframe tbody tr th {\n",
       "        vertical-align: top;\n",
       "    }\n",
       "\n",
       "    .dataframe thead th {\n",
       "        text-align: right;\n",
       "    }\n",
       "</style>\n",
       "<table border=\"1\" class=\"dataframe\">\n",
       "  <thead>\n",
       "    <tr style=\"text-align: right;\">\n",
       "      <th></th>\n",
       "      <th>smiles</th>\n",
       "      <th>mwt</th>\n",
       "      <th>logp</th>\n",
       "      <th>length</th>\n",
       "      <th>cnt_ring</th>\n",
       "      <th>ba_bcl2</th>\n",
       "      <th>ba_bclxl</th>\n",
       "      <th>ba_bclw</th>\n",
       "    </tr>\n",
       "  </thead>\n",
       "  <tbody>\n",
       "    <tr>\n",
       "      <th>0</th>\n",
       "      <td>CCCOC(=O)c1cccc(NC(=O)CSc2nnc(C(C)NC(=O)c3cccc...</td>\n",
       "      <td>509.632</td>\n",
       "      <td>4.395</td>\n",
       "      <td>57</td>\n",
       "      <td>3</td>\n",
       "      <td>9.593801</td>\n",
       "      <td>9.423721</td>\n",
       "      <td>7.881210</td>\n",
       "    </tr>\n",
       "    <tr>\n",
       "      <th>1</th>\n",
       "      <td>CCCc1cc(C(=O)N2CC(c3ccccc3OC)C3(C2)CN(C(C)C)C(...</td>\n",
       "      <td>519.621</td>\n",
       "      <td>4.839</td>\n",
       "      <td>69</td>\n",
       "      <td>5</td>\n",
       "      <td>9.078078</td>\n",
       "      <td>9.775959</td>\n",
       "      <td>7.851386</td>\n",
       "    </tr>\n",
       "    <tr>\n",
       "      <th>2</th>\n",
       "      <td>O=C(O)c1ccc(NC(=O)c2ccc(N3C(=O)C4C5C=CC(C5)C4C...</td>\n",
       "      <td>682.689</td>\n",
       "      <td>4.512</td>\n",
       "      <td>100</td>\n",
       "      <td>9</td>\n",
       "      <td>9.157572</td>\n",
       "      <td>9.435760</td>\n",
       "      <td>7.986024</td>\n",
       "    </tr>\n",
       "    <tr>\n",
       "      <th>3</th>\n",
       "      <td>CC(C)(Cc1ccc(Oc2ccc(C(N)=O)cn2)cc1)NCC(O)COc1c...</td>\n",
       "      <td>524.621</td>\n",
       "      <td>4.958</td>\n",
       "      <td>65</td>\n",
       "      <td>5</td>\n",
       "      <td>9.627657</td>\n",
       "      <td>9.306619</td>\n",
       "      <td>7.323000</td>\n",
       "    </tr>\n",
       "    <tr>\n",
       "      <th>4</th>\n",
       "      <td>CCNC(=O)C1OC(n2cnc3c(NCC(c4ccccc4)c4ccccc4)nc(...</td>\n",
       "      <td>777.887</td>\n",
       "      <td>1.919</td>\n",
       "      <td>92</td>\n",
       "      <td>7</td>\n",
       "      <td>9.348688</td>\n",
       "      <td>9.299333</td>\n",
       "      <td>7.533735</td>\n",
       "    </tr>\n",
       "    <tr>\n",
       "      <th>5</th>\n",
       "      <td>COCCCC1(C(=O)NCCc2cscn2)CNC(=O)c2c3ccccc3nn2CC...</td>\n",
       "      <td>604.733</td>\n",
       "      <td>2.746</td>\n",
       "      <td>66</td>\n",
       "      <td>5</td>\n",
       "      <td>9.725193</td>\n",
       "      <td>9.323896</td>\n",
       "      <td>7.745878</td>\n",
       "    </tr>\n",
       "    <tr>\n",
       "      <th>6</th>\n",
       "      <td>N=C(N)NCCCC1NC(=O)C(Cc2ccc(O)cc2)NC(=O)CNC(=O)...</td>\n",
       "      <td>729.843</td>\n",
       "      <td>-1.074</td>\n",
       "      <td>88</td>\n",
       "      <td>4</td>\n",
       "      <td>9.884827</td>\n",
       "      <td>9.707996</td>\n",
       "      <td>8.506519</td>\n",
       "    </tr>\n",
       "    <tr>\n",
       "      <th>7</th>\n",
       "      <td>CC(C)(C)c1cc(NC(=O)NCc2ccccc2Sc2ccc3nnc(-c4ccc...</td>\n",
       "      <td>700.290</td>\n",
       "      <td>7.796</td>\n",
       "      <td>80</td>\n",
       "      <td>6</td>\n",
       "      <td>10.100492</td>\n",
       "      <td>9.368319</td>\n",
       "      <td>7.825716</td>\n",
       "    </tr>\n",
       "    <tr>\n",
       "      <th>8</th>\n",
       "      <td>CCCc1cc(C(=O)N2CCC(N3CCCC(C)(C)COc4ccccc4Oc4nc...</td>\n",
       "      <td>532.685</td>\n",
       "      <td>6.120</td>\n",
       "      <td>60</td>\n",
       "      <td>5</td>\n",
       "      <td>9.139963</td>\n",
       "      <td>9.368947</td>\n",
       "      <td>7.766162</td>\n",
       "    </tr>\n",
       "    <tr>\n",
       "      <th>9</th>\n",
       "      <td>CCOc1ccccc1N1CC(C(=O)Oc2cccc(N3C(=O)C4C5C=CC(C...</td>\n",
       "      <td>512.562</td>\n",
       "      <td>3.601</td>\n",
       "      <td>67</td>\n",
       "      <td>7</td>\n",
       "      <td>9.277481</td>\n",
       "      <td>9.471024</td>\n",
       "      <td>7.866191</td>\n",
       "    </tr>\n",
       "    <tr>\n",
       "      <th>10</th>\n",
       "      <td>CCCCCCC(CCCCCC)n1c(=O)c2ccc3c4ccc5c(=O)n(C(CCC...</td>\n",
       "      <td>755.056</td>\n",
       "      <td>12.927</td>\n",
       "      <td>90</td>\n",
       "      <td>7</td>\n",
       "      <td>9.082526</td>\n",
       "      <td>9.439564</td>\n",
       "      <td>7.210498</td>\n",
       "    </tr>\n",
       "    <tr>\n",
       "      <th>11</th>\n",
       "      <td>CCOc1cc(C=C2C(=O)NC(=O)N(c3ccc(C45CC6CC(CC(C6)...</td>\n",
       "      <td>699.598</td>\n",
       "      <td>7.259</td>\n",
       "      <td>87</td>\n",
       "      <td>7</td>\n",
       "      <td>9.163452</td>\n",
       "      <td>9.599396</td>\n",
       "      <td>7.271762</td>\n",
       "    </tr>\n",
       "  </tbody>\n",
       "</table>\n",
       "</div>"
      ],
      "text/plain": [
       "                                               smiles      mwt    logp  \\\n",
       "0   CCCOC(=O)c1cccc(NC(=O)CSc2nnc(C(C)NC(=O)c3cccc...  509.632   4.395   \n",
       "1   CCCc1cc(C(=O)N2CC(c3ccccc3OC)C3(C2)CN(C(C)C)C(...  519.621   4.839   \n",
       "2   O=C(O)c1ccc(NC(=O)c2ccc(N3C(=O)C4C5C=CC(C5)C4C...  682.689   4.512   \n",
       "3   CC(C)(Cc1ccc(Oc2ccc(C(N)=O)cn2)cc1)NCC(O)COc1c...  524.621   4.958   \n",
       "4   CCNC(=O)C1OC(n2cnc3c(NCC(c4ccccc4)c4ccccc4)nc(...  777.887   1.919   \n",
       "5   COCCCC1(C(=O)NCCc2cscn2)CNC(=O)c2c3ccccc3nn2CC...  604.733   2.746   \n",
       "6   N=C(N)NCCCC1NC(=O)C(Cc2ccc(O)cc2)NC(=O)CNC(=O)...  729.843  -1.074   \n",
       "7   CC(C)(C)c1cc(NC(=O)NCc2ccccc2Sc2ccc3nnc(-c4ccc...  700.290   7.796   \n",
       "8   CCCc1cc(C(=O)N2CCC(N3CCCC(C)(C)COc4ccccc4Oc4nc...  532.685   6.120   \n",
       "9   CCOc1ccccc1N1CC(C(=O)Oc2cccc(N3C(=O)C4C5C=CC(C...  512.562   3.601   \n",
       "10  CCCCCCC(CCCCCC)n1c(=O)c2ccc3c4ccc5c(=O)n(C(CCC...  755.056  12.927   \n",
       "11  CCOc1cc(C=C2C(=O)NC(=O)N(c3ccc(C45CC6CC(CC(C6)...  699.598   7.259   \n",
       "\n",
       "    length  cnt_ring    ba_bcl2  ba_bclxl   ba_bclw  \n",
       "0       57         3   9.593801  9.423721  7.881210  \n",
       "1       69         5   9.078078  9.775959  7.851386  \n",
       "2      100         9   9.157572  9.435760  7.986024  \n",
       "3       65         5   9.627657  9.306619  7.323000  \n",
       "4       92         7   9.348688  9.299333  7.533735  \n",
       "5       66         5   9.725193  9.323896  7.745878  \n",
       "6       88         4   9.884827  9.707996  8.506519  \n",
       "7       80         6  10.100492  9.368319  7.825716  \n",
       "8       60         5   9.139963  9.368947  7.766162  \n",
       "9       67         7   9.277481  9.471024  7.866191  \n",
       "10      90         7   9.082526  9.439564  7.210498  \n",
       "11      87         7   9.163452  9.599396  7.271762  "
      ]
     },
     "execution_count": 4,
     "metadata": {},
     "output_type": "execute_result"
    }
   ],
   "source": [
    "df"
   ]
  },
  {
   "cell_type": "code",
   "execution_count": 5,
   "id": "e3b24503",
   "metadata": {},
   "outputs": [
    {
     "name": "stderr",
     "output_type": "stream",
     "text": [
      "100%|██████████████████████████████████████████████████████████████████████████████████████████████████████████████████████████████████████████████████████████████████████████████████████████████| 12/12 [00:00<00:00, 1349.16it/s]\n"
     ]
    }
   ],
   "source": [
    "for i, smi in tqdm.tqdm(enumerate(df.loc[:,'smiles'].values), total=len(df)):\n",
    "    \n",
    "    mol = MolFromSmiles(smi)\n",
    "    \n",
    "    df.loc[i,'donor'] = Lipinski.NumHDonors(mol)\n",
    "    df.loc[i,'acceptor'] = Lipinski.NumHAcceptors(mol)"
   ]
  },
  {
   "cell_type": "code",
   "execution_count": 6,
   "id": "12a00705",
   "metadata": {},
   "outputs": [
    {
     "name": "stderr",
     "output_type": "stream",
     "text": [
      "100%|██████████████████████████████████████████████████████████████████████████████████████████████████████████████████████████████████████████████████████████████████████████████████████████████| 12/12 [00:00<00:00, 1235.28it/s]\n"
     ]
    }
   ],
   "source": [
    "for i in tqdm.trange(len(df)):\n",
    "    \n",
    "    df.loc[i,'violation_Ro5'] = 0\n",
    "    \n",
    "    df.loc[i,'violation_Ro5'] += 0 if df.loc[i,'donor'] < 5 else 1\n",
    "    df.loc[i,'violation_Ro5'] += 0 if df.loc[i,'acceptor'] < 10 else 1\n",
    "    df.loc[i,'violation_Ro5'] += 0 if df.loc[i,'mwt'] < 500 else 1\n",
    "    df.loc[i,'violation_Ro5'] += 1 if df.loc[i,'logp'] > 5 else 0"
   ]
  },
  {
   "cell_type": "code",
   "execution_count": 7,
   "id": "37365a9e",
   "metadata": {},
   "outputs": [
    {
     "data": {
      "text/plain": [
       "1.0    0.500000\n",
       "2.0    0.333333\n",
       "3.0    0.166667\n",
       "Name: violation_Ro5, dtype: float64"
      ]
     },
     "execution_count": 7,
     "metadata": {},
     "output_type": "execute_result"
    }
   ],
   "source": [
    "df.loc[:,'violation_Ro5'].value_counts() / len(df)"
   ]
  },
  {
   "cell_type": "code",
   "execution_count": null,
   "id": "c84cce9e",
   "metadata": {},
   "outputs": [],
   "source": []
  }
 ],
 "metadata": {
  "kernelspec": {
   "display_name": "Python 3 (ipykernel)",
   "language": "python",
   "name": "python3"
  },
  "language_info": {
   "codemirror_mode": {
    "name": "ipython",
    "version": 3
   },
   "file_extension": ".py",
   "mimetype": "text/x-python",
   "name": "python",
   "nbconvert_exporter": "python",
   "pygments_lexer": "ipython3",
   "version": "3.8.13"
  }
 },
 "nbformat": 4,
 "nbformat_minor": 5
}
