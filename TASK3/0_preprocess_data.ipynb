{
 "cells": [
  {
   "cell_type": "code",
   "execution_count": null,
   "id": "95884ad2",
   "metadata": {},
   "outputs": [],
   "source": [
    "%load_ext autoreload\n",
    "%autoreload 2"
   ]
  },
  {
   "cell_type": "code",
   "execution_count": null,
   "id": "d29a82d0",
   "metadata": {},
   "outputs": [],
   "source": [
    "import os\n",
    "import pickle\n",
    "import tqdm\n",
    "import pandas as pd\n",
    "import selfies as sf\n",
    "from rebadd.datautils import get_fragment_from_selfies"
   ]
  },
  {
   "cell_type": "code",
   "execution_count": null,
   "id": "978fdc39",
   "metadata": {},
   "outputs": [],
   "source": [
    "class DATACONFIGS:\n",
    "    def __init__(self):\n",
    "        ## input\n",
    "        self.input_dir = os.path.join('data', 'zinc15')\n",
    "        self.train_data_path = os.path.join(self.input_dir, 'zinc15_train.txt')\n",
    "        ## output\n",
    "        self.output_dir = os.path.join('processed_data', 'zinc15')\n",
    "        assert os.path.exists(self.output_dir)       \n",
    "\n",
    "dataconfigs = DATACONFIGS()"
   ]
  },
  {
   "cell_type": "code",
   "execution_count": null,
   "id": "75c55319",
   "metadata": {},
   "outputs": [],
   "source": [
    "with open(dataconfigs.train_data_path) as fin:\n",
    "    lines = fin.readlines()\n",
    "    \n",
    "data = [line.rstrip() for line in lines]"
   ]
  },
  {
   "cell_type": "code",
   "execution_count": null,
   "id": "37b1042f",
   "metadata": {},
   "outputs": [],
   "source": [
    "print(f'Number of training data (raw): {len(data)}')\n",
    "data[:5]"
   ]
  },
  {
   "cell_type": "code",
   "execution_count": null,
   "id": "b144a69d",
   "metadata": {},
   "outputs": [],
   "source": [
    "def make_selfies_data(smiles_iter):\n",
    "    selfies_list = []\n",
    "    \n",
    "    for smi in tqdm.tqdm(smiles_iter):\n",
    "        try:\n",
    "            sel = sf.encoder(smi)\n",
    "            selfies_list.append(sel)\n",
    "        except AssertionError:\n",
    "            pass\n",
    "        except sf.EncoderError:\n",
    "            pass\n",
    "    \n",
    "    return selfies_list"
   ]
  },
  {
   "cell_type": "code",
   "execution_count": null,
   "id": "7f12ffcb",
   "metadata": {},
   "outputs": [],
   "source": [
    "selfies_list = make_selfies_data(data)"
   ]
  },
  {
   "cell_type": "code",
   "execution_count": null,
   "id": "c9d9013c",
   "metadata": {},
   "outputs": [],
   "source": [
    "print(f'Number of training data (selfies): {len(selfies_list)}')\n",
    "selfies_list[:5]"
   ]
  },
  {
   "cell_type": "code",
   "execution_count": null,
   "id": "ef270a07",
   "metadata": {},
   "outputs": [],
   "source": [
    "with open(os.path.join(dataconfigs.output_dir, 'selfies.csv'), 'w') as fout:\n",
    "    for selfies in selfies_list:\n",
    "        fout.write(f'{selfies}\\n')"
   ]
  },
  {
   "cell_type": "code",
   "execution_count": null,
   "id": "1289caba",
   "metadata": {},
   "outputs": [],
   "source": [
    "fragments_list = get_fragment_from_selfies(selfies_list)"
   ]
  },
  {
   "cell_type": "code",
   "execution_count": null,
   "id": "933da28d",
   "metadata": {},
   "outputs": [],
   "source": [
    "print(f'maxlen of fragments: {max([len(fragments) for fragments in fragments_list])}')\n",
    "fragments_list[:2]"
   ]
  },
  {
   "cell_type": "code",
   "execution_count": null,
   "id": "14287d5d",
   "metadata": {},
   "outputs": [],
   "source": [
    "with open(os.path.join(dataconfigs.output_dir, 'fragments_list.pkl'), 'wb') as fout:\n",
    "    pickle.dump(fragments_list, fout)"
   ]
  },
  {
   "cell_type": "code",
   "execution_count": null,
   "id": "32413ffb",
   "metadata": {},
   "outputs": [],
   "source": [
    "vocabs = set()\n",
    "for fragments in tqdm.tqdm(fragments_list):\n",
    "    vocabs = vocabs.union(set(fragments))\n",
    "\n",
    "vocabs = sorted(vocabs)"
   ]
  },
  {
   "cell_type": "code",
   "execution_count": null,
   "id": "ff114427",
   "metadata": {},
   "outputs": [],
   "source": [
    "print(f'Number of vocabulary(unique fragments): {len(vocabs)}')\n",
    "vocabs"
   ]
  },
  {
   "cell_type": "code",
   "execution_count": null,
   "id": "e3ba72b1",
   "metadata": {},
   "outputs": [],
   "source": [
    "with open(os.path.join(dataconfigs.output_dir, 'vocabulary.csv'), 'w') as fout:\n",
    "    for v in vocabs:\n",
    "        fout.write(f'{v}\\n')"
   ]
  },
  {
   "cell_type": "code",
   "execution_count": null,
   "id": "292e549e",
   "metadata": {},
   "outputs": [],
   "source": []
  }
 ],
 "metadata": {
  "kernelspec": {
   "display_name": "Python 3 (ipykernel)",
   "language": "python",
   "name": "python3"
  },
  "language_info": {
   "codemirror_mode": {
    "name": "ipython",
    "version": 3
   },
   "file_extension": ".py",
   "mimetype": "text/x-python",
   "name": "python",
   "nbconvert_exporter": "python",
   "pygments_lexer": "ipython3",
   "version": "3.8.18"
  }
 },
 "nbformat": 4,
 "nbformat_minor": 5
}
