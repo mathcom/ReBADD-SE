{
 "cells": [
  {
   "cell_type": "markdown",
   "metadata": {},
   "source": [
    "## Imports"
   ]
  },
  {
   "cell_type": "code",
   "execution_count": 1,
   "metadata": {},
   "outputs": [
    {
     "name": "stdout",
     "output_type": "stream",
     "text": [
      "env: CUDA_VISIBLE_DEVICES=0\n"
     ]
    }
   ],
   "source": [
    "%env CUDA_VISIBLE_DEVICES=0"
   ]
  },
  {
   "cell_type": "code",
   "execution_count": 2,
   "metadata": {},
   "outputs": [],
   "source": [
    "import os\n",
    "import sys\n",
    "import time\n",
    "import numpy as np\n",
    "import pandas as pd\n",
    "import selfies as sf\n",
    "import torch\n",
    "from tqdm import tqdm, trange\n",
    "import matplotlib.pyplot as plt\n",
    "import seaborn as sns\n",
    "%matplotlib inline"
   ]
  },
  {
   "cell_type": "code",
   "execution_count": 3,
   "metadata": {},
   "outputs": [
    {
     "name": "stdout",
     "output_type": "stream",
     "text": [
      "0\n"
     ]
    }
   ],
   "source": [
    "class GPUCONFIGS:\n",
    "    def __init__(self):\n",
    "        self.use_cuda = torch.cuda.is_available()\n",
    "        self.device = torch.device('cuda:0' if self.use_cuda else 'cpu')\n",
    "        if self.use_cuda: torch.cuda.set_device(self.device)\n",
    "        \n",
    "gpuconfigs = GPUCONFIGS()\n",
    "print(torch.cuda.current_device())"
   ]
  },
  {
   "cell_type": "code",
   "execution_count": 4,
   "metadata": {},
   "outputs": [],
   "source": [
    "REBADD_LIB_PATH = os.path.abspath(os.pardir)\n",
    "if REBADD_LIB_PATH not in sys.path:\n",
    "    sys.path = [REBADD_LIB_PATH] + sys.path"
   ]
  },
  {
   "cell_type": "code",
   "execution_count": 5,
   "metadata": {},
   "outputs": [],
   "source": [
    "from rebadd.stackVAE import StackAugmentedVAE\n",
    "from rebadd.datautils import GeneratorData"
   ]
  },
  {
   "cell_type": "markdown",
   "metadata": {},
   "source": [
    "## Setting up the generator"
   ]
  },
  {
   "cell_type": "markdown",
   "metadata": {},
   "source": [
    "### Loading data for the generator"
   ]
  },
  {
   "cell_type": "code",
   "execution_count": 6,
   "metadata": {},
   "outputs": [],
   "source": [
    "class DATACONFIGS:\n",
    "    def __init__(self):\n",
    "        ## input\n",
    "        self.input_dir = 'outputs_0_preprocess_data'\n",
    "        self.train_data_path = os.path.join(self.input_dir, 'fragments_list.pkl')\n",
    "        self.vocab_data_path = os.path.join(self.input_dir, 'vocabulary.csv')\n",
    "        ## output\n",
    "        self.output_dir = 'outputs_1_pretraining'\n",
    "        assert os.path.exists(self.output_dir)\n",
    "\n",
    "dataconfigs = DATACONFIGS()"
   ]
  },
  {
   "cell_type": "code",
   "execution_count": 7,
   "metadata": {},
   "outputs": [
    {
     "name": "stdout",
     "output_type": "stream",
     "text": [
      "Number of training samples: 6291\n",
      "Number of vocabulary: 7496\n",
      "Maximum of seqlen: 38\n"
     ]
    }
   ],
   "source": [
    "gen_data = GeneratorData(pickle_data_path=dataconfigs.train_data_path,\n",
    "                         vocabulary_path=dataconfigs.vocab_data_path,\n",
    "                         use_cuda=gpuconfigs.use_cuda)\n",
    "\n",
    "print(f\"Number of training samples: {len(gen_data.data)}\")\n",
    "print(f\"Number of vocabulary: {len(gen_data.vocabs)}\")\n",
    "print(f\"Maximum of seqlen: {gen_data.max_seqlen}\")"
   ]
  },
  {
   "cell_type": "markdown",
   "metadata": {},
   "source": [
    "## Initializing and training the generator"
   ]
  },
  {
   "cell_type": "markdown",
   "metadata": {},
   "source": [
    "We will used stack augmented generative GRU as a generator. The model was trained to predict the next symbol from SMILES alphabet using the already generated prefix. Model was trained to minimize the cross-entropy loss between predicted symbol and ground truth symbol. Scheme of the generator when inferring new SMILES is shown below:"
   ]
  },
  {
   "cell_type": "markdown",
   "metadata": {},
   "source": [
    "Initialize stack-augmented generative RNN:"
   ]
  },
  {
   "cell_type": "code",
   "execution_count": 8,
   "metadata": {},
   "outputs": [],
   "source": [
    "kwargs_generator = {\"input_size\"         : gen_data.n_characters,\n",
    "                    \"output_size\"        : gen_data.n_characters,\n",
    "                    \"max_seqlen\"         : 44,\n",
    "                    \"hidden_size\"        : 256,\n",
    "                    \"latent_size\"        : 64,\n",
    "                    \"n_layers\"           : 4,\n",
    "                    \"has_stack\"          : True,\n",
    "                    \"stack_width\"        : 256,\n",
    "                    \"stack_depth\"        : 20,\n",
    "                    \"lr\"                 : 0.001,\n",
    "                    \"use_cuda\"           : gpuconfigs.use_cuda,\n",
    "                    \"device\"             : gpuconfigs.device,\n",
    "                    \"optimizer_instance\" : torch.optim.RMSprop}"
   ]
  },
  {
   "cell_type": "code",
   "execution_count": 9,
   "metadata": {},
   "outputs": [],
   "source": [
    "my_generator = StackAugmentedVAE(**kwargs_generator)"
   ]
  },
  {
   "cell_type": "markdown",
   "metadata": {},
   "source": [
    "If you want train the model from scratch, uncomment the lines below:"
   ]
  },
  {
   "cell_type": "code",
   "execution_count": 10,
   "metadata": {},
   "outputs": [],
   "source": [
    "model_path = os.path.join(dataconfigs.output_dir, 'checkpoint.pth')\n",
    "losses_path = os.path.join(dataconfigs.output_dir, 'losses.txt')"
   ]
  },
  {
   "cell_type": "code",
   "execution_count": 11,
   "metadata": {
    "scrolled": true
   },
   "outputs": [
    {
     "name": "stderr",
     "output_type": "stream",
     "text": [
      "Training in progress...:   7%|███████▉                                                                                                               | 1000/15000 [03:00<43:59,  5.30it/s]"
     ]
    },
    {
     "name": "stdout",
     "output_type": "stream",
     "text": [
      "[01000 (6.7%) 3m 0s], Loss_vae:3.885, Loss_rec:3.612, Loss_kld:12.788, Beta:0.067\n",
      "selfies: [C][C][=C][C][=C][Branch2][Ring1][#Branch2][C][=Branch1][C][=O][N][C][C][O][C][=C][Branch1][C][F][C][=C][Branch1][C][F][C][=C][Ring1][Branch2][C][Ring1][N][C][=C][Ring2][Ring2][Ring1]\n",
      "smiles: C1C=CC=C(C(=O)NC2COC3=C(F)C=C(F)C=C3C2)C=C1\n"
     ]
    },
    {
     "name": "stderr",
     "output_type": "stream",
     "text": [
      "Training in progress...:  13%|███████████████▊                                                                                                       | 2000/15000 [06:01<38:18,  5.66it/s]"
     ]
    },
    {
     "name": "stdout",
     "output_type": "stream",
     "text": [
      "[02000 (13.3%) 6m 1s], Loss_vae:2.631, Loss_rec:2.373, Loss_kld:2.751, Beta:0.133\n",
      "selfies: [C][N][Branch1][=C][C][=Branch1][C][=O][C][=C][C][=C][C][=C][Ring1][=Branch1][F][S][=Branch1][C][=O][=Branch1][C][=O][C][=C][C][=C][S][Ring1][Branch1]\n",
      "smiles: CN(C(=O)C1=CC=CC=C1F)S(=O)(=O)C2=CC=CS2\n"
     ]
    },
    {
     "name": "stderr",
     "output_type": "stream",
     "text": [
      "Training in progress...:  20%|███████████████████████▊                                                                                               | 3000/15000 [09:02<39:09,  5.11it/s]"
     ]
    },
    {
     "name": "stdout",
     "output_type": "stream",
     "text": [
      "[03000 (20.0%) 9m 2s], Loss_vae:2.045, Loss_rec:1.909, Loss_kld:0.853, Beta:0.200\n",
      "selfies: [C][O][C][=C][C][=C][Branch2][#Branch1][C][N][N][=C][Branch1][C][C][C][=C][Ring1][=Branch1][C][=C][O][C][=C][Branch2][Ring2][Ring2][C][=C][C][=C][C][Branch1][C][O][=N][C][Branch1][S][N][C][C][C][Branch1][=Branch1][C][Branch1][C][N][=O][C][C][Ring1][=Branch2][=N][C][Ring1][S][=N][Ring2][Ring1][Ring2][C][Branch1][C][O][=C][Branch1][C][C][C][Branch1][C][O][=C][Ring2][Ring1][=N][C][Ring2][Ring1][S][Branch1][C][C][C][Ring2][Ring2][Branch1][=O][C][=C][Ring2][Ring2][S]\n",
      "smiles: COC1=CC=C(N2N=C(C)C3=C2C=C4OC5=C(C6=CC=C7C(O)=NC(N8CCC(C(N)=O)CC8)=NC7=N6)C(O)=C(C)C(O)=C5C4(C)C3=O)C=C1\n"
     ]
    },
    {
     "name": "stderr",
     "output_type": "stream",
     "text": [
      "Training in progress...:  27%|███████████████████████████████▋                                                                                       | 4000/15000 [12:02<33:25,  5.48it/s]"
     ]
    },
    {
     "name": "stdout",
     "output_type": "stream",
     "text": [
      "[04000 (26.7%) 12m 2s], Loss_vae:1.694, Loss_rec:1.641, Loss_kld:0.236, Beta:0.267\n",
      "selfies: [C][C][O][C][=Branch1][C][=O][C][=C][S][C][Branch1][=Branch2][C][C][=C][N][=C][NH1][Ring1][Branch1][C][=Branch1][C][=O][N][Ring2][Ring1][C][C][=C][C][=C][C][=C][C][=C][C][=C][Ring1][#Branch2][Ring1][=Branch1]\n",
      "smiles: C1COC(=O)C=CSC(CC2=CN=C[NH1]2)C(=O)N1C3=CC=CC4=CC=CC=C34\n"
     ]
    },
    {
     "name": "stderr",
     "output_type": "stream",
     "text": [
      "Training in progress...:  33%|███████████████████████████████████████▋                                                                               | 5001/15000 [15:03<29:49,  5.59it/s]"
     ]
    },
    {
     "name": "stdout",
     "output_type": "stream",
     "text": [
      "[05000 (33.3%) 15m 3s], Loss_vae:1.501, Loss_rec:1.486, Loss_kld:0.051, Beta:0.333\n",
      "selfies: [C][O][C][=C][C][=C][C][=Branch1][=Branch1][=C][Ring1][=Branch1][O][C][C][=C][C][=C][C][=Branch1][Ring2][=C][Ring1][=Branch1][C][Branch1][=Branch1][C][C][O][Ring1][#Branch1][N][C][=Branch1][C][=O][C][C][N][Branch1][P][C][=Branch1][C][=O][C][C][=C][C][=C][C][Branch1][C][F][=C][Ring1][#Branch1]\n",
      "smiles: COC1=CC=CC(=C1OC)C2=CC=C3C(=C2)C(CCO3)NC(=O)CCNC(=O)CC4=CC=CC(F)=C4\n"
     ]
    },
    {
     "name": "stderr",
     "output_type": "stream",
     "text": [
      "Training in progress...:  40%|███████████████████████████████████████████████▌                                                                       | 6000/15000 [18:04<26:10,  5.73it/s]"
     ]
    },
    {
     "name": "stdout",
     "output_type": "stream",
     "text": [
      "[06000 (40.0%) 18m 4s], Loss_vae:1.401, Loss_rec:1.394, Loss_kld:0.017, Beta:0.400\n",
      "selfies: [C][O][C][C][O][C][Branch1][C][C][C][Branch2][Ring1][S][C][C][=Branch1][C][=O][S][C][C][Branch1][#Branch1][N][C][Branch1][C][C][=O][C][=Branch1][C][=O][O][C][C][C][C][O][N+1][=Branch1][C][=O][O-1][C][=Branch1][C][=O][Branch1][C][O][O][C][Branch2][Branch1][=Branch1][O][C][C][C][Branch1][=Branch1][N][Branch1][C][C][C][C][Branch2][Ring1][#C][O][C][C][C][O][C][C][C][=Branch1][C][=O][C][Branch1][C][C][O][C][Ring1][Branch2][O][C][Ring1][N][C][Branch1][C][C][O][Ring1][P][C][Branch1][C][C][O][Ring2][Ring1][N][C][Branch2][Ring1][Branch1][C][=Branch1][C][=O][N][C][C][C][C][C][N][C][C][C][C][C][Ring1][#Branch2][Ring1][=Branch1][O][C][C][=C][=O]\n",
      "smiles: COCCOC(C)C(CC(=O)SCC(NC(C)=O)C(=O)OCCCCO[N+1](=O)[O-1])C(=O)COOC(OC1CC(N(C)C)C(OC2CC3OC4CC(=O)C(C)OC4OC3C(C)O2)C(C)O1)C(C(=O)NCC5CCCN6CCCCC56)OCC=C=O\n"
     ]
    },
    {
     "name": "stderr",
     "output_type": "stream",
     "text": [
      "Training in progress...:  47%|███████████████████████████████████████████████████████▌                                                               | 7000/15000 [21:04<25:06,  5.31it/s]"
     ]
    },
    {
     "name": "stdout",
     "output_type": "stream",
     "text": [
      "[07000 (46.7%) 21m 4s], Loss_vae:1.357, Loss_rec:1.353, Loss_kld:0.009, Beta:0.467\n",
      "selfies: [O][=S][=Branch1][C][=O][Branch1][C][O][C][O][C][C][Branch1][C][Br][C][=C][C][Branch1][C][O][=C][Branch1][C][O][C][Branch1][C][O][=C][Ring1][=Branch2]\n",
      "smiles: O=S(=O)(O)COCC(Br)C1=CC(O)=C(O)C(O)=C1\n"
     ]
    },
    {
     "name": "stderr",
     "output_type": "stream",
     "text": [
      "Training in progress...:  53%|███████████████████████████████████████████████████████████████▍                                                       | 8000/15000 [24:06<22:03,  5.29it/s]"
     ]
    },
    {
     "name": "stdout",
     "output_type": "stream",
     "text": [
      "[08000 (53.3%) 24m 6s], Loss_vae:1.321, Loss_rec:1.318, Loss_kld:0.006, Beta:0.533\n",
      "selfies: [C][O][C][=C][C][=C][Branch1][O][C][Branch1][Ring1][O][C][=C][Ring1][Branch2][O][C][C][=C][C][=C][Branch2][Ring1][O][N][C][C][=Branch1][C][=O][N][C][C][C][N][Branch1][#Branch2][C][C][=C][C][=C][C][=C][Ring1][=Branch1][C][C][Ring1][=N][C][=Branch1][C][=O][C][=C][Ring2][Ring1][#Branch2][C][Branch1][#Branch1][N][C][Branch1][C][C][=O][C][C][Ring2][Ring2][=Branch2]\n",
      "smiles: COC1=CC2=C(C(OC)=C1OC)C3=CC=C(NCC(=O)NC4CCN(CC5=CC=CC=C5)CC4)C(=O)C=C3C(NC(C)=O)CC2\n"
     ]
    },
    {
     "name": "stderr",
     "output_type": "stream",
     "text": [
      "Training in progress...:  60%|███████████████████████████████████████████████████████████████████████▍                                               | 9001/15000 [27:08<18:32,  5.39it/s]"
     ]
    },
    {
     "name": "stdout",
     "output_type": "stream",
     "text": [
      "[09000 (60.0%) 27m 8s], Loss_vae:1.305, Loss_rec:1.303, Loss_kld:0.004, Beta:0.600\n",
      "selfies: [O][=C][Branch2][Branch1][C][N][C][=C][C][=C][Branch1][C][F][C][Branch2][Ring2][C][N][Branch1][S][S][=Branch1][C][=O][=Branch1][C][=O][C][=C][C][=C][C][=C][Ring1][=Branch1][S][=Branch1][C][=O][=Branch1][C][=O][C][=C][C][=C][C][=C][Ring1][=Branch1][=C][Ring2][Ring1][#Branch2][C][=C][Ring2][Ring2][C]\n",
      "smiles: O=C(NC1=CC=C(F)C(N(S(=O)(=O)C2=CC=CC=C2)S(=O)(=O)C3=CC=CC=C3)=C1)C=C\n"
     ]
    },
    {
     "name": "stderr",
     "output_type": "stream",
     "text": [
      "Training in progress...:  67%|██████████████████████████████████████████████████████████████████████████████▋                                       | 10000/15000 [30:11<20:05,  4.15it/s]"
     ]
    },
    {
     "name": "stdout",
     "output_type": "stream",
     "text": [
      "[10000 (66.7%) 30m 11s], Loss_vae:1.296, Loss_rec:1.294, Loss_kld:0.003, Beta:0.667\n",
      "selfies: [C][C][=C][C][=Branch1][C][=O][C][Branch1][C][O][=C][Branch2][Ring2][=C][C][Branch2][Ring1][#Branch1][C][C][=Branch1][C][=O][N][C][C][C][C][=N][C][=C][C][=C][C][=C][Ring1][=Branch1][NH1][Ring1][=Branch2][C][C][N][Branch1][#Branch2][C][C][=C][C][=C][C][=C][Ring1][=Branch1][C][C][Ring2][Ring1][=N][O][Ring2][Ring2][Branch1]\n",
      "smiles: CC1=CC(=O)C(O)=C(C2(CC(=O)NCCCC3=NC4=CC=CC=C4[NH1]3)CCN(CC5=CC=CC=C5)CC2)O1\n"
     ]
    },
    {
     "name": "stderr",
     "output_type": "stream",
     "text": [
      "Training in progress...:  73%|██████████████████████████████████████████████████████████████████████████████████████▌                               | 11000/15000 [34:05<16:14,  4.10it/s]"
     ]
    },
    {
     "name": "stdout",
     "output_type": "stream",
     "text": [
      "[11000 (73.3%) 34m 5s], Loss_vae:1.288, Loss_rec:1.286, Loss_kld:0.003, Beta:0.733\n",
      "selfies: [O][=C][Branch2][Branch1][Ring2][N][C][=C][C][=C][C][=C][Ring1][=Branch1][C][=N][O][C][Branch2][Ring1][S][C][=C][C][=C][C][=Branch1][C][=O][N][Branch1][=Branch2][C][=C][C][=C][C][=C][Ring1][=Branch1][C][Branch1][C][O][=N][C][Ring1][=C][=C][Ring2][Ring1][C][=N][Ring2][Ring1][#Branch1][C][=C][C][=C][C][=N][Ring1][=Branch1]\n",
      "smiles: O=C(NC1=CC=CC=C1C2=NOC(C3=CC=C4C(=O)N(C5=CC=CC=C5)C(O)=NC4=C3)=N2)C6=CC=CC=N6\n"
     ]
    },
    {
     "name": "stderr",
     "output_type": "stream",
     "text": [
      "Training in progress...:  80%|██████████████████████████████████████████████████████████████████████████████████████████████▍                       | 12000/15000 [37:59<12:12,  4.10it/s]"
     ]
    },
    {
     "name": "stdout",
     "output_type": "stream",
     "text": [
      "[12000 (80.0%) 37m 59s], Loss_vae:1.283, Loss_rec:1.281, Loss_kld:0.002, Beta:0.800\n",
      "selfies: [C][C][=C][C][=C][Branch2][Branch1][Ring2][N][Branch2][Ring2][Branch2][C][Branch1][C][C][C][=Branch1][C][=O][N][C][=C][C][=C][Branch2][Ring1][Ring2][S][=Branch1][C][=O][=Branch1][C][=O][N][C][=C][C][=C][Branch1][C][Br][C][=C][Ring1][#Branch1][C][=C][Ring1][P][S][Branch1][C][C][=Branch1][C][=O][=O][C][=C][Ring2][Ring1][P]\n",
      "smiles: CC1=CC=C(N(C(C)C(=O)NC2=CC=C(S(=O)(=O)NC3=CC=C(Br)C=C3)C=C2)S(C)(=O)=O)C=C1\n"
     ]
    },
    {
     "name": "stderr",
     "output_type": "stream",
     "text": [
      "Training in progress...:  87%|██████████████████████████████████████████████████████████████████████████████████████████████████████▎               | 13000/15000 [41:53<08:21,  3.99it/s]"
     ]
    },
    {
     "name": "stdout",
     "output_type": "stream",
     "text": [
      "[13000 (86.7%) 41m 53s], Loss_vae:1.281, Loss_rec:1.280, Loss_kld:0.002, Beta:0.867\n",
      "selfies: [C][C][O][C][Branch2][Ring2][S][C][=C][C][=C][Branch1][=Branch2][C][Branch1][C][F][Branch1][C][F][F][C][=C][Ring1][#Branch2][C][N][C][=Branch1][C][=O][N][Branch1][=N][C][C][=C][C][=C][Branch1][C][F][C][=C][Ring1][#Branch1][C][C][C][O][C][C][Ring1][=Branch1][C][Branch1][C][O][C][Branch1][C][O][C][Ring2][Ring2][Ring2][O]\n",
      "smiles: CCOC(C1=CC=C(C(F)(F)F)C=C1CNC(=O)N(CC2=CC=C(F)C=C2)C3CCOCC3)C(O)C(O)CO\n"
     ]
    },
    {
     "name": "stderr",
     "output_type": "stream",
     "text": [
      "Training in progress...:  93%|██████████████████████████████████████████████████████████████████████████████████████████████████████████████▏       | 14000/15000 [46:13<04:37,  3.61it/s]"
     ]
    },
    {
     "name": "stdout",
     "output_type": "stream",
     "text": [
      "[14000 (93.3%) 46m 13s], Loss_vae:1.278, Loss_rec:1.276, Loss_kld:0.002, Beta:0.933\n",
      "selfies: [C][O][C][=C][C][Branch2][Ring2][=C][C][=C][C][=Branch1][C][=O][O][C][C][Branch1][C][O][C][Branch1][Ring1][C][O][O][C][Ring1][Branch2][Branch1][Ring1][C][O][O][C][O][C][Branch1][Ring1][C][O][C][Branch1][C][O][C][Branch1][C][O][C][Ring1][#Branch2][O][=C][C][=C][Ring2][Ring1][P][O]\n",
      "smiles: COC1=CC(C=CC(=O)OC2C(O)C(CO)OC2(CO)OC3OC(CO)C(O)C(O)C3O)=CC=C1O\n"
     ]
    },
    {
     "name": "stderr",
     "output_type": "stream",
     "text": [
      "Training in progress...: 100%|██████████████████████████████████████████████████████████████████████████████████████████████████████████████████████| 15000/15000 [50:10<00:00,  4.98it/s]"
     ]
    },
    {
     "name": "stdout",
     "output_type": "stream",
     "text": [
      "[15000 (100.0%) 50m 10s], Loss_vae:1.277, Loss_rec:1.275, Loss_kld:0.001, Beta:1.000\n",
      "selfies: [C][C][C][C][O][C][=C][C][=C][Branch2][Ring2][#Branch2][C][=Branch1][C][=O][N][C][=N][C][Branch2][Ring1][#Branch2][C][=C][C][=C][Branch1][S][S][=Branch1][C][=O][=Branch1][C][=O][N][C][C][O][C][C][Ring1][=Branch1][C][=C][Ring1][#C][=C][S][Ring2][Ring1][Ring2][C][=C][Ring2][Ring1][=N]\n",
      "smiles: CCCCOC1=CC=C(C(=O)NC2=NC(C3=CC=C(S(=O)(=O)N4CCOCC4)C=C3)=CS2)C=C1\n"
     ]
    },
    {
     "name": "stderr",
     "output_type": "stream",
     "text": [
      "\n"
     ]
    }
   ],
   "source": [
    "losses = my_generator.fit(gen_data, n_iterations=15000,\n",
    "                          batch_size=32,\n",
    "                          print_every=1000,\n",
    "                          ckpt_every=1000,\n",
    "                          model_path=model_path,\n",
    "                          losses_path=losses_path)"
   ]
  },
  {
   "cell_type": "code",
   "execution_count": 12,
   "metadata": {},
   "outputs": [],
   "source": [
    "my_generator.save_model(model_path)"
   ]
  },
  {
   "cell_type": "code",
   "execution_count": 13,
   "metadata": {},
   "outputs": [],
   "source": [
    "with open(losses_path, 'w') as fout:\n",
    "    fout.write(\"LOSS_VAE\\tLOSS_RECONSTRUCTION\\tLOSS_KLDIVERGENCE\\tBETA\\n\")\n",
    "    for loss_vae, loss_rec, loss_kld, beta in zip(losses['LOSS_VAE'], losses['LOSS_RECONSTRUCTION'], losses['LOSS_KLDIVERGENCE'], losses[\"BETA\"]):\n",
    "        fout.write(f\"{loss_vae:.6f}\\t{loss_rec:.6f}\\t{loss_kld:.6f}\\t{beta:.3f}\\n\")"
   ]
  },
  {
   "cell_type": "code",
   "execution_count": 14,
   "metadata": {},
   "outputs": [
    {
     "data": {
      "image/png": "[encoded data removed]",
      "text/plain": [
       "<Figure size 600x990 with 3 Axes>"
      ]
     },
     "metadata": {},
     "output_type": "display_data"
    }
   ],
   "source": [
    "sns.set_theme(style='whitegrid')\n",
    "\n",
    "fig, axes = plt.subplots(3,1,figsize=(6,9.9))\n",
    "\n",
    "axes[0].plot(losses['LOSS_VAE'], label='ELBO Loss', linewidth=2)\n",
    "axes[1].plot(losses['LOSS_RECONSTRUCTION'], label='Reconstruction Loss', linewidth=2)\n",
    "axes[2].plot(losses['LOSS_KLDIVERGENCE'], label='KL divergence', linewidth=2)\n",
    "\n",
    "#ax.set_ylabel('Loss', fontsize=16)\n",
    "axes[2].set_xlabel('Iterations', fontsize=16)\n",
    "\n",
    "axes[0].legend(loc='best')\n",
    "axes[1].legend(loc='best')\n",
    "axes[2].legend(loc='best')\n",
    "\n",
    "axes[2].set_yscale('log')\n",
    "\n",
    "plt.tight_layout()\n",
    "plt.show()"
   ]
  },
  {
   "cell_type": "code",
   "execution_count": 15,
   "metadata": {},
   "outputs": [],
   "source": [
    "def SMILES_generate(generator, n_to_generate, gen_data):\n",
    "    generated = []\n",
    "    for i in trange(n_to_generate):\n",
    "        sel = generator.evaluate(gen_data)\n",
    "        sel = sel.replace(gen_data.start_token, \"\").replace(gen_data.end_token, \"\")\n",
    "        smi = sf.decoder(sel)\n",
    "        generated.append(smi)\n",
    "    return generated"
   ]
  },
  {
   "cell_type": "code",
   "execution_count": 16,
   "metadata": {},
   "outputs": [],
   "source": [
    "def save_smiles(filepath, smiles):\n",
    "    with open(filepath, 'w') as fout:\n",
    "        for smi in smiles:\n",
    "            fout.write(f\"{smi}\\n\")\n",
    "    print(f\"[INFO] {len(smiles)} SMILES were saved in {filepath}\")"
   ]
  },
  {
   "cell_type": "code",
   "execution_count": 17,
   "metadata": {},
   "outputs": [
    {
     "name": "stderr",
     "output_type": "stream",
     "text": [
      "100%|██████████████████████████████████████████████████████████████████████████████████████████████████████████████████████████████████████████████| 30000/30000 [04:21<00:00, 114.78it/s]\n"
     ]
    }
   ],
   "source": [
    "n_sampling = 30000\n",
    "\n",
    "smi_after = SMILES_generate(my_generator, n_sampling, gen_data)"
   ]
  },
  {
   "cell_type": "code",
   "execution_count": 18,
   "metadata": {},
   "outputs": [
    {
     "name": "stdout",
     "output_type": "stream",
     "text": [
      "[INFO] 30000 SMILES were saved in outputs_1_pretraining/smi_after.csv\n"
     ]
    }
   ],
   "source": [
    "save_smiles(os.path.join(dataconfigs.output_dir, \"smi_after.csv\"), smi_after)"
   ]
  },
  {
   "cell_type": "code",
   "execution_count": null,
   "metadata": {},
   "outputs": [],
   "source": []
  }
 ],
 "metadata": {
  "anaconda-cloud": {},
  "kernelspec": {
   "display_name": "Python 3 (ipykernel)",
   "language": "python",
   "name": "python3"
  },
  "language_info": {
   "codemirror_mode": {
    "name": "ipython",
    "version": 3
   },
   "file_extension": ".py",
   "mimetype": "text/x-python",
   "name": "python",
   "nbconvert_exporter": "python",
   "pygments_lexer": "ipython3",
   "version": "3.8.18"
  }
 },
 "nbformat": 4,
 "nbformat_minor": 4
}
