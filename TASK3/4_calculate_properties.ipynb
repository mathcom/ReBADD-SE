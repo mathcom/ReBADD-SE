{
 "cells": [
  {
   "cell_type": "code",
   "execution_count": null,
   "id": "1d313088",
   "metadata": {},
   "outputs": [],
   "source": [
    "%env CUDA_VISIBLE_DEVICES=0"
   ]
  },
  {
   "cell_type": "code",
   "execution_count": null,
   "id": "b50f3b0f",
   "metadata": {},
   "outputs": [],
   "source": [
    "import os\n",
    "import sys\n",
    "import torch\n",
    "import tqdm\n",
    "import pandas as pd\n",
    "import selfies as sf\n",
    "from rdkit import Chem, RDLogger\n",
    "RDLogger.DisableLog('rdApp.*')"
   ]
  },
  {
   "cell_type": "code",
   "execution_count": null,
   "id": "f06a0d84",
   "metadata": {},
   "outputs": [],
   "source": [
    "## Inter-op parallelism\n",
    "torch.set_num_interop_threads(4)\n",
    "torch.get_num_interop_threads()\n",
    "## Intra-op parallelism\n",
    "torch.set_num_threads(4)\n",
    "torch.get_num_threads()"
   ]
  },
  {
   "cell_type": "code",
   "execution_count": null,
   "id": "58efad61",
   "metadata": {},
   "outputs": [],
   "source": [
    "class GPUCONFIGS:\n",
    "    def __init__(self):\n",
    "        self.use_cuda = torch.cuda.is_available()\n",
    "        self.device = torch.device('cuda:0' if self.use_cuda else 'cpu')\n",
    "        if self.use_cuda: torch.cuda.set_device(self.device)\n",
    "        \n",
    "gpuconfigs = GPUCONFIGS()\n",
    "print(torch.cuda.current_device())"
   ]
  },
  {
   "cell_type": "code",
   "execution_count": null,
   "id": "613ef15f",
   "metadata": {},
   "outputs": [],
   "source": [
    "REBADD_LIB_PATH = os.path.abspath(os.pardir)\n",
    "if REBADD_LIB_PATH not in sys.path:\n",
    "    sys.path = [REBADD_LIB_PATH] + sys.path\n",
    "\n",
    "from rebadd.bindutils import BAScorerBCL2, BAScorerBCLXL, BAScorerBCLW\n",
    "from rebadd.chemutils import SAScorer, RAScorer\n",
    "from rebadd.chemutils import calc_chem_properties # smi -> (mw, clogp, tpsa, qed)"
   ]
  },
  {
   "cell_type": "code",
   "execution_count": null,
   "id": "a698df8d",
   "metadata": {},
   "outputs": [],
   "source": [
    "calc_bcl2  = BAScorerBCL2(device=gpuconfigs.device, use_cuda=gpuconfigs.use_cuda)\n",
    "calc_bclxl = BAScorerBCLXL(device=gpuconfigs.device, use_cuda=gpuconfigs.use_cuda)\n",
    "calc_bclw  = BAScorerBCLW(device=gpuconfigs.device, use_cuda=gpuconfigs.use_cuda)\n",
    "calc_sa  = SAScorer()\n",
    "calc_ra  = RAScorer().set_params(n_jobs=4)"
   ]
  },
  {
   "cell_type": "code",
   "execution_count": null,
   "id": "4daafa6c",
   "metadata": {},
   "outputs": [],
   "source": [
    "def calc_properties(smi):\n",
    "    ## init\n",
    "    mw = clogp = tpsa = qed = 0.\n",
    "    s_bcl2 = s_bclxl = s_bclw = 0.\n",
    "    sa = 10.\n",
    "    ra = 0.\n",
    "\n",
    "    ## eval\n",
    "    try:\n",
    "        mw, clogp, tpsa, qed = calc_chem_properties(smi)\n",
    "        sa = calc_sa(smi)\n",
    "        ra = calc_ra(smi)\n",
    "        s_bcl2  = calc_bcl2(smi)\n",
    "        s_bclxl = calc_bclxl(smi)\n",
    "        s_bclw  = calc_bclw(smi)\n",
    "\n",
    "    except Chem.rdchem.AtomKekulizeException:\n",
    "        pass\n",
    "    except Chem.rdchem.AtomSanitizeException:\n",
    "        pass\n",
    "    except Chem.rdchem.AtomValenceException:\n",
    "        pass\n",
    "    except Chem.rdchem.KekulizeException:\n",
    "        pass\n",
    "    except Chem.rdchem.MolSanitizeException:\n",
    "        pass\n",
    "    \n",
    "    return {'smiles':smi, 'bcl2':s_bcl2, 'bclxl':s_bclxl, 'bclw':s_bclw, 'sa':sa, 'ra':ra, 'mw':mw, 'logp':clogp, 'tpsa':tpsa, 'qed':qed}"
   ]
  },
  {
   "cell_type": "code",
   "execution_count": null,
   "id": "c4155303",
   "metadata": {},
   "outputs": [],
   "source": [
    "drug_smi = \"CC1(CCC(=C(C1)CN2CCN(CC2)C3=CC=C(C=C3)C(=O)NS(=O)(=O)C4=CC(=C(C=C4)NC(CCN5CCOCC5)CSC6=CC=CC=C6)S(=O)(=O)C(F)(F)F)C7=CC=C(C=C7)Cl)C\"\n",
    "pd.DataFrame([calc_properties(drug_smi)])"
   ]
  },
  {
   "cell_type": "code",
   "execution_count": null,
   "id": "9da95a1b",
   "metadata": {},
   "outputs": [],
   "source": [
    "class CKPTCONFIGS:\n",
    "    def __init__(self):\n",
    "        \n",
    "        self.input_dir = 'outputs_3_checkpoints'                \n",
    "        self.filenames = [f'smi_after.csv.{num:04d}' for num in range(50,550,50)]\n",
    "        \n",
    "ckptconfigs = CKPTCONFIGS()"
   ]
  },
  {
   "cell_type": "code",
   "execution_count": null,
   "id": "dee02b82",
   "metadata": {},
   "outputs": [],
   "source": [
    "class OUTPUTCONFIGS:\n",
    "    def __init__(self):\n",
    "        self.output_dir = \"outputs_4_calculate_properties\"\n",
    "        if not os.path.exists(self.output_dir):\n",
    "            os.mkdir(self.output_dir)\n",
    "            \n",
    "outputconfigs = OUTPUTCONFIGS()"
   ]
  },
  {
   "cell_type": "code",
   "execution_count": null,
   "id": "c5d20412",
   "metadata": {},
   "outputs": [],
   "source": [
    "for filename in ckptconfigs.filenames:\n",
    "    \n",
    "    filepath = os.path.join(ckptconfigs.input_dir, filename)\n",
    "    \n",
    "    df = pd.read_csv(filepath, header=None, skip_blank_lines=True)\n",
    "    gen_smiles = df.iloc[:,0].values.tolist()\n",
    "    \n",
    "    print(len(gen_smiles))\n",
    "    \n",
    "    data = []\n",
    "    for smi in tqdm.tqdm(gen_smiles):\n",
    "        data.append(calc_properties(smi))\n",
    "        \n",
    "    df = pd.DataFrame(data)\n",
    "    \n",
    "    output_filepath = os.path.join(outputconfigs.output_dir, filename)\n",
    "    df.to_csv(output_filepath, index=False)"
   ]
  },
  {
   "cell_type": "code",
   "execution_count": null,
   "id": "66503fd6",
   "metadata": {},
   "outputs": [],
   "source": []
  }
 ],
 "metadata": {
  "kernelspec": {
   "display_name": "Python 3 (ipykernel)",
   "language": "python",
   "name": "python3"
  },
  "language_info": {
   "codemirror_mode": {
    "name": "ipython",
    "version": 3
   },
   "file_extension": ".py",
   "mimetype": "text/x-python",
   "name": "python",
   "nbconvert_exporter": "python",
   "pygments_lexer": "ipython3",
   "version": "3.8.18"
  }
 },
 "nbformat": 4,
 "nbformat_minor": 5
}
