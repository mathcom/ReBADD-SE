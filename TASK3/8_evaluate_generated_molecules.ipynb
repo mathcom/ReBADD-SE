{
 "cells": [
  {
   "cell_type": "code",
   "execution_count": 1,
   "id": "2d295572",
   "metadata": {},
   "outputs": [],
   "source": [
    "import os\n",
    "import sys\n",
    "import tqdm\n",
    "import pandas as pd"
   ]
  },
  {
   "cell_type": "code",
   "execution_count": 2,
   "id": "50f2d8b9",
   "metadata": {},
   "outputs": [],
   "source": [
    "REBADD_LIB_PATH = os.path.abspath(os.pardir)\n",
    "if REBADD_LIB_PATH not in sys.path:\n",
    "    sys.path = [REBADD_LIB_PATH] + sys.path\n",
    "\n",
    "from rebadd.evaluate import evaluate_sr_nov_div"
   ]
  },
  {
   "cell_type": "code",
   "execution_count": 3,
   "id": "05114561",
   "metadata": {},
   "outputs": [
    {
     "name": "stdout",
     "output_type": "stream",
     "text": [
      "2\n"
     ]
    }
   ],
   "source": [
    "## Test data (navitoclax, ABT-737)\n",
    "filepath_ref = os.path.join(os.pardir, 'data', 'zinc15', 'zinc15_test.txt')\n",
    "df_ref = pd.read_csv(filepath_ref, header=None)\n",
    "\n",
    "referece_smiles_iter = df_ref.iloc[:,0].values.tolist()\n",
    "\n",
    "print(len(referece_smiles_iter))"
   ]
  },
  {
   "cell_type": "code",
   "execution_count": 4,
   "id": "12885dfa",
   "metadata": {},
   "outputs": [],
   "source": [
    "input_dir = 'outputs_7_calculate_properties_generated'\n",
    "\n",
    "modelnames = [\n",
    "    'frag+reinforce+scst+offpolicy',\n",
    "]\n",
    "\n",
    "filenames = [f'smi_after.csv.{num}' for num in range(10)]"
   ]
  },
  {
   "cell_type": "code",
   "execution_count": 5,
   "id": "184c7571",
   "metadata": {},
   "outputs": [],
   "source": [
    "frames = []\n",
    "\n",
    "for modelname in modelnames:\n",
    "    \n",
    "    for filename in filenames:\n",
    "        \n",
    "        filepath = os.path.join(input_dir, modelname, filename)\n",
    "        \n",
    "        df = pd.read_csv(filepath)\n",
    "        \n",
    "        df = df.loc[:,('smiles', 'bcl2', 'bclxl', 'bclw')]\n",
    "        df.loc[:,'model'] = modelname\n",
    "        df.loc[:,'checkpoint'] = filename.split('.')[-1]\n",
    "        \n",
    "        frames.append(df)"
   ]
  },
  {
   "cell_type": "code",
   "execution_count": 6,
   "id": "1551905f",
   "metadata": {},
   "outputs": [
    {
     "name": "stderr",
     "output_type": "stream",
     "text": [
      "100%|██████████| 10/10 [00:07<00:00,  1.32it/s]\n"
     ]
    }
   ],
   "source": [
    "data = []\n",
    "\n",
    "for df in tqdm.tqdm(frames):\n",
    "\n",
    "    s_sr, s_nov, s_div = evaluate_sr_nov_div(df, referece_smiles_iter, 'bcl2_bclxl_bclw')\n",
    "    \n",
    "    data.append({'SR':s_sr, 'Nov':s_nov, 'Div':s_div, 'Model':df.loc[0,'model'], 'Ckpt':df.loc[0,'checkpoint']})"
   ]
  },
  {
   "cell_type": "code",
   "execution_count": 7,
   "id": "e9ee4ae3",
   "metadata": {},
   "outputs": [
    {
     "data": {
      "text/html": [
       "<div>\n",
       "<style scoped>\n",
       "    .dataframe tbody tr th:only-of-type {\n",
       "        vertical-align: middle;\n",
       "    }\n",
       "\n",
       "    .dataframe tbody tr th {\n",
       "        vertical-align: top;\n",
       "    }\n",
       "\n",
       "    .dataframe thead th {\n",
       "        text-align: right;\n",
       "    }\n",
       "</style>\n",
       "<table border=\"1\" class=\"dataframe\">\n",
       "  <thead>\n",
       "    <tr style=\"text-align: right;\">\n",
       "      <th></th>\n",
       "      <th>SR</th>\n",
       "      <th>Nov</th>\n",
       "      <th>Div</th>\n",
       "      <th>Model</th>\n",
       "      <th>Ckpt</th>\n",
       "      <th>HMean</th>\n",
       "    </tr>\n",
       "  </thead>\n",
       "  <tbody>\n",
       "    <tr>\n",
       "      <th>0</th>\n",
       "      <td>0.9866</td>\n",
       "      <td>1.0</td>\n",
       "      <td>0.517870</td>\n",
       "      <td>frag+reinforce+scst+offpolicy</td>\n",
       "      <td>0</td>\n",
       "      <td>0.799622</td>\n",
       "    </tr>\n",
       "    <tr>\n",
       "      <th>1</th>\n",
       "      <td>0.9854</td>\n",
       "      <td>1.0</td>\n",
       "      <td>0.524482</td>\n",
       "      <td>frag+reinforce+scst+offpolicy</td>\n",
       "      <td>1</td>\n",
       "      <td>0.802681</td>\n",
       "    </tr>\n",
       "    <tr>\n",
       "      <th>2</th>\n",
       "      <td>0.9870</td>\n",
       "      <td>1.0</td>\n",
       "      <td>0.502878</td>\n",
       "      <td>frag+reinforce+scst+offpolicy</td>\n",
       "      <td>2</td>\n",
       "      <td>0.791945</td>\n",
       "    </tr>\n",
       "    <tr>\n",
       "      <th>3</th>\n",
       "      <td>0.9860</td>\n",
       "      <td>1.0</td>\n",
       "      <td>0.503612</td>\n",
       "      <td>frag+reinforce+scst+offpolicy</td>\n",
       "      <td>3</td>\n",
       "      <td>0.792062</td>\n",
       "    </tr>\n",
       "    <tr>\n",
       "      <th>4</th>\n",
       "      <td>0.9860</td>\n",
       "      <td>1.0</td>\n",
       "      <td>0.519443</td>\n",
       "      <td>frag+reinforce+scst+offpolicy</td>\n",
       "      <td>4</td>\n",
       "      <td>0.800268</td>\n",
       "    </tr>\n",
       "    <tr>\n",
       "      <th>5</th>\n",
       "      <td>0.9838</td>\n",
       "      <td>1.0</td>\n",
       "      <td>0.526200</td>\n",
       "      <td>frag+reinforce+scst+offpolicy</td>\n",
       "      <td>5</td>\n",
       "      <td>0.803121</td>\n",
       "    </tr>\n",
       "    <tr>\n",
       "      <th>6</th>\n",
       "      <td>0.9862</td>\n",
       "      <td>1.0</td>\n",
       "      <td>0.510418</td>\n",
       "      <td>frag+reinforce+scst+offpolicy</td>\n",
       "      <td>6</td>\n",
       "      <td>0.795664</td>\n",
       "    </tr>\n",
       "    <tr>\n",
       "      <th>7</th>\n",
       "      <td>0.9862</td>\n",
       "      <td>1.0</td>\n",
       "      <td>0.518040</td>\n",
       "      <td>frag+reinforce+scst+offpolicy</td>\n",
       "      <td>7</td>\n",
       "      <td>0.799601</td>\n",
       "    </tr>\n",
       "    <tr>\n",
       "      <th>8</th>\n",
       "      <td>0.9876</td>\n",
       "      <td>1.0</td>\n",
       "      <td>0.515100</td>\n",
       "      <td>frag+reinforce+scst+offpolicy</td>\n",
       "      <td>8</td>\n",
       "      <td>0.798464</td>\n",
       "    </tr>\n",
       "    <tr>\n",
       "      <th>9</th>\n",
       "      <td>0.9880</td>\n",
       "      <td>1.0</td>\n",
       "      <td>0.514526</td>\n",
       "      <td>frag+reinforce+scst+offpolicy</td>\n",
       "      <td>9</td>\n",
       "      <td>0.798276</td>\n",
       "    </tr>\n",
       "  </tbody>\n",
       "</table>\n",
       "</div>"
      ],
      "text/plain": [
       "       SR  Nov       Div                          Model Ckpt     HMean\n",
       "0  0.9866  1.0  0.517870  frag+reinforce+scst+offpolicy    0  0.799622\n",
       "1  0.9854  1.0  0.524482  frag+reinforce+scst+offpolicy    1  0.802681\n",
       "2  0.9870  1.0  0.502878  frag+reinforce+scst+offpolicy    2  0.791945\n",
       "3  0.9860  1.0  0.503612  frag+reinforce+scst+offpolicy    3  0.792062\n",
       "4  0.9860  1.0  0.519443  frag+reinforce+scst+offpolicy    4  0.800268\n",
       "5  0.9838  1.0  0.526200  frag+reinforce+scst+offpolicy    5  0.803121\n",
       "6  0.9862  1.0  0.510418  frag+reinforce+scst+offpolicy    6  0.795664\n",
       "7  0.9862  1.0  0.518040  frag+reinforce+scst+offpolicy    7  0.799601\n",
       "8  0.9876  1.0  0.515100  frag+reinforce+scst+offpolicy    8  0.798464\n",
       "9  0.9880  1.0  0.514526  frag+reinforce+scst+offpolicy    9  0.798276"
      ]
     },
     "execution_count": 7,
     "metadata": {},
     "output_type": "execute_result"
    }
   ],
   "source": [
    "df_records = pd.DataFrame(data)\n",
    "df_records.loc[:,'HMean'] = (df_records.loc[:,'SR'] * df_records.loc[:,'Nov'] * df_records.loc[:,'Div']) ** 0.333\n",
    "\n",
    "df_records"
   ]
  },
  {
   "cell_type": "code",
   "execution_count": 8,
   "id": "c564a921",
   "metadata": {},
   "outputs": [
    {
     "data": {
      "text/html": [
       "<div>\n",
       "<style scoped>\n",
       "    .dataframe tbody tr th:only-of-type {\n",
       "        vertical-align: middle;\n",
       "    }\n",
       "\n",
       "    .dataframe tbody tr th {\n",
       "        vertical-align: top;\n",
       "    }\n",
       "\n",
       "    .dataframe thead th {\n",
       "        text-align: right;\n",
       "    }\n",
       "</style>\n",
       "<table border=\"1\" class=\"dataframe\">\n",
       "  <thead>\n",
       "    <tr style=\"text-align: right;\">\n",
       "      <th></th>\n",
       "      <th>SR</th>\n",
       "      <th>Nov</th>\n",
       "      <th>Div</th>\n",
       "      <th>HMean</th>\n",
       "    </tr>\n",
       "    <tr>\n",
       "      <th>Model</th>\n",
       "      <th></th>\n",
       "      <th></th>\n",
       "      <th></th>\n",
       "      <th></th>\n",
       "    </tr>\n",
       "  </thead>\n",
       "  <tbody>\n",
       "    <tr>\n",
       "      <th>frag+reinforce+scst+offpolicy</th>\n",
       "      <td>0.98628</td>\n",
       "      <td>1.0</td>\n",
       "      <td>0.515257</td>\n",
       "      <td>0.79817</td>\n",
       "    </tr>\n",
       "  </tbody>\n",
       "</table>\n",
       "</div>"
      ],
      "text/plain": [
       "                                    SR  Nov       Div    HMean\n",
       "Model                                                         \n",
       "frag+reinforce+scst+offpolicy  0.98628  1.0  0.515257  0.79817"
      ]
     },
     "execution_count": 8,
     "metadata": {},
     "output_type": "execute_result"
    }
   ],
   "source": [
    "df_records.groupby('Model').mean(numeric_only=True)"
   ]
  },
  {
   "cell_type": "code",
   "execution_count": 9,
   "id": "b406ab3a",
   "metadata": {},
   "outputs": [
    {
     "data": {
      "text/html": [
       "<div>\n",
       "<style scoped>\n",
       "    .dataframe tbody tr th:only-of-type {\n",
       "        vertical-align: middle;\n",
       "    }\n",
       "\n",
       "    .dataframe tbody tr th {\n",
       "        vertical-align: top;\n",
       "    }\n",
       "\n",
       "    .dataframe thead th {\n",
       "        text-align: right;\n",
       "    }\n",
       "</style>\n",
       "<table border=\"1\" class=\"dataframe\">\n",
       "  <thead>\n",
       "    <tr style=\"text-align: right;\">\n",
       "      <th></th>\n",
       "      <th>SR</th>\n",
       "      <th>Nov</th>\n",
       "      <th>Div</th>\n",
       "      <th>HMean</th>\n",
       "    </tr>\n",
       "    <tr>\n",
       "      <th>Model</th>\n",
       "      <th></th>\n",
       "      <th></th>\n",
       "      <th></th>\n",
       "      <th></th>\n",
       "    </tr>\n",
       "  </thead>\n",
       "  <tbody>\n",
       "    <tr>\n",
       "      <th>frag+reinforce+scst+offpolicy</th>\n",
       "      <td>0.001175</td>\n",
       "      <td>0.0</td>\n",
       "      <td>0.007816</td>\n",
       "      <td>0.003885</td>\n",
       "    </tr>\n",
       "  </tbody>\n",
       "</table>\n",
       "</div>"
      ],
      "text/plain": [
       "                                     SR  Nov       Div     HMean\n",
       "Model                                                           \n",
       "frag+reinforce+scst+offpolicy  0.001175  0.0  0.007816  0.003885"
      ]
     },
     "execution_count": 9,
     "metadata": {},
     "output_type": "execute_result"
    }
   ],
   "source": [
    "df_records.groupby('Model').std(numeric_only=True)"
   ]
  },
  {
   "cell_type": "code",
   "execution_count": null,
   "id": "7758dde4",
   "metadata": {},
   "outputs": [],
   "source": []
  }
 ],
 "metadata": {
  "kernelspec": {
   "display_name": "Python 3 (ipykernel)",
   "language": "python",
   "name": "python3"
  },
  "language_info": {
   "codemirror_mode": {
    "name": "ipython",
    "version": 3
   },
   "file_extension": ".py",
   "mimetype": "text/x-python",
   "name": "python",
   "nbconvert_exporter": "python",
   "pygments_lexer": "ipython3",
   "version": "3.8.13"
  }
 },
 "nbformat": 4,
 "nbformat_minor": 5
}
