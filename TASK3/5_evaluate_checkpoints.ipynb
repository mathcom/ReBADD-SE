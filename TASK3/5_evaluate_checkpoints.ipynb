{
 "cells": [
  {
   "cell_type": "code",
   "execution_count": 1,
   "id": "2d295572",
   "metadata": {},
   "outputs": [],
   "source": [
    "import os\n",
    "import sys\n",
    "import tqdm\n",
    "import pandas as pd"
   ]
  },
  {
   "cell_type": "code",
   "execution_count": 2,
   "id": "50f2d8b9",
   "metadata": {},
   "outputs": [],
   "source": [
    "REBADD_LIB_PATH = os.path.abspath(os.pardir)\n",
    "if REBADD_LIB_PATH not in sys.path:\n",
    "    sys.path = [REBADD_LIB_PATH] + sys.path\n",
    "\n",
    "from rebadd.evaluate import evaluate_sr_nov_div"
   ]
  },
  {
   "cell_type": "code",
   "execution_count": 3,
   "id": "05114561",
   "metadata": {},
   "outputs": [
    {
     "name": "stdout",
     "output_type": "stream",
     "text": [
      "2\n"
     ]
    }
   ],
   "source": [
    "## Test data (navitoclax, ABT-737)\n",
    "filepath_ref = os.path.join(os.pardir, 'data', 'zinc15', 'zinc15_test.txt')\n",
    "df_ref = pd.read_csv(filepath_ref, header=None)\n",
    "\n",
    "referece_smiles_iter = df_ref.iloc[:,0].values.tolist()\n",
    "\n",
    "print(len(referece_smiles_iter))"
   ]
  },
  {
   "cell_type": "code",
   "execution_count": 4,
   "id": "12885dfa",
   "metadata": {},
   "outputs": [],
   "source": [
    "input_dir = 'outputs_4_calculate_properties'\n",
    "\n",
    "modelnames = [\n",
    "    'zinc15',\n",
    "]\n",
    "\n",
    "filenames = [f'smi_after.csv.{num:04d}' for num in range(50,550,50)]"
   ]
  },
  {
   "cell_type": "code",
   "execution_count": 5,
   "id": "184c7571",
   "metadata": {},
   "outputs": [],
   "source": [
    "frames = []\n",
    "\n",
    "for modelname in modelnames:\n",
    "    \n",
    "    for filename in filenames:\n",
    "        \n",
    "        filepath = os.path.join(input_dir, modelname, filename)\n",
    "        \n",
    "        df = pd.read_csv(filepath)\n",
    "        \n",
    "        df = df.loc[:,('smiles', 'bcl2', 'bclxl', 'bclw')]\n",
    "        df.loc[:,'model'] = modelname\n",
    "        df.loc[:,'checkpoint'] = filename.split('.')[-1]\n",
    "        \n",
    "        frames.append(df)"
   ]
  },
  {
   "cell_type": "code",
   "execution_count": 6,
   "id": "1551905f",
   "metadata": {},
   "outputs": [
    {
     "name": "stderr",
     "output_type": "stream",
     "text": [
      "100%|██████████| 10/10 [00:07<00:00,  1.26it/s]\n"
     ]
    }
   ],
   "source": [
    "data = []\n",
    "\n",
    "for df in tqdm.tqdm(frames):\n",
    "\n",
    "    s_sr, s_nov, s_div = evaluate_sr_nov_div(df, referece_smiles_iter, 'bcl2_bclxl_bclw')\n",
    "    \n",
    "    data.append({'SR':s_sr, 'Nov':s_nov, 'Div':s_div, 'Model':df.loc[0,'model'], 'Ckpt':df.loc[0,'checkpoint']})"
   ]
  },
  {
   "cell_type": "code",
   "execution_count": 7,
   "id": "ae0d87ca",
   "metadata": {},
   "outputs": [
    {
     "data": {
      "text/html": [
       "<div>\n",
       "<style scoped>\n",
       "    .dataframe tbody tr th:only-of-type {\n",
       "        vertical-align: middle;\n",
       "    }\n",
       "\n",
       "    .dataframe tbody tr th {\n",
       "        vertical-align: top;\n",
       "    }\n",
       "\n",
       "    .dataframe thead th {\n",
       "        text-align: right;\n",
       "    }\n",
       "</style>\n",
       "<table border=\"1\" class=\"dataframe\">\n",
       "  <thead>\n",
       "    <tr style=\"text-align: right;\">\n",
       "      <th></th>\n",
       "      <th>SR</th>\n",
       "      <th>Nov</th>\n",
       "      <th>Div</th>\n",
       "      <th>Model</th>\n",
       "      <th>Ckpt</th>\n",
       "      <th>HMean</th>\n",
       "    </tr>\n",
       "  </thead>\n",
       "  <tbody>\n",
       "    <tr>\n",
       "      <th>0</th>\n",
       "      <td>0.0008</td>\n",
       "      <td>1.0</td>\n",
       "      <td>0.911827</td>\n",
       "      <td>zinc15</td>\n",
       "      <td>0050</td>\n",
       "      <td>0.090236</td>\n",
       "    </tr>\n",
       "    <tr>\n",
       "      <th>1</th>\n",
       "      <td>0.0032</td>\n",
       "      <td>1.0</td>\n",
       "      <td>0.761832</td>\n",
       "      <td>zinc15</td>\n",
       "      <td>0100</td>\n",
       "      <td>0.134857</td>\n",
       "    </tr>\n",
       "    <tr>\n",
       "      <th>2</th>\n",
       "      <td>0.0020</td>\n",
       "      <td>1.0</td>\n",
       "      <td>0.590627</td>\n",
       "      <td>zinc15</td>\n",
       "      <td>0150</td>\n",
       "      <td>0.105947</td>\n",
       "    </tr>\n",
       "    <tr>\n",
       "      <th>3</th>\n",
       "      <td>0.0550</td>\n",
       "      <td>1.0</td>\n",
       "      <td>0.468041</td>\n",
       "      <td>zinc15</td>\n",
       "      <td>0200</td>\n",
       "      <td>0.295628</td>\n",
       "    </tr>\n",
       "    <tr>\n",
       "      <th>4</th>\n",
       "      <td>0.4674</td>\n",
       "      <td>1.0</td>\n",
       "      <td>0.474016</td>\n",
       "      <td>zinc15</td>\n",
       "      <td>0250</td>\n",
       "      <td>0.605404</td>\n",
       "    </tr>\n",
       "    <tr>\n",
       "      <th>5</th>\n",
       "      <td>0.8266</td>\n",
       "      <td>1.0</td>\n",
       "      <td>0.449494</td>\n",
       "      <td>zinc15</td>\n",
       "      <td>0300</td>\n",
       "      <td>0.719145</td>\n",
       "    </tr>\n",
       "    <tr>\n",
       "      <th>6</th>\n",
       "      <td>0.9726</td>\n",
       "      <td>1.0</td>\n",
       "      <td>0.455653</td>\n",
       "      <td>zinc15</td>\n",
       "      <td>0350</td>\n",
       "      <td>0.762619</td>\n",
       "    </tr>\n",
       "    <tr>\n",
       "      <th>7</th>\n",
       "      <td>0.9860</td>\n",
       "      <td>1.0</td>\n",
       "      <td>0.481552</td>\n",
       "      <td>zinc15</td>\n",
       "      <td>0400</td>\n",
       "      <td>0.780335</td>\n",
       "    </tr>\n",
       "    <tr>\n",
       "      <th>8</th>\n",
       "      <td>0.9854</td>\n",
       "      <td>1.0</td>\n",
       "      <td>0.511271</td>\n",
       "      <td>zinc15</td>\n",
       "      <td>0450</td>\n",
       "      <td>0.795891</td>\n",
       "    </tr>\n",
       "    <tr>\n",
       "      <th>9</th>\n",
       "      <td>0.9868</td>\n",
       "      <td>1.0</td>\n",
       "      <td>0.527039</td>\n",
       "      <td>zinc15</td>\n",
       "      <td>0500</td>\n",
       "      <td>0.804363</td>\n",
       "    </tr>\n",
       "  </tbody>\n",
       "</table>\n",
       "</div>"
      ],
      "text/plain": [
       "       SR  Nov       Div   Model  Ckpt     HMean\n",
       "0  0.0008  1.0  0.911827  zinc15  0050  0.090236\n",
       "1  0.0032  1.0  0.761832  zinc15  0100  0.134857\n",
       "2  0.0020  1.0  0.590627  zinc15  0150  0.105947\n",
       "3  0.0550  1.0  0.468041  zinc15  0200  0.295628\n",
       "4  0.4674  1.0  0.474016  zinc15  0250  0.605404\n",
       "5  0.8266  1.0  0.449494  zinc15  0300  0.719145\n",
       "6  0.9726  1.0  0.455653  zinc15  0350  0.762619\n",
       "7  0.9860  1.0  0.481552  zinc15  0400  0.780335\n",
       "8  0.9854  1.0  0.511271  zinc15  0450  0.795891\n",
       "9  0.9868  1.0  0.527039  zinc15  0500  0.804363"
      ]
     },
     "execution_count": 7,
     "metadata": {},
     "output_type": "execute_result"
    }
   ],
   "source": [
    "df_records = pd.DataFrame(data)\n",
    "df_records.loc[:,'HMean'] = (df_records.loc[:,'SR'] * df_records.loc[:,'Nov'] * df_records.loc[:,'Div']) ** 0.333\n",
    "\n",
    "df_records"
   ]
  },
  {
   "cell_type": "code",
   "execution_count": null,
   "id": "c564a921",
   "metadata": {},
   "outputs": [],
   "source": []
  }
 ],
 "metadata": {
  "kernelspec": {
   "display_name": "Python 3 (ipykernel)",
   "language": "python",
   "name": "python3"
  },
  "language_info": {
   "codemirror_mode": {
    "name": "ipython",
    "version": 3
   },
   "file_extension": ".py",
   "mimetype": "text/x-python",
   "name": "python",
   "nbconvert_exporter": "python",
   "pygments_lexer": "ipython3",
   "version": "3.8.13"
  }
 },
 "nbformat": 4,
 "nbformat_minor": 5
}
