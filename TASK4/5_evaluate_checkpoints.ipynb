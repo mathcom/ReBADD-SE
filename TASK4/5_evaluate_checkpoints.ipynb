{
 "cells": [
  {
   "cell_type": "code",
   "execution_count": 1,
   "id": "9cf00ead",
   "metadata": {},
   "outputs": [],
   "source": [
    "import os\n",
    "import sys\n",
    "import tqdm\n",
    "import pandas as pd"
   ]
  },
  {
   "cell_type": "code",
   "execution_count": 2,
   "id": "d2f02c96",
   "metadata": {},
   "outputs": [],
   "source": [
    "REBADD_LIB_PATH = os.path.abspath(os.pardir)\n",
    "if REBADD_LIB_PATH not in sys.path:\n",
    "    sys.path = [REBADD_LIB_PATH] + sys.path\n",
    "\n",
    "from rebadd.evaluate import evaluate_sr_nov_div"
   ]
  },
  {
   "cell_type": "code",
   "execution_count": 3,
   "id": "0fa8b185",
   "metadata": {},
   "outputs": [
    {
     "name": "stdout",
     "output_type": "stream",
     "text": [
      "2\n"
     ]
    }
   ],
   "source": [
    "## Test data (navitoclax, ABT-737)\n",
    "filepath_ref = os.path.join(os.pardir, 'data', 'zinc15', 'zinc15_test.txt')\n",
    "df_ref = pd.read_csv(filepath_ref, header=None)\n",
    "\n",
    "referece_smiles_iter = df_ref.iloc[:,0].values.tolist()\n",
    "\n",
    "print(len(referece_smiles_iter))"
   ]
  },
  {
   "cell_type": "code",
   "execution_count": 4,
   "id": "a34e843f",
   "metadata": {},
   "outputs": [],
   "source": [
    "input_dir = 'outputs_4_calculate_properties'\n",
    "\n",
    "modelnames = [\n",
    "    'zinc15',\n",
    "]\n",
    "\n",
    "filenames = [f'smi_after.csv.{num:04d}' for num in range(50,550,50)]"
   ]
  },
  {
   "cell_type": "code",
   "execution_count": 5,
   "id": "603dc4fd",
   "metadata": {},
   "outputs": [],
   "source": [
    "frames = []\n",
    "\n",
    "for modelname in modelnames:\n",
    "    \n",
    "    for filename in filenames:\n",
    "        \n",
    "        filepath = os.path.join(input_dir, modelname, filename)\n",
    "        \n",
    "        df = pd.read_csv(filepath)\n",
    "        \n",
    "        df = df.loc[:,('smiles', 'bcl2', 'bclxl', 'bclw')]\n",
    "        df.loc[:,'model'] = modelname\n",
    "        df.loc[:,'checkpoint'] = filename.split('.')[-1]\n",
    "        \n",
    "        frames.append(df)"
   ]
  },
  {
   "cell_type": "code",
   "execution_count": 6,
   "id": "55063e21",
   "metadata": {},
   "outputs": [
    {
     "name": "stderr",
     "output_type": "stream",
     "text": [
      "100%|██████████| 10/10 [00:06<00:00,  1.58it/s]\n"
     ]
    }
   ],
   "source": [
    "data = []\n",
    "\n",
    "for df in tqdm.tqdm(frames):\n",
    "\n",
    "    s_sr, s_nov, s_div = evaluate_sr_nov_div(df, referece_smiles_iter, 'bcl2_bclxl_bclw')\n",
    "    \n",
    "    data.append({'SR':s_sr, 'Nov':s_nov, 'Div':s_div, 'Model':df.loc[0,'model'], 'Ckpt':df.loc[0,'checkpoint']})"
   ]
  },
  {
   "cell_type": "code",
   "execution_count": 7,
   "id": "1f14fdab",
   "metadata": {},
   "outputs": [
    {
     "data": {
      "text/html": [
       "<div>\n",
       "<style scoped>\n",
       "    .dataframe tbody tr th:only-of-type {\n",
       "        vertical-align: middle;\n",
       "    }\n",
       "\n",
       "    .dataframe tbody tr th {\n",
       "        vertical-align: top;\n",
       "    }\n",
       "\n",
       "    .dataframe thead th {\n",
       "        text-align: right;\n",
       "    }\n",
       "</style>\n",
       "<table border=\"1\" class=\"dataframe\">\n",
       "  <thead>\n",
       "    <tr style=\"text-align: right;\">\n",
       "      <th></th>\n",
       "      <th>SR</th>\n",
       "      <th>Nov</th>\n",
       "      <th>Div</th>\n",
       "      <th>Model</th>\n",
       "      <th>Ckpt</th>\n",
       "      <th>HMean</th>\n",
       "    </tr>\n",
       "  </thead>\n",
       "  <tbody>\n",
       "    <tr>\n",
       "      <th>0</th>\n",
       "      <td>0.0022</td>\n",
       "      <td>1.0</td>\n",
       "      <td>0.893657</td>\n",
       "      <td>zinc15</td>\n",
       "      <td>0050</td>\n",
       "      <td>0.125536</td>\n",
       "    </tr>\n",
       "    <tr>\n",
       "      <th>1</th>\n",
       "      <td>0.0050</td>\n",
       "      <td>1.0</td>\n",
       "      <td>0.899144</td>\n",
       "      <td>zinc15</td>\n",
       "      <td>0100</td>\n",
       "      <td>0.165342</td>\n",
       "    </tr>\n",
       "    <tr>\n",
       "      <th>2</th>\n",
       "      <td>0.0072</td>\n",
       "      <td>1.0</td>\n",
       "      <td>0.895114</td>\n",
       "      <td>zinc15</td>\n",
       "      <td>0150</td>\n",
       "      <td>0.186409</td>\n",
       "    </tr>\n",
       "    <tr>\n",
       "      <th>3</th>\n",
       "      <td>0.0056</td>\n",
       "      <td>1.0</td>\n",
       "      <td>0.890290</td>\n",
       "      <td>zinc15</td>\n",
       "      <td>0200</td>\n",
       "      <td>0.171136</td>\n",
       "    </tr>\n",
       "    <tr>\n",
       "      <th>4</th>\n",
       "      <td>0.0152</td>\n",
       "      <td>1.0</td>\n",
       "      <td>0.719505</td>\n",
       "      <td>zinc15</td>\n",
       "      <td>0250</td>\n",
       "      <td>0.222303</td>\n",
       "    </tr>\n",
       "    <tr>\n",
       "      <th>5</th>\n",
       "      <td>0.1340</td>\n",
       "      <td>1.0</td>\n",
       "      <td>0.641088</td>\n",
       "      <td>zinc15</td>\n",
       "      <td>0300</td>\n",
       "      <td>0.441600</td>\n",
       "    </tr>\n",
       "    <tr>\n",
       "      <th>6</th>\n",
       "      <td>0.3722</td>\n",
       "      <td>1.0</td>\n",
       "      <td>0.548857</td>\n",
       "      <td>zinc15</td>\n",
       "      <td>0350</td>\n",
       "      <td>0.589262</td>\n",
       "    </tr>\n",
       "    <tr>\n",
       "      <th>7</th>\n",
       "      <td>0.4502</td>\n",
       "      <td>1.0</td>\n",
       "      <td>0.600873</td>\n",
       "      <td>zinc15</td>\n",
       "      <td>0400</td>\n",
       "      <td>0.647021</td>\n",
       "    </tr>\n",
       "    <tr>\n",
       "      <th>8</th>\n",
       "      <td>0.5440</td>\n",
       "      <td>1.0</td>\n",
       "      <td>0.625030</td>\n",
       "      <td>zinc15</td>\n",
       "      <td>0450</td>\n",
       "      <td>0.698215</td>\n",
       "    </tr>\n",
       "    <tr>\n",
       "      <th>9</th>\n",
       "      <td>0.9732</td>\n",
       "      <td>1.0</td>\n",
       "      <td>0.526604</td>\n",
       "      <td>zinc15</td>\n",
       "      <td>0500</td>\n",
       "      <td>0.800434</td>\n",
       "    </tr>\n",
       "  </tbody>\n",
       "</table>\n",
       "</div>"
      ],
      "text/plain": [
       "       SR  Nov       Div   Model  Ckpt     HMean\n",
       "0  0.0022  1.0  0.893657  zinc15  0050  0.125536\n",
       "1  0.0050  1.0  0.899144  zinc15  0100  0.165342\n",
       "2  0.0072  1.0  0.895114  zinc15  0150  0.186409\n",
       "3  0.0056  1.0  0.890290  zinc15  0200  0.171136\n",
       "4  0.0152  1.0  0.719505  zinc15  0250  0.222303\n",
       "5  0.1340  1.0  0.641088  zinc15  0300  0.441600\n",
       "6  0.3722  1.0  0.548857  zinc15  0350  0.589262\n",
       "7  0.4502  1.0  0.600873  zinc15  0400  0.647021\n",
       "8  0.5440  1.0  0.625030  zinc15  0450  0.698215\n",
       "9  0.9732  1.0  0.526604  zinc15  0500  0.800434"
      ]
     },
     "execution_count": 7,
     "metadata": {},
     "output_type": "execute_result"
    }
   ],
   "source": [
    "df_records = pd.DataFrame(data)\n",
    "df_records.loc[:,'HMean'] = (df_records.loc[:,'SR'] * df_records.loc[:,'Nov'] * df_records.loc[:,'Div']) ** 0.333\n",
    "\n",
    "df_records"
   ]
  },
  {
   "cell_type": "code",
   "execution_count": null,
   "id": "2ec0b337",
   "metadata": {},
   "outputs": [],
   "source": []
  }
 ],
 "metadata": {
  "kernelspec": {
   "display_name": "Python 3 (ipykernel)",
   "language": "python",
   "name": "python3"
  },
  "language_info": {
   "codemirror_mode": {
    "name": "ipython",
    "version": 3
   },
   "file_extension": ".py",
   "mimetype": "text/x-python",
   "name": "python",
   "nbconvert_exporter": "python",
   "pygments_lexer": "ipython3",
   "version": "3.8.13"
  }
 },
 "nbformat": 4,
 "nbformat_minor": 5
}
