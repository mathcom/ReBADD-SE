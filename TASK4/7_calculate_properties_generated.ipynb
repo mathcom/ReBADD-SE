{
 "cells": [
  {
   "cell_type": "code",
   "execution_count": 1,
   "id": "97d4c482",
   "metadata": {},
   "outputs": [
    {
     "name": "stdout",
     "output_type": "stream",
     "text": [
      "env: CUDA_VISIBLE_DEVICES=0\n"
     ]
    }
   ],
   "source": [
    "%env CUDA_VISIBLE_DEVICES=0"
   ]
  },
  {
   "cell_type": "code",
   "execution_count": 2,
   "id": "40120d46",
   "metadata": {},
   "outputs": [],
   "source": [
    "%load_ext autoreload\n",
    "%autoreload 2"
   ]
  },
  {
   "cell_type": "code",
   "execution_count": 3,
   "id": "2e833d05",
   "metadata": {},
   "outputs": [],
   "source": [
    "import os\n",
    "import sys\n",
    "import torch\n",
    "import tqdm\n",
    "import pandas as pd\n",
    "import selfies as sf\n",
    "from rdkit import Chem, RDLogger\n",
    "RDLogger.DisableLog('rdApp.*')"
   ]
  },
  {
   "cell_type": "code",
   "execution_count": 4,
   "id": "34bf9fb0",
   "metadata": {},
   "outputs": [
    {
     "data": {
      "text/plain": [
       "4"
      ]
     },
     "execution_count": 4,
     "metadata": {},
     "output_type": "execute_result"
    }
   ],
   "source": [
    "## Inter-op parallelism\n",
    "torch.set_num_interop_threads(4)\n",
    "torch.get_num_interop_threads()\n",
    "## Intra-op parallelism\n",
    "torch.set_num_threads(4)\n",
    "torch.get_num_threads()"
   ]
  },
  {
   "cell_type": "code",
   "execution_count": 5,
   "id": "21dbd8cd",
   "metadata": {},
   "outputs": [
    {
     "name": "stdout",
     "output_type": "stream",
     "text": [
      "0\n"
     ]
    }
   ],
   "source": [
    "class GPUCONFIGS:\n",
    "    def __init__(self):\n",
    "        self.use_cuda = torch.cuda.is_available()\n",
    "        self.device = torch.device('cuda:0' if self.use_cuda else 'cpu')\n",
    "        if self.use_cuda: torch.cuda.set_device(self.device)\n",
    "        \n",
    "gpuconfigs = GPUCONFIGS()\n",
    "print(torch.cuda.current_device())"
   ]
  },
  {
   "cell_type": "code",
   "execution_count": 6,
   "id": "556a4e0f",
   "metadata": {},
   "outputs": [],
   "source": [
    "REBADD_LIB_PATH = os.path.abspath(os.pardir)\n",
    "if REBADD_LIB_PATH not in sys.path:\n",
    "    sys.path = [REBADD_LIB_PATH] + sys.path\n",
    "\n",
    "from rebadd.bindutils import BAScorerBCL2, BAScorerBCLXL, BAScorerBCLW\n",
    "from rebadd.chemutils import SAScorer, RAScorer, calc_chem_properties # smi -> (mw, clogp, tpsa, qed)"
   ]
  },
  {
   "cell_type": "code",
   "execution_count": 7,
   "id": "d3eb1f9e",
   "metadata": {},
   "outputs": [],
   "source": [
    "calc_bcl2  = BAScorerBCL2(device=gpuconfigs.device, use_cuda=gpuconfigs.use_cuda)\n",
    "calc_bclxl = BAScorerBCLXL(device=gpuconfigs.device, use_cuda=gpuconfigs.use_cuda)\n",
    "calc_bclw  = BAScorerBCLW(device=gpuconfigs.device, use_cuda=gpuconfigs.use_cuda)\n",
    "calc_sa  = SAScorer()\n",
    "calc_ra  = RAScorer().set_params(n_jobs=4)"
   ]
  },
  {
   "cell_type": "code",
   "execution_count": 8,
   "id": "933785a5",
   "metadata": {},
   "outputs": [],
   "source": [
    "def calc_properties(smi):\n",
    "    ## init\n",
    "    mw = clogp = tpsa = qed = 0.\n",
    "    s_bcl2 = s_bclxl = s_bclw = 0.\n",
    "    sa = 10.\n",
    "    ra = 0.\n",
    "\n",
    "    ## eval\n",
    "    try:\n",
    "        mw, clogp, tpsa, qed = calc_chem_properties(smi)\n",
    "        sa = calc_sa(smi)\n",
    "        ra = calc_ra(smi)\n",
    "        s_bcl2  = calc_bcl2(smi)\n",
    "        s_bclxl = calc_bclxl(smi)\n",
    "        s_bclw  = calc_bclw(smi)\n",
    "\n",
    "    except Chem.rdchem.AtomKekulizeException:\n",
    "        pass\n",
    "    except Chem.rdchem.AtomSanitizeException:\n",
    "        pass\n",
    "    except Chem.rdchem.AtomValenceException:\n",
    "        pass\n",
    "    except Chem.rdchem.KekulizeException:\n",
    "        pass\n",
    "    except Chem.rdchem.MolSanitizeException:\n",
    "        pass\n",
    "    \n",
    "    return {'smiles':smi, 'bcl2':s_bcl2, 'bclxl':s_bclxl, 'bclw':s_bclw, 'sa':sa, 'ra':ra, 'mw':mw, 'logp':clogp, 'tpsa':tpsa, 'qed':qed}"
   ]
  },
  {
   "cell_type": "code",
   "execution_count": 9,
   "id": "9686beb7",
   "metadata": {},
   "outputs": [
    {
     "data": {
      "text/html": [
       "<div>\n",
       "<style scoped>\n",
       "    .dataframe tbody tr th:only-of-type {\n",
       "        vertical-align: middle;\n",
       "    }\n",
       "\n",
       "    .dataframe tbody tr th {\n",
       "        vertical-align: top;\n",
       "    }\n",
       "\n",
       "    .dataframe thead th {\n",
       "        text-align: right;\n",
       "    }\n",
       "</style>\n",
       "<table border=\"1\" class=\"dataframe\">\n",
       "  <thead>\n",
       "    <tr style=\"text-align: right;\">\n",
       "      <th></th>\n",
       "      <th>smiles</th>\n",
       "      <th>bcl2</th>\n",
       "      <th>bclxl</th>\n",
       "      <th>bclw</th>\n",
       "      <th>sa</th>\n",
       "      <th>ra</th>\n",
       "      <th>mw</th>\n",
       "      <th>logp</th>\n",
       "      <th>tpsa</th>\n",
       "      <th>qed</th>\n",
       "    </tr>\n",
       "  </thead>\n",
       "  <tbody>\n",
       "    <tr>\n",
       "      <th>0</th>\n",
       "      <td>CC1(CCC(=C(C1)CN2CCN(CC2)C3=CC=C(C=C3)C(=O)NS(...</td>\n",
       "      <td>9.745612</td>\n",
       "      <td>7.524662</td>\n",
       "      <td>6.597695</td>\n",
       "      <td>4.130901</td>\n",
       "      <td>0.734573</td>\n",
       "      <td>973.29551</td>\n",
       "      <td>8.8332</td>\n",
       "      <td>128.36</td>\n",
       "      <td>0.104649</td>\n",
       "    </tr>\n",
       "  </tbody>\n",
       "</table>\n",
       "</div>"
      ],
      "text/plain": [
       "                                              smiles      bcl2     bclxl  \\\n",
       "0  CC1(CCC(=C(C1)CN2CCN(CC2)C3=CC=C(C=C3)C(=O)NS(...  9.745612  7.524662   \n",
       "\n",
       "       bclw        sa        ra         mw    logp    tpsa       qed  \n",
       "0  6.597695  4.130901  0.734573  973.29551  8.8332  128.36  0.104649  "
      ]
     },
     "execution_count": 9,
     "metadata": {},
     "output_type": "execute_result"
    }
   ],
   "source": [
    "drug_smi = \"CC1(CCC(=C(C1)CN2CCN(CC2)C3=CC=C(C=C3)C(=O)NS(=O)(=O)C4=CC(=C(C=C4)NC(CCN5CCOCC5)CSC6=CC=CC=C6)S(=O)(=O)C(F)(F)F)C7=CC=C(C=C7)Cl)C\"\n",
    "pd.DataFrame([calc_properties(drug_smi)])"
   ]
  },
  {
   "cell_type": "code",
   "execution_count": 10,
   "id": "4f4147fb",
   "metadata": {},
   "outputs": [],
   "source": [
    "class CKPTCONFIGS:\n",
    "    def __init__(self):\n",
    "        \n",
    "        self.input_dir = 'outputs_6_generate_molecules'\n",
    "        \n",
    "        self.modelnames = [\n",
    "            'char+reinforce+scst+offpolicy',\n",
    "        ]\n",
    "                \n",
    "        self.filenames = [f'smi_after.csv.{num}' for num in range(0,10)]\n",
    "        \n",
    "ckptconfigs = CKPTCONFIGS()"
   ]
  },
  {
   "cell_type": "code",
   "execution_count": 11,
   "id": "a99b3d66",
   "metadata": {},
   "outputs": [],
   "source": [
    "class OUTPUTCONFIGS:\n",
    "    def __init__(self):\n",
    "        self.output_dir = \"outputs_7_calculate_properties_generated\"\n",
    "        if not os.path.exists(self.output_dir):\n",
    "            os.mkdir(self.output_dir)\n",
    "            \n",
    "outputconfigs = OUTPUTCONFIGS()"
   ]
  },
  {
   "cell_type": "code",
   "execution_count": 12,
   "id": "7a4d0910",
   "metadata": {},
   "outputs": [
    {
     "name": "stdout",
     "output_type": "stream",
     "text": [
      "5000\n"
     ]
    },
    {
     "name": "stderr",
     "output_type": "stream",
     "text": [
      "100%|██████████| 5000/5000 [03:08<00:00, 26.58it/s]\n"
     ]
    },
    {
     "name": "stdout",
     "output_type": "stream",
     "text": [
      "5000\n"
     ]
    },
    {
     "name": "stderr",
     "output_type": "stream",
     "text": [
      "100%|██████████| 5000/5000 [03:52<00:00, 21.53it/s]\n"
     ]
    },
    {
     "name": "stdout",
     "output_type": "stream",
     "text": [
      "5000\n"
     ]
    },
    {
     "name": "stderr",
     "output_type": "stream",
     "text": [
      "100%|██████████| 5000/5000 [03:53<00:00, 21.37it/s]\n"
     ]
    },
    {
     "name": "stdout",
     "output_type": "stream",
     "text": [
      "5000\n"
     ]
    },
    {
     "name": "stderr",
     "output_type": "stream",
     "text": [
      "100%|██████████| 5000/5000 [03:54<00:00, 21.30it/s]\n"
     ]
    },
    {
     "name": "stdout",
     "output_type": "stream",
     "text": [
      "5000\n"
     ]
    },
    {
     "name": "stderr",
     "output_type": "stream",
     "text": [
      "100%|██████████| 5000/5000 [03:54<00:00, 21.33it/s]\n"
     ]
    },
    {
     "name": "stdout",
     "output_type": "stream",
     "text": [
      "5000\n"
     ]
    },
    {
     "name": "stderr",
     "output_type": "stream",
     "text": [
      "100%|██████████| 5000/5000 [03:56<00:00, 21.17it/s]\n"
     ]
    },
    {
     "name": "stdout",
     "output_type": "stream",
     "text": [
      "5000\n"
     ]
    },
    {
     "name": "stderr",
     "output_type": "stream",
     "text": [
      "100%|██████████| 5000/5000 [03:54<00:00, 21.31it/s]\n"
     ]
    },
    {
     "name": "stdout",
     "output_type": "stream",
     "text": [
      "5000\n"
     ]
    },
    {
     "name": "stderr",
     "output_type": "stream",
     "text": [
      "100%|██████████| 5000/5000 [03:55<00:00, 21.21it/s]\n"
     ]
    },
    {
     "name": "stdout",
     "output_type": "stream",
     "text": [
      "5000\n"
     ]
    },
    {
     "name": "stderr",
     "output_type": "stream",
     "text": [
      "100%|██████████| 5000/5000 [03:55<00:00, 21.23it/s]\n"
     ]
    },
    {
     "name": "stdout",
     "output_type": "stream",
     "text": [
      "5000\n"
     ]
    },
    {
     "name": "stderr",
     "output_type": "stream",
     "text": [
      "100%|██████████| 5000/5000 [03:57<00:00, 21.09it/s]\n"
     ]
    }
   ],
   "source": [
    "for modelname in ckptconfigs.modelnames:\n",
    "    \n",
    "    input_dir = os.path.join(ckptconfigs.input_dir, modelname)\n",
    "    output_dir = os.path.join(outputconfigs.output_dir, modelname)\n",
    "    if not os.path.exists(output_dir):\n",
    "        os.mkdir(output_dir)\n",
    "    \n",
    "    for filename in ckptconfigs.filenames:\n",
    "        \n",
    "        filepath = os.path.join(input_dir, filename)\n",
    "        \n",
    "        df = pd.read_csv(filepath, header=None, skip_blank_lines=True)\n",
    "        gen_smiles = df.iloc[:,0].values.tolist()\n",
    "        \n",
    "        print(len(gen_smiles))\n",
    "        \n",
    "        data = []\n",
    "        for smi in tqdm.tqdm(gen_smiles):\n",
    "            data.append(calc_properties(smi))\n",
    "            \n",
    "        df = pd.DataFrame(data)\n",
    "        \n",
    "        output_filepath = os.path.join(output_dir, filename)\n",
    "        df.to_csv(output_filepath, index=False)"
   ]
  },
  {
   "cell_type": "code",
   "execution_count": null,
   "id": "e3fd6203",
   "metadata": {},
   "outputs": [],
   "source": []
  }
 ],
 "metadata": {
  "kernelspec": {
   "display_name": "Python 3 (ipykernel)",
   "language": "python",
   "name": "python3"
  },
  "language_info": {
   "codemirror_mode": {
    "name": "ipython",
    "version": 3
   },
   "file_extension": ".py",
   "mimetype": "text/x-python",
   "name": "python",
   "nbconvert_exporter": "python",
   "pygments_lexer": "ipython3",
   "version": "3.8.13"
  }
 },
 "nbformat": 4,
 "nbformat_minor": 5
}
