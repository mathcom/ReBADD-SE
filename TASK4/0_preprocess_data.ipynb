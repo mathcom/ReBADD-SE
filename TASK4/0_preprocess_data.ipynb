{
 "cells": [
  {
   "cell_type": "code",
   "execution_count": 1,
   "id": "d29a82d0",
   "metadata": {},
   "outputs": [],
   "source": [
    "import os\n",
    "import pickle\n",
    "import tqdm\n",
    "import pandas as pd\n",
    "import selfies as sf"
   ]
  },
  {
   "cell_type": "code",
   "execution_count": 2,
   "id": "978fdc39",
   "metadata": {},
   "outputs": [],
   "source": [
    "class DATACONFIGS:\n",
    "    def __init__(self):\n",
    "        ## input\n",
    "        self.input_dir = os.path.join(os.pardir, 'data', 'zinc15')\n",
    "        self.train_data_path = os.path.join(self.input_dir, 'zinc15_train.txt')\n",
    "        ## output\n",
    "        self.output_dir = 'outputs_0_preprocess_data'\n",
    "        assert os.path.exists(self.output_dir)       \n",
    "\n",
    "dataconfigs = DATACONFIGS()"
   ]
  },
  {
   "cell_type": "code",
   "execution_count": 3,
   "id": "75c55319",
   "metadata": {},
   "outputs": [],
   "source": [
    "with open(dataconfigs.train_data_path) as fin:\n",
    "    lines = fin.readlines()\n",
    "    \n",
    "data = [line.rstrip() for line in lines]"
   ]
  },
  {
   "cell_type": "code",
   "execution_count": 4,
   "id": "37b1042f",
   "metadata": {},
   "outputs": [
    {
     "name": "stdout",
     "output_type": "stream",
     "text": [
      "Number of training data (raw): 6291\n"
     ]
    },
    {
     "data": {
      "text/plain": [
       "['COc1cc(C(=O)NC(NC(=S)Nc2ccc(C)cc2)C(Cl)(Cl)Cl)cc(OC)c1OC',\n",
       " 'CCCCN1C(=O)C(=c2sc3n(c2=O)C(c2cccs2)C(C(=O)OCC(C)C)=C(C)N=3)c2ccccc21',\n",
       " 'Cc1ccccc1-c1cccc(CNc2cc(C(=O)NC3CC3)cc(S(=O)(=O)N3CCCC(C(N)=O)C3)c2)c1',\n",
       " 'Cc1cc(C)c(S(=O)(=O)N(CC(=O)NC2CCCCC2C)c2c(C)n(C)n(-c3ccccc3)c2=O)c(C)c1',\n",
       " 'COc1cc2c(c(OC)c1OC)-c1ccc(NC(C)C(=O)Nc3ccc4c(c3)ncn4C)c(=O)cc1C(NC(C)=O)CC2']"
      ]
     },
     "execution_count": 4,
     "metadata": {},
     "output_type": "execute_result"
    }
   ],
   "source": [
    "print(f'Number of training data (raw): {len(data)}')\n",
    "data[:5]"
   ]
  },
  {
   "cell_type": "code",
   "execution_count": 5,
   "id": "b144a69d",
   "metadata": {},
   "outputs": [],
   "source": [
    "def make_selfies_data(smiles_iter):\n",
    "    selfies_list = []\n",
    "    \n",
    "    for smi in tqdm.tqdm(smiles_iter):\n",
    "        try:\n",
    "            sel = sf.encoder(smi)\n",
    "            selfies_list.append(sel)\n",
    "        except AssertionError:\n",
    "            pass\n",
    "        except sf.EncoderError:\n",
    "            pass\n",
    "    \n",
    "    return selfies_list"
   ]
  },
  {
   "cell_type": "code",
   "execution_count": 6,
   "id": "7f12ffcb",
   "metadata": {},
   "outputs": [
    {
     "name": "stderr",
     "output_type": "stream",
     "text": [
      "100%|███████████████████████████████████████████████████████████████████████████████████████████████████████████████████████████████████████████████| 6291/6291 [00:01<00:00, 4005.05it/s]\n"
     ]
    }
   ],
   "source": [
    "selfies_list = make_selfies_data(data)"
   ]
  },
  {
   "cell_type": "code",
   "execution_count": 7,
   "id": "c9d9013c",
   "metadata": {},
   "outputs": [
    {
     "name": "stdout",
     "output_type": "stream",
     "text": [
      "Number of training data (selfies): 6291\n"
     ]
    },
    {
     "data": {
      "text/plain": [
       "['[C][O][C][=C][C][Branch2][Ring2][Ring1][C][=Branch1][C][=O][N][C][Branch2][Ring1][C][N][C][=Branch1][C][=S][N][C][=C][C][=C][Branch1][C][C][C][=C][Ring1][#Branch1][C][Branch1][C][Cl][Branch1][C][Cl][Cl][=C][C][Branch1][Ring1][O][C][=C][Ring2][Ring1][O][O][C]',\n",
       " '[C][C][C][C][N][C][=Branch1][C][=O][C][=Branch2][Ring2][O][=C][S][C][N][Branch1][Branch1][C][Ring1][Branch1][=O][C][Branch1][Branch2][C][=C][C][=C][S][Ring1][Branch1][C][Branch1][N][C][=Branch1][C][=O][O][C][C][Branch1][C][C][C][=C][Branch1][C][C][N][=Ring2][Ring1][Branch1][C][=C][C][=C][C][=C][Ring1][=Branch1][Ring2][Ring1][P]',\n",
       " '[C][C][=C][C][=C][C][=C][Ring1][=Branch1][C][=C][C][=C][C][Branch2][Ring2][P][C][N][C][=C][C][Branch1][O][C][=Branch1][C][=O][N][C][C][C][Ring1][Ring1][=C][C][Branch2][Ring1][#Branch1][S][=Branch1][C][=O][=Branch1][C][=O][N][C][C][C][C][Branch1][=Branch1][C][Branch1][C][N][=O][C][Ring1][=Branch2][=C][Ring2][Ring1][Branch2][=C][Ring2][Ring1][S]',\n",
       " '[C][C][=C][C][Branch1][C][C][=C][Branch2][Branch1][C][S][=Branch1][C][=O][=Branch1][C][=O][N][Branch1][S][C][C][=Branch1][C][=O][N][C][C][C][C][C][C][Ring1][=Branch1][C][C][=C][Branch1][C][C][N][Branch1][C][C][N][Branch1][=Branch2][C][=C][C][=C][C][=C][Ring1][=Branch1][C][Ring1][=N][=O][C][Branch1][C][C][=C][Ring2][Ring2][Branch1]',\n",
       " '[C][O][C][=C][C][=C][Branch1][O][C][Branch1][Ring1][O][C][=C][Ring1][Branch2][O][C][C][=C][C][=C][Branch2][Ring1][O][N][C][Branch1][C][C][C][=Branch1][C][=O][N][C][=C][C][=C][C][=Branch1][Ring2][=C][Ring1][=Branch1][N][=C][N][Ring1][=Branch1][C][C][=Branch1][C][=O][C][=C][Ring2][Ring1][Branch2][C][Branch1][#Branch1][N][C][Branch1][C][C][=O][C][C][Ring2][Ring2][#Branch1]']"
      ]
     },
     "execution_count": 7,
     "metadata": {},
     "output_type": "execute_result"
    }
   ],
   "source": [
    "print(f'Number of training data (selfies): {len(selfies_list)}')\n",
    "selfies_list[:5]"
   ]
  },
  {
   "cell_type": "code",
   "execution_count": 8,
   "id": "ef270a07",
   "metadata": {},
   "outputs": [],
   "source": [
    "with open(os.path.join(dataconfigs.output_dir, 'selfies.csv'), 'w') as fout:\n",
    "    for selfies in selfies_list:\n",
    "        fout.write(f'{selfies}\\n')"
   ]
  },
  {
   "cell_type": "code",
   "execution_count": 9,
   "id": "1289caba",
   "metadata": {},
   "outputs": [],
   "source": [
    "fragments_list = [list(sf.split_selfies(sel)) for sel in selfies_list]"
   ]
  },
  {
   "cell_type": "code",
   "execution_count": 10,
   "id": "933da28d",
   "metadata": {},
   "outputs": [
    {
     "name": "stdout",
     "output_type": "stream",
     "text": [
      "maxlen of fragments: 133\n"
     ]
    },
    {
     "data": {
      "text/plain": [
       "[['[C]',\n",
       "  '[O]',\n",
       "  '[C]',\n",
       "  '[=C]',\n",
       "  '[C]',\n",
       "  '[Branch2]',\n",
       "  '[Ring2]',\n",
       "  '[Ring1]',\n",
       "  '[C]',\n",
       "  '[=Branch1]',\n",
       "  '[C]',\n",
       "  '[=O]',\n",
       "  '[N]',\n",
       "  '[C]',\n",
       "  '[Branch2]',\n",
       "  '[Ring1]',\n",
       "  '[C]',\n",
       "  '[N]',\n",
       "  '[C]',\n",
       "  '[=Branch1]',\n",
       "  '[C]',\n",
       "  '[=S]',\n",
       "  '[N]',\n",
       "  '[C]',\n",
       "  '[=C]',\n",
       "  '[C]',\n",
       "  '[=C]',\n",
       "  '[Branch1]',\n",
       "  '[C]',\n",
       "  '[C]',\n",
       "  '[C]',\n",
       "  '[=C]',\n",
       "  '[Ring1]',\n",
       "  '[#Branch1]',\n",
       "  '[C]',\n",
       "  '[Branch1]',\n",
       "  '[C]',\n",
       "  '[Cl]',\n",
       "  '[Branch1]',\n",
       "  '[C]',\n",
       "  '[Cl]',\n",
       "  '[Cl]',\n",
       "  '[=C]',\n",
       "  '[C]',\n",
       "  '[Branch1]',\n",
       "  '[Ring1]',\n",
       "  '[O]',\n",
       "  '[C]',\n",
       "  '[=C]',\n",
       "  '[Ring2]',\n",
       "  '[Ring1]',\n",
       "  '[O]',\n",
       "  '[O]',\n",
       "  '[C]'],\n",
       " ['[C]',\n",
       "  '[C]',\n",
       "  '[C]',\n",
       "  '[C]',\n",
       "  '[N]',\n",
       "  '[C]',\n",
       "  '[=Branch1]',\n",
       "  '[C]',\n",
       "  '[=O]',\n",
       "  '[C]',\n",
       "  '[=Branch2]',\n",
       "  '[Ring2]',\n",
       "  '[O]',\n",
       "  '[=C]',\n",
       "  '[S]',\n",
       "  '[C]',\n",
       "  '[N]',\n",
       "  '[Branch1]',\n",
       "  '[Branch1]',\n",
       "  '[C]',\n",
       "  '[Ring1]',\n",
       "  '[Branch1]',\n",
       "  '[=O]',\n",
       "  '[C]',\n",
       "  '[Branch1]',\n",
       "  '[Branch2]',\n",
       "  '[C]',\n",
       "  '[=C]',\n",
       "  '[C]',\n",
       "  '[=C]',\n",
       "  '[S]',\n",
       "  '[Ring1]',\n",
       "  '[Branch1]',\n",
       "  '[C]',\n",
       "  '[Branch1]',\n",
       "  '[N]',\n",
       "  '[C]',\n",
       "  '[=Branch1]',\n",
       "  '[C]',\n",
       "  '[=O]',\n",
       "  '[O]',\n",
       "  '[C]',\n",
       "  '[C]',\n",
       "  '[Branch1]',\n",
       "  '[C]',\n",
       "  '[C]',\n",
       "  '[C]',\n",
       "  '[=C]',\n",
       "  '[Branch1]',\n",
       "  '[C]',\n",
       "  '[C]',\n",
       "  '[N]',\n",
       "  '[=Ring2]',\n",
       "  '[Ring1]',\n",
       "  '[Branch1]',\n",
       "  '[C]',\n",
       "  '[=C]',\n",
       "  '[C]',\n",
       "  '[=C]',\n",
       "  '[C]',\n",
       "  '[=C]',\n",
       "  '[Ring1]',\n",
       "  '[=Branch1]',\n",
       "  '[Ring2]',\n",
       "  '[Ring1]',\n",
       "  '[P]']]"
      ]
     },
     "execution_count": 10,
     "metadata": {},
     "output_type": "execute_result"
    }
   ],
   "source": [
    "print(f'maxlen of fragments: {max([len(fragments) for fragments in fragments_list])}')\n",
    "fragments_list[:2]"
   ]
  },
  {
   "cell_type": "code",
   "execution_count": 11,
   "id": "14287d5d",
   "metadata": {},
   "outputs": [],
   "source": [
    "with open(os.path.join(dataconfigs.output_dir, 'fragments_list.pkl'), 'wb') as fout:\n",
    "    pickle.dump(fragments_list, fout)"
   ]
  },
  {
   "cell_type": "code",
   "execution_count": 12,
   "id": "32413ffb",
   "metadata": {},
   "outputs": [],
   "source": [
    "vocabs = sf.get_alphabet_from_selfies(selfies_list)\n",
    "\n",
    "vocabs = sorted(vocabs)"
   ]
  },
  {
   "cell_type": "code",
   "execution_count": 13,
   "id": "ff114427",
   "metadata": {},
   "outputs": [
    {
     "name": "stdout",
     "output_type": "stream",
     "text": [
      "Number of vocabulary(unique fragments): 31\n"
     ]
    },
    {
     "data": {
      "text/plain": [
       "['[#Branch1]',\n",
       " '[#Branch2]',\n",
       " '[#C]',\n",
       " '[=Branch1]',\n",
       " '[=Branch2]',\n",
       " '[=C]',\n",
       " '[=N+1]',\n",
       " '[=N-1]',\n",
       " '[=N]',\n",
       " '[=O]',\n",
       " '[=P]',\n",
       " '[=Ring1]',\n",
       " '[=Ring2]',\n",
       " '[=S]',\n",
       " '[Br]',\n",
       " '[Branch1]',\n",
       " '[Branch2]',\n",
       " '[C]',\n",
       " '[Cl]',\n",
       " '[F]',\n",
       " '[N+1]',\n",
       " '[N-1]',\n",
       " '[NH1]',\n",
       " '[N]',\n",
       " '[O-1]',\n",
       " '[OH0]',\n",
       " '[O]',\n",
       " '[P]',\n",
       " '[Ring1]',\n",
       " '[Ring2]',\n",
       " '[S]']"
      ]
     },
     "execution_count": 13,
     "metadata": {},
     "output_type": "execute_result"
    }
   ],
   "source": [
    "print(f'Number of vocabulary(unique fragments): {len(vocabs)}')\n",
    "vocabs"
   ]
  },
  {
   "cell_type": "code",
   "execution_count": 14,
   "id": "e3ba72b1",
   "metadata": {},
   "outputs": [],
   "source": [
    "with open(os.path.join(dataconfigs.output_dir, 'vocabulary.csv'), 'w') as fout:\n",
    "    for v in vocabs:\n",
    "        fout.write(f'{v}\\n')"
   ]
  },
  {
   "cell_type": "code",
   "execution_count": null,
   "id": "292e549e",
   "metadata": {},
   "outputs": [],
   "source": []
  }
 ],
 "metadata": {
  "kernelspec": {
   "display_name": "Python 3 (ipykernel)",
   "language": "python",
   "name": "python3"
  },
  "language_info": {
   "codemirror_mode": {
    "name": "ipython",
    "version": 3
   },
   "file_extension": ".py",
   "mimetype": "text/x-python",
   "name": "python",
   "nbconvert_exporter": "python",
   "pygments_lexer": "ipython3",
   "version": "3.8.18"
  }
 },
 "nbformat": 4,
 "nbformat_minor": 5
}
