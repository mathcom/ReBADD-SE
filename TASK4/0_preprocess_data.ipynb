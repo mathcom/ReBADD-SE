{
 "cells": [
  {
   "cell_type": "code",
   "execution_count": 1,
   "id": "95884ad2",
   "metadata": {},
   "outputs": [],
   "source": [
    "%load_ext autoreload\n",
    "%autoreload 2"
   ]
  },
  {
   "cell_type": "code",
   "execution_count": 2,
   "id": "d29a82d0",
   "metadata": {},
   "outputs": [],
   "source": [
    "import os\n",
    "import pickle\n",
    "import tqdm\n",
    "import pandas as pd\n",
    "import selfies as sf"
   ]
  },
  {
   "cell_type": "code",
   "execution_count": 3,
   "id": "978fdc39",
   "metadata": {},
   "outputs": [],
   "source": [
    "class DATACONFIGS:\n",
    "    def __init__(self):\n",
    "        ## input\n",
    "        self.input_dir = os.path.join('data', 'zinc15')\n",
    "        self.train_data_path = os.path.join(self.input_dir, 'zinc15_train.txt')\n",
    "        ## output\n",
    "        self.output_dir = os.path.join('processed_data', 'zinc15')\n",
    "        assert os.path.exists(self.output_dir)       \n",
    "\n",
    "dataconfigs = DATACONFIGS()"
   ]
  },
  {
   "cell_type": "code",
   "execution_count": 4,
   "id": "75c55319",
   "metadata": {},
   "outputs": [],
   "source": [
    "with open(dataconfigs.train_data_path) as fin:\n",
    "    lines = fin.readlines()\n",
    "    \n",
    "data = [line.rstrip() for line in lines]"
   ]
  },
  {
   "cell_type": "code",
   "execution_count": 5,
   "id": "37b1042f",
   "metadata": {},
   "outputs": [
    {
     "name": "stdout",
     "output_type": "stream",
     "text": [
      "Number of training data (raw): 600116\n"
     ]
    },
    {
     "data": {
      "text/plain": [
       "['CCCCCCc1cn(C2CC(O)C(COP(=O)(O)OP(=O)(O)OP(=O)(O)O)O2)c(=O)[nH]c1=O',\n",
       " 'CC(C)=CC1COC23CC4(CO2)C(CCC2C5(C)CCC(OC6OCC(O)C(OC7OC(CO)C(O)C(O)C7O)C6OC6OC(CO)C(O)C6O)C(C)(C)C5CCC24C)C3C1(C)O',\n",
       " 'CC(=O)OCC1(C(=O)O)C(CC(=O)O)=C(C(=O)OC2=CCOC=C2)C(OC(C)=O)=CC1(OC(C)=O)C(=O)O',\n",
       " 'CN(CCc1ccccc1)C(=O)CNC(=O)C(CCS(C)=O)NC(=O)C(N)Cc1ccc(O)cc1',\n",
       " 'CC(=O)NC1C(OC2C(COC(C)=O)OC(Oc3ccc4c(C)cc(=O)oc4c3)C(NC(C)=O)C2OC(C)=O)OC(COC(C)=O)C(OC(C)=O)C1OC(C)=O']"
      ]
     },
     "execution_count": 5,
     "metadata": {},
     "output_type": "execute_result"
    }
   ],
   "source": [
    "print(f'Number of training data (raw): {len(data)}')\n",
    "data[:5]"
   ]
  },
  {
   "cell_type": "code",
   "execution_count": 6,
   "id": "b144a69d",
   "metadata": {},
   "outputs": [],
   "source": [
    "def make_selfies_data(smiles_iter):\n",
    "    selfies_list = []\n",
    "    \n",
    "    for smi in tqdm.tqdm(smiles_iter):\n",
    "        try:\n",
    "            sel = sf.encoder(smi)\n",
    "            selfies_list.append(sel)\n",
    "        except AssertionError:\n",
    "            pass\n",
    "        except sf.EncoderError:\n",
    "            pass\n",
    "    \n",
    "    return selfies_list"
   ]
  },
  {
   "cell_type": "code",
   "execution_count": 7,
   "id": "7f12ffcb",
   "metadata": {},
   "outputs": [
    {
     "name": "stderr",
     "output_type": "stream",
     "text": [
      "100%|██████████| 600116/600116 [06:19<00:00, 1581.38it/s]\n"
     ]
    }
   ],
   "source": [
    "selfies_list = make_selfies_data(data)"
   ]
  },
  {
   "cell_type": "code",
   "execution_count": 8,
   "id": "c9d9013c",
   "metadata": {},
   "outputs": [
    {
     "name": "stdout",
     "output_type": "stream",
     "text": [
      "Number of training data (selfies): 600116\n"
     ]
    },
    {
     "data": {
      "text/plain": [
       "['[C][C][C][C][C][C][C][=C][N][Branch2][Ring2][=Branch2][C][C][C][Branch1][C][O][C][Branch2][Ring1][O][C][O][P][=Branch1][C][=O][Branch1][C][O][O][P][=Branch1][C][=O][Branch1][C][O][O][P][=Branch1][C][=O][Branch1][C][O][O][O][Ring2][Ring1][Ring2][C][=Branch1][C][=O][NH1][C][Ring2][Ring1][O][=O]',\n",
       " '[C][C][Branch1][C][C][=C][C][C][O][C][C][C][Branch1][Branch1][C][O][Ring1][Branch1][C][Branch2][#Branch1][#Branch1][C][C][C][C][Branch1][C][C][C][C][C][Branch2][Branch1][Branch1][O][C][O][C][C][Branch1][C][O][C][Branch2][Ring1][Branch1][O][C][O][C][Branch1][Ring1][C][O][C][Branch1][C][O][C][Branch1][C][O][C][Ring1][#Branch2][O][C][Ring2][Ring1][Ring1][O][C][O][C][Branch1][Ring1][C][O][C][Branch1][C][O][C][Ring1][Branch2][O][C][Branch1][C][C][Branch1][C][C][C][Ring2][Ring2][#Branch1][C][C][C][Ring2][Ring2][O][Ring2][Ring2][P][C][C][Ring2][Branch1][Branch1][C][Ring2][Branch1][=Branch2][Branch1][C][C][O]',\n",
       " '[C][C][=Branch1][C][=O][O][C][C][Branch1][=Branch1][C][=Branch1][C][=O][O][C][Branch1][#Branch1][C][C][=Branch1][C][=O][O][=C][Branch1][=C][C][=Branch1][C][=O][O][C][=C][C][O][C][=C][Ring1][=Branch1][C][Branch1][#Branch1][O][C][Branch1][C][C][=O][=C][C][Ring2][Ring1][#Branch2][Branch1][#Branch1][O][C][Branch1][C][C][=O][C][=Branch1][C][=O][O]',\n",
       " '[C][N][Branch1][O][C][C][C][=C][C][=C][C][=C][Ring1][=Branch1][C][=Branch1][C][=O][C][N][C][=Branch1][C][=O][C][Branch1][Branch2][C][C][S][Branch1][C][C][=O][N][C][=Branch1][C][=O][C][Branch1][C][N][C][C][=C][C][=C][Branch1][C][O][C][=C][Ring1][#Branch1]',\n",
       " '[C][C][=Branch1][C][=O][N][C][C][Branch2][Branch1][#Branch2][O][C][C][Branch1][Branch2][C][O][C][Branch1][C][C][=O][O][C][Branch2][Ring1][=Branch1][O][C][=C][C][=C][C][Branch1][C][C][=C][C][=Branch1][C][=O][O][C][Ring1][Branch2][=C][Ring1][N][C][Branch1][#Branch1][N][C][Branch1][C][C][=O][C][Ring2][Ring1][N][O][C][Branch1][C][C][=O][O][C][Branch1][Branch2][C][O][C][Branch1][C][C][=O][C][Branch1][#Branch1][O][C][Branch1][C][C][=O][C][Ring2][Ring2][S][O][C][Branch1][C][C][=O]']"
      ]
     },
     "execution_count": 8,
     "metadata": {},
     "output_type": "execute_result"
    }
   ],
   "source": [
    "print(f'Number of training data (selfies): {len(selfies_list)}')\n",
    "selfies_list[:5]"
   ]
  },
  {
   "cell_type": "code",
   "execution_count": 9,
   "id": "ef270a07",
   "metadata": {},
   "outputs": [],
   "source": [
    "with open(os.path.join(dataconfigs.output_dir, 'selfies.csv'), 'w') as fout:\n",
    "    for selfies in selfies_list:\n",
    "        fout.write(f'{selfies}\\n')"
   ]
  },
  {
   "cell_type": "code",
   "execution_count": 10,
   "id": "1289caba",
   "metadata": {},
   "outputs": [],
   "source": [
    "fragments_list = [list(sf.split_selfies(sel)) for sel in selfies_list]"
   ]
  },
  {
   "cell_type": "code",
   "execution_count": 11,
   "id": "933da28d",
   "metadata": {},
   "outputs": [
    {
     "name": "stdout",
     "output_type": "stream",
     "text": [
      "maxlen of fragments: 154\n"
     ]
    },
    {
     "data": {
      "text/plain": [
       "[['[C]',\n",
       "  '[C]',\n",
       "  '[C]',\n",
       "  '[C]',\n",
       "  '[C]',\n",
       "  '[C]',\n",
       "  '[C]',\n",
       "  '[=C]',\n",
       "  '[N]',\n",
       "  '[Branch2]',\n",
       "  '[Ring2]',\n",
       "  '[=Branch2]',\n",
       "  '[C]',\n",
       "  '[C]',\n",
       "  '[C]',\n",
       "  '[Branch1]',\n",
       "  '[C]',\n",
       "  '[O]',\n",
       "  '[C]',\n",
       "  '[Branch2]',\n",
       "  '[Ring1]',\n",
       "  '[O]',\n",
       "  '[C]',\n",
       "  '[O]',\n",
       "  '[P]',\n",
       "  '[=Branch1]',\n",
       "  '[C]',\n",
       "  '[=O]',\n",
       "  '[Branch1]',\n",
       "  '[C]',\n",
       "  '[O]',\n",
       "  '[O]',\n",
       "  '[P]',\n",
       "  '[=Branch1]',\n",
       "  '[C]',\n",
       "  '[=O]',\n",
       "  '[Branch1]',\n",
       "  '[C]',\n",
       "  '[O]',\n",
       "  '[O]',\n",
       "  '[P]',\n",
       "  '[=Branch1]',\n",
       "  '[C]',\n",
       "  '[=O]',\n",
       "  '[Branch1]',\n",
       "  '[C]',\n",
       "  '[O]',\n",
       "  '[O]',\n",
       "  '[O]',\n",
       "  '[Ring2]',\n",
       "  '[Ring1]',\n",
       "  '[Ring2]',\n",
       "  '[C]',\n",
       "  '[=Branch1]',\n",
       "  '[C]',\n",
       "  '[=O]',\n",
       "  '[NH1]',\n",
       "  '[C]',\n",
       "  '[Ring2]',\n",
       "  '[Ring1]',\n",
       "  '[O]',\n",
       "  '[=O]'],\n",
       " ['[C]',\n",
       "  '[C]',\n",
       "  '[Branch1]',\n",
       "  '[C]',\n",
       "  '[C]',\n",
       "  '[=C]',\n",
       "  '[C]',\n",
       "  '[C]',\n",
       "  '[O]',\n",
       "  '[C]',\n",
       "  '[C]',\n",
       "  '[C]',\n",
       "  '[Branch1]',\n",
       "  '[Branch1]',\n",
       "  '[C]',\n",
       "  '[O]',\n",
       "  '[Ring1]',\n",
       "  '[Branch1]',\n",
       "  '[C]',\n",
       "  '[Branch2]',\n",
       "  '[#Branch1]',\n",
       "  '[#Branch1]',\n",
       "  '[C]',\n",
       "  '[C]',\n",
       "  '[C]',\n",
       "  '[C]',\n",
       "  '[Branch1]',\n",
       "  '[C]',\n",
       "  '[C]',\n",
       "  '[C]',\n",
       "  '[C]',\n",
       "  '[C]',\n",
       "  '[Branch2]',\n",
       "  '[Branch1]',\n",
       "  '[Branch1]',\n",
       "  '[O]',\n",
       "  '[C]',\n",
       "  '[O]',\n",
       "  '[C]',\n",
       "  '[C]',\n",
       "  '[Branch1]',\n",
       "  '[C]',\n",
       "  '[O]',\n",
       "  '[C]',\n",
       "  '[Branch2]',\n",
       "  '[Ring1]',\n",
       "  '[Branch1]',\n",
       "  '[O]',\n",
       "  '[C]',\n",
       "  '[O]',\n",
       "  '[C]',\n",
       "  '[Branch1]',\n",
       "  '[Ring1]',\n",
       "  '[C]',\n",
       "  '[O]',\n",
       "  '[C]',\n",
       "  '[Branch1]',\n",
       "  '[C]',\n",
       "  '[O]',\n",
       "  '[C]',\n",
       "  '[Branch1]',\n",
       "  '[C]',\n",
       "  '[O]',\n",
       "  '[C]',\n",
       "  '[Ring1]',\n",
       "  '[#Branch2]',\n",
       "  '[O]',\n",
       "  '[C]',\n",
       "  '[Ring2]',\n",
       "  '[Ring1]',\n",
       "  '[Ring1]',\n",
       "  '[O]',\n",
       "  '[C]',\n",
       "  '[O]',\n",
       "  '[C]',\n",
       "  '[Branch1]',\n",
       "  '[Ring1]',\n",
       "  '[C]',\n",
       "  '[O]',\n",
       "  '[C]',\n",
       "  '[Branch1]',\n",
       "  '[C]',\n",
       "  '[O]',\n",
       "  '[C]',\n",
       "  '[Ring1]',\n",
       "  '[Branch2]',\n",
       "  '[O]',\n",
       "  '[C]',\n",
       "  '[Branch1]',\n",
       "  '[C]',\n",
       "  '[C]',\n",
       "  '[Branch1]',\n",
       "  '[C]',\n",
       "  '[C]',\n",
       "  '[C]',\n",
       "  '[Ring2]',\n",
       "  '[Ring2]',\n",
       "  '[#Branch1]',\n",
       "  '[C]',\n",
       "  '[C]',\n",
       "  '[C]',\n",
       "  '[Ring2]',\n",
       "  '[Ring2]',\n",
       "  '[O]',\n",
       "  '[Ring2]',\n",
       "  '[Ring2]',\n",
       "  '[P]',\n",
       "  '[C]',\n",
       "  '[C]',\n",
       "  '[Ring2]',\n",
       "  '[Branch1]',\n",
       "  '[Branch1]',\n",
       "  '[C]',\n",
       "  '[Ring2]',\n",
       "  '[Branch1]',\n",
       "  '[=Branch2]',\n",
       "  '[Branch1]',\n",
       "  '[C]',\n",
       "  '[C]',\n",
       "  '[O]']]"
      ]
     },
     "execution_count": 11,
     "metadata": {},
     "output_type": "execute_result"
    }
   ],
   "source": [
    "print(f'maxlen of fragments: {max([len(fragments) for fragments in fragments_list])}')\n",
    "fragments_list[:2]"
   ]
  },
  {
   "cell_type": "code",
   "execution_count": 12,
   "id": "14287d5d",
   "metadata": {},
   "outputs": [],
   "source": [
    "with open(os.path.join(dataconfigs.output_dir, 'fragments_list.pkl'), 'wb') as fout:\n",
    "    pickle.dump(fragments_list, fout)"
   ]
  },
  {
   "cell_type": "code",
   "execution_count": 13,
   "id": "32413ffb",
   "metadata": {},
   "outputs": [],
   "source": [
    "vocabs = sf.get_alphabet_from_selfies(selfies_list)\n",
    "\n",
    "vocabs = sorted(vocabs)"
   ]
  },
  {
   "cell_type": "code",
   "execution_count": 14,
   "id": "ff114427",
   "metadata": {},
   "outputs": [
    {
     "name": "stdout",
     "output_type": "stream",
     "text": [
      "Number of vocabulary(unique fragments): 46\n"
     ]
    },
    {
     "data": {
      "text/plain": [
       "['[#Branch1]',\n",
       " '[#Branch2]',\n",
       " '[#C]',\n",
       " '[#N+1]',\n",
       " '[#N]',\n",
       " '[#Ring2]',\n",
       " '[=Branch1]',\n",
       " '[=Branch2]',\n",
       " '[=C]',\n",
       " '[=N+1]',\n",
       " '[=N-1]',\n",
       " '[=N]',\n",
       " '[=O]',\n",
       " '[=PH1]',\n",
       " '[=P]',\n",
       " '[=Ring1]',\n",
       " '[=Ring2]',\n",
       " '[=S+1]',\n",
       " '[=S]',\n",
       " '[Br]',\n",
       " '[Branch1]',\n",
       " '[Branch2]',\n",
       " '[C-1]',\n",
       " '[CH0]',\n",
       " '[CH1-1]',\n",
       " '[CH1]',\n",
       " '[C]',\n",
       " '[Cl]',\n",
       " '[F]',\n",
       " '[N+1]',\n",
       " '[N-1]',\n",
       " '[NH0]',\n",
       " '[NH1+1]',\n",
       " '[NH1]',\n",
       " '[N]',\n",
       " '[O-1]',\n",
       " '[OH0]',\n",
       " '[O]',\n",
       " '[PH0]',\n",
       " '[PH1]',\n",
       " '[P]',\n",
       " '[Ring1]',\n",
       " '[Ring2]',\n",
       " '[S+1]',\n",
       " '[SH1]',\n",
       " '[S]']"
      ]
     },
     "execution_count": 14,
     "metadata": {},
     "output_type": "execute_result"
    }
   ],
   "source": [
    "print(f'Number of vocabulary(unique fragments): {len(vocabs)}')\n",
    "vocabs"
   ]
  },
  {
   "cell_type": "code",
   "execution_count": 15,
   "id": "e3ba72b1",
   "metadata": {},
   "outputs": [],
   "source": [
    "with open(os.path.join(dataconfigs.output_dir, 'vocabulary.csv'), 'w') as fout:\n",
    "    for v in vocabs:\n",
    "        fout.write(f'{v}\\n')"
   ]
  },
  {
   "cell_type": "code",
   "execution_count": null,
   "id": "292e549e",
   "metadata": {},
   "outputs": [],
   "source": []
  }
 ],
 "metadata": {
  "kernelspec": {
   "display_name": "Python 3 (ipykernel)",
   "language": "python",
   "name": "python3"
  },
  "language_info": {
   "codemirror_mode": {
    "name": "ipython",
    "version": 3
   },
   "file_extension": ".py",
   "mimetype": "text/x-python",
   "name": "python",
   "nbconvert_exporter": "python",
   "pygments_lexer": "ipython3",
   "version": "3.8.13"
  }
 },
 "nbformat": 4,
 "nbformat_minor": 5
}
