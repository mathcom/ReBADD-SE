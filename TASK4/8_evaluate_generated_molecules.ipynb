{
 "cells": [
  {
   "cell_type": "code",
   "execution_count": 1,
   "id": "9cf00ead",
   "metadata": {},
   "outputs": [],
   "source": [
    "import os\n",
    "import sys\n",
    "import tqdm\n",
    "import pandas as pd"
   ]
  },
  {
   "cell_type": "code",
   "execution_count": 2,
   "id": "d2f02c96",
   "metadata": {},
   "outputs": [],
   "source": [
    "REBADD_LIB_PATH = os.path.abspath(os.pardir)\n",
    "if REBADD_LIB_PATH not in sys.path:\n",
    "    sys.path = [REBADD_LIB_PATH] + sys.path\n",
    "\n",
    "from rebadd.evaluate import evaluate_sr_nov_div"
   ]
  },
  {
   "cell_type": "code",
   "execution_count": 3,
   "id": "0fa8b185",
   "metadata": {},
   "outputs": [
    {
     "name": "stdout",
     "output_type": "stream",
     "text": [
      "2\n"
     ]
    }
   ],
   "source": [
    "## Test data (navitoclax, ABT-737)\n",
    "filepath_ref = os.path.join(os.pardir, 'data', 'zinc15', 'zinc15_test.txt')\n",
    "df_ref = pd.read_csv(filepath_ref, header=None)\n",
    "\n",
    "referece_smiles_iter = df_ref.iloc[:,0].values.tolist()\n",
    "\n",
    "print(len(referece_smiles_iter))"
   ]
  },
  {
   "cell_type": "code",
   "execution_count": 4,
   "id": "a34e843f",
   "metadata": {},
   "outputs": [],
   "source": [
    "input_dir = 'outputs_7_calculate_properties_generated'\n",
    "\n",
    "modelnames = [\n",
    "    'char+reinforce+scst+offpolicy',\n",
    "]\n",
    "\n",
    "filenames = [f'smi_after.csv.{num}' for num in range(10)]"
   ]
  },
  {
   "cell_type": "code",
   "execution_count": 5,
   "id": "603dc4fd",
   "metadata": {},
   "outputs": [],
   "source": [
    "frames = []\n",
    "\n",
    "for modelname in modelnames:\n",
    "    \n",
    "    for filename in filenames:\n",
    "        \n",
    "        filepath = os.path.join(input_dir, modelname, filename)\n",
    "        \n",
    "        df = pd.read_csv(filepath)\n",
    "        \n",
    "        df = df.loc[:,('smiles', 'bcl2', 'bclxl', 'bclw')]\n",
    "        df.loc[:,'model'] = modelname\n",
    "        df.loc[:,'checkpoint'] = filename.split('.')[-1]\n",
    "        \n",
    "        frames.append(df)"
   ]
  },
  {
   "cell_type": "code",
   "execution_count": 6,
   "id": "55063e21",
   "metadata": {},
   "outputs": [
    {
     "name": "stderr",
     "output_type": "stream",
     "text": [
      "100%|██████████| 10/10 [00:05<00:00,  2.00it/s]\n"
     ]
    }
   ],
   "source": [
    "data = []\n",
    "\n",
    "for df in tqdm.tqdm(frames):\n",
    "\n",
    "    s_sr, s_nov, s_div = evaluate_sr_nov_div(df, referece_smiles_iter, 'bcl2_bclxl_bclw')\n",
    "    \n",
    "    data.append({'SR':s_sr, 'Nov':s_nov, 'Div':s_div, 'Model':df.loc[0,'model'], 'Ckpt':df.loc[0,'checkpoint']})"
   ]
  },
  {
   "cell_type": "code",
   "execution_count": 7,
   "id": "1d08c06b",
   "metadata": {},
   "outputs": [
    {
     "data": {
      "text/html": [
       "<div>\n",
       "<style scoped>\n",
       "    .dataframe tbody tr th:only-of-type {\n",
       "        vertical-align: middle;\n",
       "    }\n",
       "\n",
       "    .dataframe tbody tr th {\n",
       "        vertical-align: top;\n",
       "    }\n",
       "\n",
       "    .dataframe thead th {\n",
       "        text-align: right;\n",
       "    }\n",
       "</style>\n",
       "<table border=\"1\" class=\"dataframe\">\n",
       "  <thead>\n",
       "    <tr style=\"text-align: right;\">\n",
       "      <th></th>\n",
       "      <th>SR</th>\n",
       "      <th>Nov</th>\n",
       "      <th>Div</th>\n",
       "      <th>Model</th>\n",
       "      <th>Ckpt</th>\n",
       "      <th>HMean</th>\n",
       "    </tr>\n",
       "  </thead>\n",
       "  <tbody>\n",
       "    <tr>\n",
       "      <th>0</th>\n",
       "      <td>0.9728</td>\n",
       "      <td>1.0</td>\n",
       "      <td>0.525842</td>\n",
       "      <td>char+reinforce+scst+offpolicy</td>\n",
       "      <td>0</td>\n",
       "      <td>0.799938</td>\n",
       "    </tr>\n",
       "    <tr>\n",
       "      <th>1</th>\n",
       "      <td>0.9746</td>\n",
       "      <td>1.0</td>\n",
       "      <td>0.511101</td>\n",
       "      <td>char+reinforce+scst+offpolicy</td>\n",
       "      <td>1</td>\n",
       "      <td>0.792888</td>\n",
       "    </tr>\n",
       "    <tr>\n",
       "      <th>2</th>\n",
       "      <td>0.9740</td>\n",
       "      <td>1.0</td>\n",
       "      <td>0.517663</td>\n",
       "      <td>char+reinforce+scst+offpolicy</td>\n",
       "      <td>2</td>\n",
       "      <td>0.796100</td>\n",
       "    </tr>\n",
       "    <tr>\n",
       "      <th>3</th>\n",
       "      <td>0.9708</td>\n",
       "      <td>1.0</td>\n",
       "      <td>0.541377</td>\n",
       "      <td>char+reinforce+scst+offpolicy</td>\n",
       "      <td>3</td>\n",
       "      <td>0.807179</td>\n",
       "    </tr>\n",
       "    <tr>\n",
       "      <th>4</th>\n",
       "      <td>0.9740</td>\n",
       "      <td>1.0</td>\n",
       "      <td>0.511974</td>\n",
       "      <td>char+reinforce+scst+offpolicy</td>\n",
       "      <td>4</td>\n",
       "      <td>0.793176</td>\n",
       "    </tr>\n",
       "    <tr>\n",
       "      <th>5</th>\n",
       "      <td>0.9696</td>\n",
       "      <td>1.0</td>\n",
       "      <td>0.528480</td>\n",
       "      <td>char+reinforce+scst+offpolicy</td>\n",
       "      <td>5</td>\n",
       "      <td>0.800394</td>\n",
       "    </tr>\n",
       "    <tr>\n",
       "      <th>6</th>\n",
       "      <td>0.9702</td>\n",
       "      <td>1.0</td>\n",
       "      <td>0.539893</td>\n",
       "      <td>char+reinforce+scst+offpolicy</td>\n",
       "      <td>6</td>\n",
       "      <td>0.806275</td>\n",
       "    </tr>\n",
       "    <tr>\n",
       "      <th>7</th>\n",
       "      <td>0.9744</td>\n",
       "      <td>1.0</td>\n",
       "      <td>0.531939</td>\n",
       "      <td>char+reinforce+scst+offpolicy</td>\n",
       "      <td>7</td>\n",
       "      <td>0.803455</td>\n",
       "    </tr>\n",
       "    <tr>\n",
       "      <th>8</th>\n",
       "      <td>0.9746</td>\n",
       "      <td>1.0</td>\n",
       "      <td>0.541425</td>\n",
       "      <td>char+reinforce+scst+offpolicy</td>\n",
       "      <td>8</td>\n",
       "      <td>0.808253</td>\n",
       "    </tr>\n",
       "    <tr>\n",
       "      <th>9</th>\n",
       "      <td>0.9718</td>\n",
       "      <td>1.0</td>\n",
       "      <td>0.533536</td>\n",
       "      <td>char+reinforce+scst+offpolicy</td>\n",
       "      <td>9</td>\n",
       "      <td>0.803542</td>\n",
       "    </tr>\n",
       "  </tbody>\n",
       "</table>\n",
       "</div>"
      ],
      "text/plain": [
       "       SR  Nov       Div                          Model Ckpt     HMean\n",
       "0  0.9728  1.0  0.525842  char+reinforce+scst+offpolicy    0  0.799938\n",
       "1  0.9746  1.0  0.511101  char+reinforce+scst+offpolicy    1  0.792888\n",
       "2  0.9740  1.0  0.517663  char+reinforce+scst+offpolicy    2  0.796100\n",
       "3  0.9708  1.0  0.541377  char+reinforce+scst+offpolicy    3  0.807179\n",
       "4  0.9740  1.0  0.511974  char+reinforce+scst+offpolicy    4  0.793176\n",
       "5  0.9696  1.0  0.528480  char+reinforce+scst+offpolicy    5  0.800394\n",
       "6  0.9702  1.0  0.539893  char+reinforce+scst+offpolicy    6  0.806275\n",
       "7  0.9744  1.0  0.531939  char+reinforce+scst+offpolicy    7  0.803455\n",
       "8  0.9746  1.0  0.541425  char+reinforce+scst+offpolicy    8  0.808253\n",
       "9  0.9718  1.0  0.533536  char+reinforce+scst+offpolicy    9  0.803542"
      ]
     },
     "execution_count": 7,
     "metadata": {},
     "output_type": "execute_result"
    }
   ],
   "source": [
    "df_records = pd.DataFrame(data)\n",
    "df_records.loc[:,'HMean'] = (df_records.loc[:,'SR'] * df_records.loc[:,'Nov'] * df_records.loc[:,'Div']) ** 0.333\n",
    "\n",
    "df_records"
   ]
  },
  {
   "cell_type": "code",
   "execution_count": 8,
   "id": "2ec0b337",
   "metadata": {},
   "outputs": [
    {
     "data": {
      "text/html": [
       "<div>\n",
       "<style scoped>\n",
       "    .dataframe tbody tr th:only-of-type {\n",
       "        vertical-align: middle;\n",
       "    }\n",
       "\n",
       "    .dataframe tbody tr th {\n",
       "        vertical-align: top;\n",
       "    }\n",
       "\n",
       "    .dataframe thead th {\n",
       "        text-align: right;\n",
       "    }\n",
       "</style>\n",
       "<table border=\"1\" class=\"dataframe\">\n",
       "  <thead>\n",
       "    <tr style=\"text-align: right;\">\n",
       "      <th></th>\n",
       "      <th>SR</th>\n",
       "      <th>Nov</th>\n",
       "      <th>Div</th>\n",
       "      <th>HMean</th>\n",
       "    </tr>\n",
       "    <tr>\n",
       "      <th>Model</th>\n",
       "      <th></th>\n",
       "      <th></th>\n",
       "      <th></th>\n",
       "      <th></th>\n",
       "    </tr>\n",
       "  </thead>\n",
       "  <tbody>\n",
       "    <tr>\n",
       "      <th>char+reinforce+scst+offpolicy</th>\n",
       "      <td>0.97268</td>\n",
       "      <td>1.0</td>\n",
       "      <td>0.528323</td>\n",
       "      <td>0.80112</td>\n",
       "    </tr>\n",
       "  </tbody>\n",
       "</table>\n",
       "</div>"
      ],
      "text/plain": [
       "                                    SR  Nov       Div    HMean\n",
       "Model                                                         \n",
       "char+reinforce+scst+offpolicy  0.97268  1.0  0.528323  0.80112"
      ]
     },
     "execution_count": 8,
     "metadata": {},
     "output_type": "execute_result"
    }
   ],
   "source": [
    "df_records.groupby('Model').mean(numeric_only=True)"
   ]
  },
  {
   "cell_type": "code",
   "execution_count": 9,
   "id": "d891e5a7",
   "metadata": {},
   "outputs": [
    {
     "data": {
      "text/html": [
       "<div>\n",
       "<style scoped>\n",
       "    .dataframe tbody tr th:only-of-type {\n",
       "        vertical-align: middle;\n",
       "    }\n",
       "\n",
       "    .dataframe tbody tr th {\n",
       "        vertical-align: top;\n",
       "    }\n",
       "\n",
       "    .dataframe thead th {\n",
       "        text-align: right;\n",
       "    }\n",
       "</style>\n",
       "<table border=\"1\" class=\"dataframe\">\n",
       "  <thead>\n",
       "    <tr style=\"text-align: right;\">\n",
       "      <th></th>\n",
       "      <th>SR</th>\n",
       "      <th>Nov</th>\n",
       "      <th>Div</th>\n",
       "      <th>HMean</th>\n",
       "    </tr>\n",
       "    <tr>\n",
       "      <th>Model</th>\n",
       "      <th></th>\n",
       "      <th></th>\n",
       "      <th></th>\n",
       "      <th></th>\n",
       "    </tr>\n",
       "  </thead>\n",
       "  <tbody>\n",
       "    <tr>\n",
       "      <th>char+reinforce+scst+offpolicy</th>\n",
       "      <td>0.001937</td>\n",
       "      <td>0.0</td>\n",
       "      <td>0.011546</td>\n",
       "      <td>0.005612</td>\n",
       "    </tr>\n",
       "  </tbody>\n",
       "</table>\n",
       "</div>"
      ],
      "text/plain": [
       "                                     SR  Nov       Div     HMean\n",
       "Model                                                           \n",
       "char+reinforce+scst+offpolicy  0.001937  0.0  0.011546  0.005612"
      ]
     },
     "execution_count": 9,
     "metadata": {},
     "output_type": "execute_result"
    }
   ],
   "source": [
    "df_records.groupby('Model').std(numeric_only=True)"
   ]
  },
  {
   "cell_type": "code",
   "execution_count": null,
   "id": "b33f300d",
   "metadata": {},
   "outputs": [],
   "source": []
  }
 ],
 "metadata": {
  "kernelspec": {
   "display_name": "Python 3 (ipykernel)",
   "language": "python",
   "name": "python3"
  },
  "language_info": {
   "codemirror_mode": {
    "name": "ipython",
    "version": 3
   },
   "file_extension": ".py",
   "mimetype": "text/x-python",
   "name": "python",
   "nbconvert_exporter": "python",
   "pygments_lexer": "ipython3",
   "version": "3.8.13"
  }
 },
 "nbformat": 4,
 "nbformat_minor": 5
}
