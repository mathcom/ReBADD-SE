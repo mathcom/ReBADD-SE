{
 "cells": [
  {
   "cell_type": "code",
   "execution_count": null,
   "id": "343cbdf2",
   "metadata": {},
   "outputs": [],
   "source": [
    "import os\n",
    "import sys\n",
    "import tqdm\n",
    "import pandas as pd\n",
    "import selfies as sf\n",
    "from rdkit import Chem, RDLogger\n",
    "RDLogger.DisableLog('rdApp.*')"
   ]
  },
  {
   "cell_type": "code",
   "execution_count": null,
   "id": "bf555b37",
   "metadata": {},
   "outputs": [],
   "source": [
    "REBADD_LIB_PATH = os.path.abspath(os.pardir)\n",
    "if REBADD_LIB_PATH not in sys.path:\n",
    "    sys.path = [REBADD_LIB_PATH] + sys.path\n",
    "\n",
    "from rebadd.chemutils import GSKScorer, JNKScorer, SAScorer, RAScorer\n",
    "from rebadd.chemutils import calc_chem_properties # smi -> (mw, clogp, tpsa, qed)"
   ]
  },
  {
   "cell_type": "code",
   "execution_count": null,
   "id": "c5f02720",
   "metadata": {},
   "outputs": [],
   "source": [
    "calc_gsk = GSKScorer().set_params(n_jobs=4)\n",
    "calc_jnk = JNKScorer().set_params(n_jobs=4)\n",
    "calc_sa  = SAScorer()\n",
    "calc_ra  = RAScorer().set_params(n_jobs=4)"
   ]
  },
  {
   "cell_type": "code",
   "execution_count": null,
   "id": "1730b820",
   "metadata": {},
   "outputs": [],
   "source": [
    "def calc_properties(smi):\n",
    "    ## init\n",
    "    mw = clogp = tpsa = qed = 0.\n",
    "    s_gsk = s_jnk = 0.\n",
    "    sa = 10.\n",
    "    ra = 0.\n",
    "\n",
    "    ## eval\n",
    "    try:\n",
    "        mw, clogp, tpsa, qed = calc_chem_properties(smi)\n",
    "        sa = calc_sa(smi)\n",
    "        ra = calc_ra(smi)\n",
    "        s_gsk = calc_gsk(smi)\n",
    "        s_jnk = calc_jnk(smi)\n",
    "\n",
    "    except Chem.rdchem.AtomKekulizeException:\n",
    "        pass\n",
    "    except Chem.rdchem.AtomSanitizeException:\n",
    "        pass\n",
    "    except Chem.rdchem.AtomValenceException:\n",
    "        pass\n",
    "    except Chem.rdchem.KekulizeException:\n",
    "        pass\n",
    "    except Chem.rdchem.MolSanitizeException:\n",
    "        pass\n",
    "    \n",
    "    return {'smiles':smi, 'gsk3b':s_gsk, 'jnk3':s_jnk, 'sa':sa, 'ra':ra, 'mw':mw, 'logp':clogp, 'tpsa':tpsa, 'qed':qed}"
   ]
  },
  {
   "cell_type": "code",
   "execution_count": null,
   "id": "2805b466",
   "metadata": {},
   "outputs": [],
   "source": [
    "drug_smi = \"C1=CC=C2C(=C1)C3=NNC4=CC=CC(=C43)C2=O\"\n",
    "pd.DataFrame([calc_properties(drug_smi)])"
   ]
  },
  {
   "cell_type": "code",
   "execution_count": null,
   "id": "1f548086",
   "metadata": {},
   "outputs": [],
   "source": [
    "class CKPTCONFIGS:\n",
    "    def __init__(self):\n",
    "        \n",
    "        self.input_dir = 'outputs_3_checkpoints'                \n",
    "        self.filenames = [f'smi_after.csv.{num:04d}' for num in range(50,550,50)]\n",
    "        \n",
    "ckptconfigs = CKPTCONFIGS()"
   ]
  },
  {
   "cell_type": "code",
   "execution_count": null,
   "id": "35d297dc",
   "metadata": {},
   "outputs": [],
   "source": [
    "class OUTPUTCONFIGS:\n",
    "    def __init__(self):\n",
    "        self.output_dir = \"outputs_4_calculate_properties\"\n",
    "        if not os.path.exists(self.output_dir):\n",
    "            os.mkdir(self.output_dir)\n",
    "            \n",
    "outputconfigs = OUTPUTCONFIGS()"
   ]
  },
  {
   "cell_type": "code",
   "execution_count": null,
   "id": "4876d0d7",
   "metadata": {
    "scrolled": true
   },
   "outputs": [],
   "source": [
    "for filename in ckptconfigs.filenames:\n",
    "    \n",
    "    filepath = os.path.join(ckptconfigs.input_dir, filename)\n",
    "    \n",
    "    df = pd.read_csv(filepath, header=None, skip_blank_lines=True)\n",
    "    gen_smiles = df.iloc[:,0].values.tolist()\n",
    "    \n",
    "    print(len(gen_smiles))\n",
    "    \n",
    "    data = []\n",
    "    for smi in tqdm.tqdm(gen_smiles):\n",
    "        data.append(calc_properties(smi))\n",
    "        \n",
    "    df = pd.DataFrame(data)\n",
    "    \n",
    "    output_filepath = os.path.join(outputconfigs.output_dir, filename)\n",
    "    df.to_csv(output_filepath, index=False)"
   ]
  },
  {
   "cell_type": "code",
   "execution_count": null,
   "id": "204b6950",
   "metadata": {},
   "outputs": [],
   "source": []
  }
 ],
 "metadata": {
  "kernelspec": {
   "display_name": "Python 3 (ipykernel)",
   "language": "python",
   "name": "python3"
  },
  "language_info": {
   "codemirror_mode": {
    "name": "ipython",
    "version": 3
   },
   "file_extension": ".py",
   "mimetype": "text/x-python",
   "name": "python",
   "nbconvert_exporter": "python",
   "pygments_lexer": "ipython3",
   "version": "3.8.18"
  }
 },
 "nbformat": 4,
 "nbformat_minor": 5
}
