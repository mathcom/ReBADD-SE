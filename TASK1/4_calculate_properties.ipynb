{
 "cells": [
  {
   "cell_type": "code",
   "execution_count": 1,
   "id": "1bc1389d",
   "metadata": {},
   "outputs": [],
   "source": [
    "%load_ext autoreload\n",
    "%autoreload 2"
   ]
  },
  {
   "cell_type": "code",
   "execution_count": 2,
   "id": "343cbdf2",
   "metadata": {},
   "outputs": [],
   "source": [
    "import os\n",
    "import sys\n",
    "import tqdm\n",
    "import pandas as pd\n",
    "import selfies as sf\n",
    "from rdkit import Chem, RDLogger\n",
    "RDLogger.DisableLog('rdApp.*')"
   ]
  },
  {
   "cell_type": "code",
   "execution_count": 3,
   "id": "bf555b37",
   "metadata": {},
   "outputs": [],
   "source": [
    "REBADD_LIB_PATH = os.path.abspath(os.pardir)\n",
    "if REBADD_LIB_PATH not in sys.path:\n",
    "    sys.path = [REBADD_LIB_PATH] + sys.path\n",
    "\n",
    "from rebadd.chemutils import GSKScorer, JNKScorer, SAScorer, RAScorer, calc_chem_properties # smi -> (mw, clogp, tpsa, qed)"
   ]
  },
  {
   "cell_type": "code",
   "execution_count": 4,
   "id": "c5f02720",
   "metadata": {},
   "outputs": [],
   "source": [
    "calc_gsk = GSKScorer().set_params(n_jobs=4)\n",
    "calc_jnk = JNKScorer().set_params(n_jobs=4)\n",
    "calc_sa  = SAScorer()\n",
    "calc_ra  = RAScorer().set_params(n_jobs=4)"
   ]
  },
  {
   "cell_type": "code",
   "execution_count": 5,
   "id": "1730b820",
   "metadata": {},
   "outputs": [],
   "source": [
    "def calc_properties(smi):\n",
    "    ## init\n",
    "    mw = clogp = tpsa = qed = 0.\n",
    "    s_gsk = s_jnk = 0.\n",
    "    sa = 10.\n",
    "    ra = 0.\n",
    "\n",
    "    ## eval\n",
    "    try:\n",
    "        mw, clogp, tpsa, qed = calc_chem_properties(smi)\n",
    "        sa = calc_sa(smi)\n",
    "        ra = calc_ra(smi)\n",
    "        s_gsk = calc_gsk(smi)\n",
    "        s_jnk = calc_jnk(smi)\n",
    "\n",
    "    except Chem.rdchem.AtomKekulizeException:\n",
    "        pass\n",
    "    except Chem.rdchem.AtomSanitizeException:\n",
    "        pass\n",
    "    except Chem.rdchem.AtomValenceException:\n",
    "        pass\n",
    "    except Chem.rdchem.KekulizeException:\n",
    "        pass\n",
    "    except Chem.rdchem.MolSanitizeException:\n",
    "        pass\n",
    "    \n",
    "    return {'smiles':smi, 'gsk3b':s_gsk, 'jnk3':s_jnk, 'sa':sa, 'ra':ra, 'mw':mw, 'logp':clogp, 'tpsa':tpsa, 'qed':qed}"
   ]
  },
  {
   "cell_type": "code",
   "execution_count": 6,
   "id": "2805b466",
   "metadata": {},
   "outputs": [
    {
     "data": {
      "text/html": [
       "<div>\n",
       "<style scoped>\n",
       "    .dataframe tbody tr th:only-of-type {\n",
       "        vertical-align: middle;\n",
       "    }\n",
       "\n",
       "    .dataframe tbody tr th {\n",
       "        vertical-align: top;\n",
       "    }\n",
       "\n",
       "    .dataframe thead th {\n",
       "        text-align: right;\n",
       "    }\n",
       "</style>\n",
       "<table border=\"1\" class=\"dataframe\">\n",
       "  <thead>\n",
       "    <tr style=\"text-align: right;\">\n",
       "      <th></th>\n",
       "      <th>smiles</th>\n",
       "      <th>gsk3b</th>\n",
       "      <th>jnk3</th>\n",
       "      <th>sa</th>\n",
       "      <th>ra</th>\n",
       "      <th>mw</th>\n",
       "      <th>logp</th>\n",
       "      <th>tpsa</th>\n",
       "      <th>qed</th>\n",
       "    </tr>\n",
       "  </thead>\n",
       "  <tbody>\n",
       "    <tr>\n",
       "      <th>0</th>\n",
       "      <td>C1=CC=C2C(=C1)C3=NNC4=CC=CC(=C43)C2=O</td>\n",
       "      <td>0.74</td>\n",
       "      <td>0.67</td>\n",
       "      <td>2.126782</td>\n",
       "      <td>0.954688</td>\n",
       "      <td>220.063663</td>\n",
       "      <td>2.7743</td>\n",
       "      <td>45.75</td>\n",
       "      <td>0.494951</td>\n",
       "    </tr>\n",
       "  </tbody>\n",
       "</table>\n",
       "</div>"
      ],
      "text/plain": [
       "                                  smiles  gsk3b  jnk3        sa        ra  \\\n",
       "0  C1=CC=C2C(=C1)C3=NNC4=CC=CC(=C43)C2=O   0.74  0.67  2.126782  0.954688   \n",
       "\n",
       "           mw    logp   tpsa       qed  \n",
       "0  220.063663  2.7743  45.75  0.494951  "
      ]
     },
     "execution_count": 6,
     "metadata": {},
     "output_type": "execute_result"
    }
   ],
   "source": [
    "drug_smi = \"C1=CC=C2C(=C1)C3=NNC4=CC=CC(=C43)C2=O\"\n",
    "pd.DataFrame([calc_properties(drug_smi)])"
   ]
  },
  {
   "cell_type": "code",
   "execution_count": 7,
   "id": "1f548086",
   "metadata": {},
   "outputs": [],
   "source": [
    "class CKPTCONFIGS:\n",
    "    def __init__(self):\n",
    "        \n",
    "        self.input_dir = 'outputs_3_checkpoints'\n",
    "        \n",
    "        self.modelnames = [\n",
    "            #'gsk3_jnk3_qed_sa',\n",
    "            #'gsk3_jnk3',\n",
    "            'gsk3',\n",
    "            'jnk3'\n",
    "        ]\n",
    "                \n",
    "        self.filenames = [f'smi_after.csv.{num:04d}' for num in range(50,550,50)]\n",
    "        \n",
    "ckptconfigs = CKPTCONFIGS()"
   ]
  },
  {
   "cell_type": "code",
   "execution_count": 8,
   "id": "35d297dc",
   "metadata": {},
   "outputs": [],
   "source": [
    "class OUTPUTCONFIGS:\n",
    "    def __init__(self):\n",
    "        self.output_dir = \"outputs_4_calculate_properties\"\n",
    "        if not os.path.exists(self.output_dir):\n",
    "            os.mkdir(self.output_dir)\n",
    "            \n",
    "outputconfigs = OUTPUTCONFIGS()"
   ]
  },
  {
   "cell_type": "code",
   "execution_count": 9,
   "id": "4876d0d7",
   "metadata": {
    "scrolled": true
   },
   "outputs": [
    {
     "name": "stdout",
     "output_type": "stream",
     "text": [
      "1000\n"
     ]
    },
    {
     "name": "stderr",
     "output_type": "stream",
     "text": [
      "100%|██████████| 1000/1000 [01:21<00:00, 12.31it/s]\n"
     ]
    },
    {
     "name": "stdout",
     "output_type": "stream",
     "text": [
      "1000\n"
     ]
    },
    {
     "name": "stderr",
     "output_type": "stream",
     "text": [
      "100%|██████████| 1000/1000 [01:21<00:00, 12.20it/s]\n"
     ]
    },
    {
     "name": "stdout",
     "output_type": "stream",
     "text": [
      "1000\n"
     ]
    },
    {
     "name": "stderr",
     "output_type": "stream",
     "text": [
      "100%|██████████| 1000/1000 [01:20<00:00, 12.46it/s]\n"
     ]
    },
    {
     "name": "stdout",
     "output_type": "stream",
     "text": [
      "1000\n"
     ]
    },
    {
     "name": "stderr",
     "output_type": "stream",
     "text": [
      "100%|██████████| 1000/1000 [00:33<00:00, 29.47it/s]\n"
     ]
    },
    {
     "name": "stdout",
     "output_type": "stream",
     "text": [
      "1000\n"
     ]
    },
    {
     "name": "stderr",
     "output_type": "stream",
     "text": [
      "100%|██████████| 1000/1000 [00:16<00:00, 59.06it/s]\n"
     ]
    },
    {
     "name": "stdout",
     "output_type": "stream",
     "text": [
      "1000\n"
     ]
    },
    {
     "name": "stderr",
     "output_type": "stream",
     "text": [
      "100%|██████████| 1000/1000 [00:16<00:00, 60.35it/s]\n"
     ]
    },
    {
     "name": "stdout",
     "output_type": "stream",
     "text": [
      "1000\n"
     ]
    },
    {
     "name": "stderr",
     "output_type": "stream",
     "text": [
      "100%|██████████| 1000/1000 [00:16<00:00, 60.92it/s]\n"
     ]
    },
    {
     "name": "stdout",
     "output_type": "stream",
     "text": [
      "1000\n"
     ]
    },
    {
     "name": "stderr",
     "output_type": "stream",
     "text": [
      "100%|██████████| 1000/1000 [00:16<00:00, 60.04it/s]\n"
     ]
    },
    {
     "name": "stdout",
     "output_type": "stream",
     "text": [
      "1000\n"
     ]
    },
    {
     "name": "stderr",
     "output_type": "stream",
     "text": [
      "100%|██████████| 1000/1000 [00:16<00:00, 59.04it/s]\n"
     ]
    },
    {
     "name": "stdout",
     "output_type": "stream",
     "text": [
      "1000\n"
     ]
    },
    {
     "name": "stderr",
     "output_type": "stream",
     "text": [
      "100%|██████████| 1000/1000 [00:16<00:00, 59.66it/s]\n"
     ]
    },
    {
     "name": "stdout",
     "output_type": "stream",
     "text": [
      "1000\n"
     ]
    },
    {
     "name": "stderr",
     "output_type": "stream",
     "text": [
      "100%|██████████| 1000/1000 [00:16<00:00, 59.47it/s]\n"
     ]
    },
    {
     "name": "stdout",
     "output_type": "stream",
     "text": [
      "1000\n"
     ]
    },
    {
     "name": "stderr",
     "output_type": "stream",
     "text": [
      "100%|██████████| 1000/1000 [00:16<00:00, 59.60it/s]\n"
     ]
    },
    {
     "name": "stdout",
     "output_type": "stream",
     "text": [
      "1000\n"
     ]
    },
    {
     "name": "stderr",
     "output_type": "stream",
     "text": [
      "100%|██████████| 1000/1000 [00:16<00:00, 59.08it/s]\n"
     ]
    },
    {
     "name": "stdout",
     "output_type": "stream",
     "text": [
      "1000\n"
     ]
    },
    {
     "name": "stderr",
     "output_type": "stream",
     "text": [
      "100%|██████████| 1000/1000 [00:17<00:00, 58.18it/s]\n"
     ]
    },
    {
     "name": "stdout",
     "output_type": "stream",
     "text": [
      "1000\n"
     ]
    },
    {
     "name": "stderr",
     "output_type": "stream",
     "text": [
      "100%|██████████| 1000/1000 [00:17<00:00, 56.47it/s]\n"
     ]
    },
    {
     "name": "stdout",
     "output_type": "stream",
     "text": [
      "1000\n"
     ]
    },
    {
     "name": "stderr",
     "output_type": "stream",
     "text": [
      "100%|██████████| 1000/1000 [00:17<00:00, 56.56it/s]\n"
     ]
    },
    {
     "name": "stdout",
     "output_type": "stream",
     "text": [
      "1000\n"
     ]
    },
    {
     "name": "stderr",
     "output_type": "stream",
     "text": [
      "100%|██████████| 1000/1000 [00:18<00:00, 54.53it/s]\n"
     ]
    },
    {
     "name": "stdout",
     "output_type": "stream",
     "text": [
      "1000\n"
     ]
    },
    {
     "name": "stderr",
     "output_type": "stream",
     "text": [
      "100%|██████████| 1000/1000 [00:17<00:00, 55.70it/s]\n"
     ]
    },
    {
     "name": "stdout",
     "output_type": "stream",
     "text": [
      "1000\n"
     ]
    },
    {
     "name": "stderr",
     "output_type": "stream",
     "text": [
      "100%|██████████| 1000/1000 [00:18<00:00, 54.05it/s]\n"
     ]
    },
    {
     "name": "stdout",
     "output_type": "stream",
     "text": [
      "1000\n"
     ]
    },
    {
     "name": "stderr",
     "output_type": "stream",
     "text": [
      "100%|██████████| 1000/1000 [00:18<00:00, 54.82it/s]\n"
     ]
    }
   ],
   "source": [
    "for modelname in ckptconfigs.modelnames:\n",
    "    \n",
    "    input_dir = os.path.join(ckptconfigs.input_dir, modelname)\n",
    "    output_dir = os.path.join(outputconfigs.output_dir, modelname)\n",
    "    if not os.path.exists(output_dir):\n",
    "        os.mkdir(output_dir)\n",
    "    \n",
    "    for filename in ckptconfigs.filenames:\n",
    "        \n",
    "        filepath = os.path.join(input_dir, filename)\n",
    "        \n",
    "        df = pd.read_csv(filepath, header=None, skip_blank_lines=True)\n",
    "        gen_smiles = df.iloc[:,0].values.tolist()\n",
    "        \n",
    "        print(len(gen_smiles))\n",
    "        \n",
    "        data = []\n",
    "        for smi in tqdm.tqdm(gen_smiles):\n",
    "            data.append(calc_properties(smi))\n",
    "            \n",
    "        df = pd.DataFrame(data)\n",
    "        \n",
    "        output_filepath = os.path.join(output_dir, filename)\n",
    "        df.to_csv(output_filepath, index=False)"
   ]
  },
  {
   "cell_type": "code",
   "execution_count": null,
   "id": "204b6950",
   "metadata": {},
   "outputs": [],
   "source": []
  }
 ],
 "metadata": {
  "kernelspec": {
   "display_name": "Python 3 (ipykernel)",
   "language": "python",
   "name": "python3"
  },
  "language_info": {
   "codemirror_mode": {
    "name": "ipython",
    "version": 3
   },
   "file_extension": ".py",
   "mimetype": "text/x-python",
   "name": "python",
   "nbconvert_exporter": "python",
   "pygments_lexer": "ipython3",
   "version": "3.8.13"
  }
 },
 "nbformat": 4,
 "nbformat_minor": 5
}
