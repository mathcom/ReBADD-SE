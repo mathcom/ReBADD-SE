{
 "cells": [
  {
   "cell_type": "code",
   "execution_count": null,
   "id": "353c412d",
   "metadata": {},
   "outputs": [],
   "source": [
    "import os\n",
    "import sys\n",
    "import tqdm\n",
    "import pandas as pd"
   ]
  },
  {
   "cell_type": "code",
   "execution_count": null,
   "id": "a34d8219",
   "metadata": {},
   "outputs": [],
   "source": [
    "REBADD_LIB_PATH = os.path.abspath(os.pardir)\n",
    "if REBADD_LIB_PATH not in sys.path:\n",
    "    sys.path = [REBADD_LIB_PATH] + sys.path\n",
    "\n",
    "from rebadd.evaluate import evaluate_sr_nov_div"
   ]
  },
  {
   "cell_type": "code",
   "execution_count": null,
   "id": "a856d14f",
   "metadata": {},
   "outputs": [],
   "source": [
    "filepath_ref = os.path.join(os.pardir, 'data', 'chembl', 'chembl_test_full.csv')\n",
    "df_ref = pd.read_csv(filepath_ref)\n",
    "referece_smiles_iter = df_ref.loc[:,'smiles'].values.tolist()\n",
    "\n",
    "print(len(referece_smiles_iter))"
   ]
  },
  {
   "cell_type": "code",
   "execution_count": null,
   "id": "285d6586",
   "metadata": {},
   "outputs": [],
   "source": [
    "input_dir = 'outputs_4_calculate_properties'\n",
    "\n",
    "filenames = [f'smi_after.csv.{num:04d}' for num in range(50,550,50)]"
   ]
  },
  {
   "cell_type": "markdown",
   "id": "57d5ad86",
   "metadata": {},
   "source": [
    "## gsk3b_jnk3_qed_sa"
   ]
  },
  {
   "cell_type": "code",
   "execution_count": null,
   "id": "43c57db1",
   "metadata": {},
   "outputs": [],
   "source": [
    "frames = []\n",
    "\n",
    "for modelname in ['gsk3_jnk3_qed_sa']:\n",
    "    \n",
    "    for filename in filenames:\n",
    "        \n",
    "        filepath = os.path.join(input_dir, modelname, filename)\n",
    "        \n",
    "        df = pd.read_csv(filepath)\n",
    "        \n",
    "        df = df.loc[:,('smiles', 'gsk3b', 'jnk3', 'qed', 'sa')]\n",
    "        df.loc[:,'model'] = modelname\n",
    "        df.loc[:,'checkpoint'] = filename.split('.')[-1]\n",
    "        \n",
    "        frames.append(df)\n",
    "        \n",
    "        \n",
    "data = []\n",
    "\n",
    "for df in tqdm.tqdm(frames):\n",
    "\n",
    "    s_sr, s_nov, s_div = evaluate_sr_nov_div(df, referece_smiles_iter, 'gsk3b_jnk3_qed_sa')\n",
    "    \n",
    "    data.append({'SR':s_sr, 'Nov':s_nov, 'Div':s_div, 'Model':df.loc[0,'model'], 'Ckpt':df.loc[0,'checkpoint']})\n",
    "    \n",
    "\n",
    "df_records = pd.DataFrame(data)\n",
    "df_records.loc[:,'HMean'] = (df_records.loc[:,'SR'] * df_records.loc[:,'Nov'] * df_records.loc[:,'Div']) ** 0.333\n",
    "\n",
    "df_records"
   ]
  },
  {
   "cell_type": "markdown",
   "id": "98a7224e",
   "metadata": {},
   "source": [
    "## gsk3b_jnk3"
   ]
  },
  {
   "cell_type": "code",
   "execution_count": null,
   "id": "eb9a06ac",
   "metadata": {},
   "outputs": [],
   "source": [
    "frames = []\n",
    "\n",
    "for modelname in ['gsk3_jnk3']:\n",
    "    \n",
    "    for filename in filenames:\n",
    "        \n",
    "        filepath = os.path.join(input_dir, modelname, filename)\n",
    "        \n",
    "        df = pd.read_csv(filepath)\n",
    "        \n",
    "        df = df.loc[:,('smiles', 'gsk3b', 'jnk3', 'qed', 'sa')]\n",
    "        df.loc[:,'model'] = modelname\n",
    "        df.loc[:,'checkpoint'] = filename.split('.')[-1]\n",
    "        \n",
    "        frames.append(df)\n",
    "        \n",
    "        \n",
    "data = []\n",
    "\n",
    "for df in tqdm.tqdm(frames):\n",
    "\n",
    "    s_sr, s_nov, s_div = evaluate_sr_nov_div(df, referece_smiles_iter, 'gsk3b_jnk3')\n",
    "    \n",
    "    data.append({'SR':s_sr, 'Nov':s_nov, 'Div':s_div, 'Model':df.loc[0,'model'], 'Ckpt':df.loc[0,'checkpoint']})\n",
    "    \n",
    "\n",
    "df_records = pd.DataFrame(data)\n",
    "df_records.loc[:,'HMean'] = (df_records.loc[:,'SR'] * df_records.loc[:,'Nov'] * df_records.loc[:,'Div']) ** 0.333\n",
    "\n",
    "df_records"
   ]
  },
  {
   "cell_type": "markdown",
   "id": "ec249fc2",
   "metadata": {},
   "source": [
    "## gsk3b"
   ]
  },
  {
   "cell_type": "code",
   "execution_count": null,
   "id": "9d43be51",
   "metadata": {},
   "outputs": [],
   "source": [
    "frames = []\n",
    "\n",
    "for modelname in ['gsk3']:\n",
    "    \n",
    "    for filename in filenames:\n",
    "        \n",
    "        filepath = os.path.join(input_dir, modelname, filename)\n",
    "        \n",
    "        df = pd.read_csv(filepath)\n",
    "        \n",
    "        df = df.loc[:,('smiles', 'gsk3b', 'jnk3', 'qed', 'sa')]\n",
    "        df.loc[:,'model'] = modelname\n",
    "        df.loc[:,'checkpoint'] = filename.split('.')[-1]\n",
    "        \n",
    "        frames.append(df)\n",
    "        \n",
    "        \n",
    "data = []\n",
    "\n",
    "for df in tqdm.tqdm(frames):\n",
    "\n",
    "    s_sr, s_nov, s_div = evaluate_sr_nov_div(df, referece_smiles_iter, 'gsk3b')\n",
    "    \n",
    "    data.append({'SR':s_sr, 'Nov':s_nov, 'Div':s_div, 'Model':df.loc[0,'model'], 'Ckpt':df.loc[0,'checkpoint']})\n",
    "    \n",
    "\n",
    "df_records = pd.DataFrame(data)\n",
    "df_records.loc[:,'HMean'] = (df_records.loc[:,'SR'] * df_records.loc[:,'Nov'] * df_records.loc[:,'Div']) ** 0.333\n",
    "\n",
    "df_records"
   ]
  },
  {
   "cell_type": "markdown",
   "id": "372774e4",
   "metadata": {},
   "source": [
    "## jnk3"
   ]
  },
  {
   "cell_type": "code",
   "execution_count": null,
   "id": "8bd579e0",
   "metadata": {},
   "outputs": [],
   "source": [
    "frames = []\n",
    "\n",
    "for modelname in ['jnk3']:\n",
    "    \n",
    "    for filename in filenames:\n",
    "        \n",
    "        filepath = os.path.join(input_dir, modelname, filename)\n",
    "        \n",
    "        df = pd.read_csv(filepath)\n",
    "        \n",
    "        df = df.loc[:,('smiles', 'gsk3b', 'jnk3', 'qed', 'sa')]\n",
    "        df.loc[:,'model'] = modelname\n",
    "        df.loc[:,'checkpoint'] = filename.split('.')[-1]\n",
    "        \n",
    "        frames.append(df)\n",
    "        \n",
    "        \n",
    "data = []\n",
    "\n",
    "for df in tqdm.tqdm(frames):\n",
    "\n",
    "    s_sr, s_nov, s_div = evaluate_sr_nov_div(df, referece_smiles_iter, 'jnk3')\n",
    "    \n",
    "    data.append({'SR':s_sr, 'Nov':s_nov, 'Div':s_div, 'Model':df.loc[0,'model'], 'Ckpt':df.loc[0,'checkpoint']})\n",
    "    \n",
    "\n",
    "df_records = pd.DataFrame(data)\n",
    "df_records.loc[:,'HMean'] = (df_records.loc[:,'SR'] * df_records.loc[:,'Nov'] * df_records.loc[:,'Div']) ** 0.333\n",
    "\n",
    "df_records"
   ]
  }
 ],
 "metadata": {
  "kernelspec": {
   "display_name": "Python 3 (ipykernel)",
   "language": "python",
   "name": "python3"
  },
  "language_info": {
   "codemirror_mode": {
    "name": "ipython",
    "version": 3
   },
   "file_extension": ".py",
   "mimetype": "text/x-python",
   "name": "python",
   "nbconvert_exporter": "python",
   "pygments_lexer": "ipython3",
   "version": "3.8.18"
  }
 },
 "nbformat": 4,
 "nbformat_minor": 5
}
