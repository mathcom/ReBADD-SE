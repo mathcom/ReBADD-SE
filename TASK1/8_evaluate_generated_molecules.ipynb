{
 "cells": [
  {
   "cell_type": "code",
   "execution_count": 1,
   "id": "353c412d",
   "metadata": {},
   "outputs": [],
   "source": [
    "import os\n",
    "import sys\n",
    "import tqdm\n",
    "import pandas as pd"
   ]
  },
  {
   "cell_type": "code",
   "execution_count": 2,
   "id": "a34d8219",
   "metadata": {},
   "outputs": [],
   "source": [
    "REBADD_LIB_PATH = os.path.abspath(os.pardir)\n",
    "if REBADD_LIB_PATH not in sys.path:\n",
    "    sys.path = [REBADD_LIB_PATH] + sys.path\n",
    "\n",
    "from rebadd.evaluate import evaluate_sr_nov_div"
   ]
  },
  {
   "cell_type": "code",
   "execution_count": 3,
   "id": "a856d14f",
   "metadata": {},
   "outputs": [
    {
     "name": "stdout",
     "output_type": "stream",
     "text": [
      "315\n"
     ]
    }
   ],
   "source": [
    "filepath_ref = os.path.join(os.pardir, 'data', 'chembl', 'chembl_test_full.csv')\n",
    "df_ref = pd.read_csv(filepath_ref)\n",
    "referece_smiles_iter = df_ref.loc[:,'smiles'].values.tolist()\n",
    "\n",
    "print(len(referece_smiles_iter))"
   ]
  },
  {
   "cell_type": "code",
   "execution_count": 4,
   "id": "285d6586",
   "metadata": {},
   "outputs": [],
   "source": [
    "input_dir = 'outputs_7_calculate_properties_generated'\n",
    "\n",
    "filenames = [f'smi_after.csv.{num}' for num in range(10)]"
   ]
  },
  {
   "cell_type": "markdown",
   "id": "57d5ad86",
   "metadata": {},
   "source": [
    "## gsk3b_jnk3_qed_sa"
   ]
  },
  {
   "cell_type": "code",
   "execution_count": 5,
   "id": "43c57db1",
   "metadata": {},
   "outputs": [
    {
     "name": "stderr",
     "output_type": "stream",
     "text": [
      "100%|██████████| 10/10 [00:09<00:00,  1.02it/s]"
     ]
    },
    {
     "name": "stdout",
     "output_type": "stream",
     "text": [
      "                       SR       Nov       Div     HMean\n",
      "Model                                                  \n",
      "gsk3_jnk3_qed_sa  0.84136  0.692683  0.674449  0.732726\n",
      "                       SR      Nov       Div     HMean\n",
      "Model                                                 \n",
      "gsk3_jnk3_qed_sa  0.00743  0.01321  0.001538  0.006081\n"
     ]
    },
    {
     "name": "stderr",
     "output_type": "stream",
     "text": [
      "\n"
     ]
    }
   ],
   "source": [
    "frames = []\n",
    "\n",
    "for modelname in ['gsk3_jnk3_qed_sa']:\n",
    "    \n",
    "    for filename in filenames:\n",
    "        \n",
    "        filepath = os.path.join(input_dir, modelname, filename)\n",
    "        \n",
    "        df = pd.read_csv(filepath)\n",
    "        \n",
    "        df = df.loc[:,('smiles', 'gsk3b', 'jnk3', 'qed', 'sa')]\n",
    "        df.loc[:,'model'] = modelname\n",
    "        df.loc[:,'checkpoint'] = filename.split('.')[-1]\n",
    "        \n",
    "        frames.append(df)\n",
    "        \n",
    "        \n",
    "data = []\n",
    "\n",
    "for df in tqdm.tqdm(frames):\n",
    "\n",
    "    s_sr, s_nov, s_div = evaluate_sr_nov_div(df, referece_smiles_iter, 'gsk3b_jnk3_qed_sa')\n",
    "    \n",
    "    data.append({'SR':s_sr, 'Nov':s_nov, 'Div':s_div, 'Model':df.loc[0,'model'], 'Ckpt':df.loc[0,'checkpoint']})\n",
    "    \n",
    "\n",
    "df_records = pd.DataFrame(data)\n",
    "df_records.loc[:,'HMean'] = (df_records.loc[:,'SR'] * df_records.loc[:,'Nov'] * df_records.loc[:,'Div']) ** 0.333\n",
    "\n",
    "print(df_records.groupby('Model').mean(numeric_only=True))\n",
    "print(df_records.groupby('Model').std(numeric_only=True))"
   ]
  },
  {
   "cell_type": "code",
   "execution_count": 6,
   "id": "07231bd3",
   "metadata": {},
   "outputs": [
    {
     "name": "stderr",
     "output_type": "stream",
     "text": [
      "100%|██████████| 2/2 [00:01<00:00,  1.01it/s]\n"
     ]
    },
    {
     "data": {
      "text/html": [
       "<div>\n",
       "<style scoped>\n",
       "    .dataframe tbody tr th:only-of-type {\n",
       "        vertical-align: middle;\n",
       "    }\n",
       "\n",
       "    .dataframe tbody tr th {\n",
       "        vertical-align: top;\n",
       "    }\n",
       "\n",
       "    .dataframe thead th {\n",
       "        text-align: right;\n",
       "    }\n",
       "</style>\n",
       "<table border=\"1\" class=\"dataframe\">\n",
       "  <thead>\n",
       "    <tr style=\"text-align: right;\">\n",
       "      <th></th>\n",
       "      <th>SR</th>\n",
       "      <th>Nov</th>\n",
       "      <th>Div</th>\n",
       "      <th>Model</th>\n",
       "      <th>HMean</th>\n",
       "    </tr>\n",
       "  </thead>\n",
       "  <tbody>\n",
       "    <tr>\n",
       "      <th>0</th>\n",
       "      <td>0.395800</td>\n",
       "      <td>0.756707</td>\n",
       "      <td>0.734864</td>\n",
       "      <td>MARS</td>\n",
       "      <td>0.604073</td>\n",
       "    </tr>\n",
       "    <tr>\n",
       "      <th>1</th>\n",
       "      <td>0.231696</td>\n",
       "      <td>0.527200</td>\n",
       "      <td>0.774141</td>\n",
       "      <td>MolSearch</td>\n",
       "      <td>0.455945</td>\n",
       "    </tr>\n",
       "  </tbody>\n",
       "</table>\n",
       "</div>"
      ],
      "text/plain": [
       "         SR       Nov       Div      Model     HMean\n",
       "0  0.395800  0.756707  0.734864       MARS  0.604073\n",
       "1  0.231696  0.527200  0.774141  MolSearch  0.455945"
      ]
     },
     "execution_count": 6,
     "metadata": {},
     "output_type": "execute_result"
    }
   ],
   "source": [
    "frames = []\n",
    "\n",
    "for modelname in ['MARS', 'MolSearch']:\n",
    "\n",
    "    filepath = os.path.join('baseline', f'{modelname}.txt')\n",
    "\n",
    "    df = pd.read_csv(filepath)\n",
    "\n",
    "    df = df.loc[:,('smiles', 'gsk3b', 'jnk3', 'qed', 'sa')]\n",
    "    df.loc[:,'model'] = modelname\n",
    "\n",
    "    frames.append(df)\n",
    "\n",
    "        \n",
    "data = []\n",
    "\n",
    "for df in tqdm.tqdm(frames):\n",
    "\n",
    "    s_sr, s_nov, s_div = evaluate_sr_nov_div(df, referece_smiles_iter, 'gsk3b_jnk3_qed_sa')\n",
    "    \n",
    "    data.append({'SR':s_sr, 'Nov':s_nov, 'Div':s_div, 'Model':df.loc[0,'model']})\n",
    "    \n",
    "\n",
    "df_records = pd.DataFrame(data)\n",
    "df_records.loc[:,'HMean'] = (df_records.loc[:,'SR'] * df_records.loc[:,'Nov'] * df_records.loc[:,'Div']) ** 0.333\n",
    "\n",
    "df_records"
   ]
  },
  {
   "cell_type": "markdown",
   "id": "98a7224e",
   "metadata": {},
   "source": [
    "## gsk3b_jnk3"
   ]
  },
  {
   "cell_type": "code",
   "execution_count": 8,
   "id": "eb9a06ac",
   "metadata": {},
   "outputs": [
    {
     "name": "stderr",
     "output_type": "stream",
     "text": [
      "100%|██████████| 10/10 [00:50<00:00,  5.07s/it]"
     ]
    },
    {
     "name": "stdout",
     "output_type": "stream",
     "text": [
      "               SR       Nov       Div     HMean\n",
      "Model                                          \n",
      "gsk3_jnk3  0.9443  0.703007  0.682842  0.768372\n",
      "                 SR       Nov       Div     HMean\n",
      "Model                                            \n",
      "gsk3_jnk3  0.003367  0.007993  0.001237  0.003042\n"
     ]
    },
    {
     "name": "stderr",
     "output_type": "stream",
     "text": [
      "\n"
     ]
    }
   ],
   "source": [
    "frames = []\n",
    "\n",
    "for modelname in ['gsk3_jnk3']:\n",
    "    \n",
    "    for filename in filenames:\n",
    "        \n",
    "        filepath = os.path.join(input_dir, modelname, filename)\n",
    "        \n",
    "        df = pd.read_csv(filepath)\n",
    "        \n",
    "        df = df.loc[:,('smiles', 'gsk3b', 'jnk3', 'qed', 'sa')]\n",
    "        df.loc[:,'model'] = modelname\n",
    "        df.loc[:,'checkpoint'] = filename.split('.')[-1]\n",
    "        \n",
    "        frames.append(df)\n",
    "        \n",
    "        \n",
    "data = []\n",
    "\n",
    "for df in tqdm.tqdm(frames):\n",
    "\n",
    "    s_sr, s_nov, s_div = evaluate_sr_nov_div(df, referece_smiles_iter, 'gsk3b_jnk3')\n",
    "    \n",
    "    data.append({'SR':s_sr, 'Nov':s_nov, 'Div':s_div, 'Model':df.loc[0,'model'], 'Ckpt':df.loc[0,'checkpoint']})\n",
    "    \n",
    "\n",
    "df_records = pd.DataFrame(data)\n",
    "df_records.loc[:,'HMean'] = (df_records.loc[:,'SR'] * df_records.loc[:,'Nov'] * df_records.loc[:,'Div']) ** 0.333\n",
    "\n",
    "print(df_records.groupby('Model').mean(numeric_only=True))\n",
    "print(df_records.groupby('Model').std(numeric_only=True))"
   ]
  },
  {
   "cell_type": "markdown",
   "id": "ec249fc2",
   "metadata": {},
   "source": [
    "## gsk3b"
   ]
  },
  {
   "cell_type": "code",
   "execution_count": 9,
   "id": "9d43be51",
   "metadata": {},
   "outputs": [
    {
     "name": "stderr",
     "output_type": "stream",
     "text": [
      "100%|██████████| 10/10 [00:07<00:00,  1.35it/s]"
     ]
    },
    {
     "name": "stdout",
     "output_type": "stream",
     "text": [
      "            SR       Nov       Div     HMean\n",
      "Model                                       \n",
      "gsk3   0.97444  0.999818  0.712734  0.885625\n",
      "            SR       Nov       Div     HMean\n",
      "Model                                       \n",
      "gsk3   0.00211  0.000577  0.006564  0.002677\n"
     ]
    },
    {
     "name": "stderr",
     "output_type": "stream",
     "text": [
      "\n"
     ]
    }
   ],
   "source": [
    "frames = []\n",
    "\n",
    "for modelname in ['gsk3']:\n",
    "    \n",
    "    for filename in filenames:\n",
    "        \n",
    "        filepath = os.path.join(input_dir, modelname, filename)\n",
    "        \n",
    "        df = pd.read_csv(filepath)\n",
    "        \n",
    "        df = df.loc[:,('smiles', 'gsk3b', 'jnk3', 'qed', 'sa')]\n",
    "        df.loc[:,'model'] = modelname\n",
    "        df.loc[:,'checkpoint'] = filename.split('.')[-1]\n",
    "        \n",
    "        frames.append(df)\n",
    "        \n",
    "        \n",
    "data = []\n",
    "\n",
    "for df in tqdm.tqdm(frames):\n",
    "\n",
    "    s_sr, s_nov, s_div = evaluate_sr_nov_div(df, referece_smiles_iter, 'gsk3b')\n",
    "    \n",
    "    data.append({'SR':s_sr, 'Nov':s_nov, 'Div':s_div, 'Model':df.loc[0,'model'], 'Ckpt':df.loc[0,'checkpoint']})\n",
    "    \n",
    "\n",
    "df_records = pd.DataFrame(data)\n",
    "df_records.loc[:,'HMean'] = (df_records.loc[:,'SR'] * df_records.loc[:,'Nov'] * df_records.loc[:,'Div']) ** 0.333\n",
    "\n",
    "print(df_records.groupby('Model').mean(numeric_only=True))\n",
    "print(df_records.groupby('Model').std(numeric_only=True))"
   ]
  },
  {
   "cell_type": "markdown",
   "id": "372774e4",
   "metadata": {},
   "source": [
    "## jnk3"
   ]
  },
  {
   "cell_type": "code",
   "execution_count": 10,
   "id": "8bd579e0",
   "metadata": {},
   "outputs": [
    {
     "name": "stderr",
     "output_type": "stream",
     "text": [
      "100%|██████████| 10/10 [01:06<00:00,  6.62s/it]"
     ]
    },
    {
     "name": "stdout",
     "output_type": "stream",
     "text": [
      "            SR       Nov       Div     HMean\n",
      "Model                                       \n",
      "jnk3   0.95152  0.906967  0.759858  0.868907\n",
      "            SR       Nov       Div     HMean\n",
      "Model                                       \n",
      "jnk3   0.00308  0.004341  0.001091  0.001672\n"
     ]
    },
    {
     "name": "stderr",
     "output_type": "stream",
     "text": [
      "\n"
     ]
    }
   ],
   "source": [
    "frames = []\n",
    "\n",
    "for modelname in ['jnk3']:\n",
    "    \n",
    "    for filename in filenames:\n",
    "        \n",
    "        filepath = os.path.join(input_dir, modelname, filename)\n",
    "        \n",
    "        df = pd.read_csv(filepath)\n",
    "        \n",
    "        df = df.loc[:,('smiles', 'gsk3b', 'jnk3', 'qed', 'sa')]\n",
    "        df.loc[:,'model'] = modelname\n",
    "        df.loc[:,'checkpoint'] = filename.split('.')[-1]\n",
    "        \n",
    "        frames.append(df)\n",
    "        \n",
    "        \n",
    "data = []\n",
    "\n",
    "for df in tqdm.tqdm(frames):\n",
    "\n",
    "    s_sr, s_nov, s_div = evaluate_sr_nov_div(df, referece_smiles_iter, 'jnk3')\n",
    "    \n",
    "    data.append({'SR':s_sr, 'Nov':s_nov, 'Div':s_div, 'Model':df.loc[0,'model'], 'Ckpt':df.loc[0,'checkpoint']})\n",
    "    \n",
    "\n",
    "df_records = pd.DataFrame(data)\n",
    "df_records.loc[:,'HMean'] = (df_records.loc[:,'SR'] * df_records.loc[:,'Nov'] * df_records.loc[:,'Div']) ** 0.333\n",
    "\n",
    "print(df_records.groupby('Model').mean(numeric_only=True))\n",
    "print(df_records.groupby('Model').std(numeric_only=True))"
   ]
  },
  {
   "cell_type": "code",
   "execution_count": null,
   "id": "5e2bbf80",
   "metadata": {},
   "outputs": [],
   "source": []
  }
 ],
 "metadata": {
  "kernelspec": {
   "display_name": "Python 3 (ipykernel)",
   "language": "python",
   "name": "python3"
  },
  "language_info": {
   "codemirror_mode": {
    "name": "ipython",
    "version": 3
   },
   "file_extension": ".py",
   "mimetype": "text/x-python",
   "name": "python",
   "nbconvert_exporter": "python",
   "pygments_lexer": "ipython3",
   "version": "3.8.13"
  }
 },
 "nbformat": 4,
 "nbformat_minor": 5
}
