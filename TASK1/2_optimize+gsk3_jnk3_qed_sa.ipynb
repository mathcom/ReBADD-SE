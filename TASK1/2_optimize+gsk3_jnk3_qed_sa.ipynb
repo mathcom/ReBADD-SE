{
 "cells": [
  {
   "cell_type": "markdown",
   "id": "96bf1da4",
   "metadata": {},
   "source": [
    "# BA optimization"
   ]
  },
  {
   "cell_type": "code",
   "execution_count": null,
   "id": "4346bac0",
   "metadata": {},
   "outputs": [],
   "source": [
    "%env CUDA_VISIBLE_DEVICES=0"
   ]
  },
  {
   "cell_type": "code",
   "execution_count": null,
   "id": "60882b44",
   "metadata": {},
   "outputs": [],
   "source": [
    "%load_ext autoreload\n",
    "%autoreload 2"
   ]
  },
  {
   "cell_type": "code",
   "execution_count": null,
   "id": "297e7a9b",
   "metadata": {},
   "outputs": [],
   "source": [
    "import os\n",
    "import sys\n",
    "import numpy as np\n",
    "import pandas as pd\n",
    "import matplotlib.pyplot as plt\n",
    "import selfies as sf\n",
    "import torch\n",
    "import time\n",
    "from tqdm import tqdm, trange\n",
    "from rdkit import RDLogger\n",
    "RDLogger.DisableLog('rdApp.*')"
   ]
  },
  {
   "cell_type": "code",
   "execution_count": null,
   "id": "d5db714a",
   "metadata": {},
   "outputs": [],
   "source": [
    "## Inter-op parallelism\n",
    "torch.set_num_interop_threads(4)\n",
    "torch.get_num_interop_threads()\n",
    "## Intra-op parallelism\n",
    "torch.set_num_threads(4)\n",
    "torch.get_num_threads()"
   ]
  },
  {
   "cell_type": "code",
   "execution_count": null,
   "id": "cc5a445d",
   "metadata": {},
   "outputs": [],
   "source": [
    "class GPUCONFIGS:\n",
    "    def __init__(self):\n",
    "        self.use_cuda = torch.cuda.is_available()\n",
    "        self.device = torch.device('cuda:0' if self.use_cuda else 'cpu')\n",
    "        if self.use_cuda: torch.cuda.set_device(self.device)\n",
    "        \n",
    "gpuconfigs = GPUCONFIGS()\n",
    "print(torch.cuda.current_device())"
   ]
  },
  {
   "cell_type": "code",
   "execution_count": null,
   "id": "60b3f96c",
   "metadata": {},
   "outputs": [],
   "source": [
    "REBADD_LIB_PATH = os.path.abspath(os.pardir)\n",
    "if REBADD_LIB_PATH not in sys.path:\n",
    "    sys.path = [REBADD_LIB_PATH] + sys.path\n",
    "\n",
    "from rebadd.stackVAE import StackAugmentedVAE\n",
    "from rebadd.datautils import GeneratorData\n",
    "from rebadd.reinforce import REINFORCE_SCST_OFFPOLICY as REINFORCE"
   ]
  },
  {
   "cell_type": "markdown",
   "id": "0cadd26c",
   "metadata": {},
   "source": [
    "# 1. Generator"
   ]
  },
  {
   "cell_type": "markdown",
   "id": "a5114d75",
   "metadata": {},
   "source": [
    "## 1-1) Data loading for generators"
   ]
  },
  {
   "cell_type": "code",
   "execution_count": null,
   "id": "c6af4c60",
   "metadata": {},
   "outputs": [],
   "source": [
    "class DATACONFIGS:\n",
    "    def __init__(self):\n",
    "        ## input\n",
    "        self.input_dir = os.path.join('processed_data', 'gsk3_jnk3_qed_sa')\n",
    "        self.train_data_path = os.path.join(self.input_dir, 'fragments_list.pkl')\n",
    "        self.vocab_data_path = os.path.join(self.input_dir, 'vocabulary.csv')\n",
    "        ## output\n",
    "        self.output_dir = os.path.join('outputs_2_optimize_ReBADD', 'gsk3_jnk3_qed_sa')\n",
    "        assert os.path.exists(self.output_dir)\n",
    "\n",
    "dataconfigs = DATACONFIGS()"
   ]
  },
  {
   "cell_type": "code",
   "execution_count": null,
   "id": "dca5a983",
   "metadata": {},
   "outputs": [],
   "source": [
    "gen_data = GeneratorData(pickle_data_path=dataconfigs.train_data_path,\n",
    "                         vocabulary_path=dataconfigs.vocab_data_path,\n",
    "                         use_cuda=gpuconfigs.use_cuda)\n",
    "\n",
    "print(f\"Number of training samples: {len(gen_data.data)}\")\n",
    "print(f\"Number of vocabulary: {len(gen_data.vocabs)}\")\n",
    "print(f\"Maximum of seqlen: {gen_data.max_seqlen}\")"
   ]
  },
  {
   "cell_type": "markdown",
   "id": "795afbd8",
   "metadata": {},
   "source": [
    "## 1-2) Pretrained generators"
   ]
  },
  {
   "cell_type": "code",
   "execution_count": null,
   "id": "6bb80cbf",
   "metadata": {},
   "outputs": [],
   "source": [
    "kwargs_generator = {\"input_size\"         : gen_data.n_characters,\n",
    "                    \"output_size\"        : gen_data.n_characters,\n",
    "                    \"max_seqlen\"         : 40,\n",
    "                    \"hidden_size\"        : 256,\n",
    "                    \"latent_size\"        : 64,\n",
    "                    \"n_layers\"           : 4,\n",
    "                    \"has_stack\"          : True,\n",
    "                    \"stack_width\"        : 256,\n",
    "                    \"stack_depth\"        : 20,\n",
    "                    \"lr\"                 : 1e-4,\n",
    "                    \"use_cuda\"           : gpuconfigs.use_cuda,\n",
    "                    \"device\"             : gpuconfigs.device,\n",
    "                    \"optimizer_instance\" : torch.optim.RMSprop}"
   ]
  },
  {
   "cell_type": "code",
   "execution_count": null,
   "id": "bd82ee11",
   "metadata": {},
   "outputs": [],
   "source": [
    "my_generator_after  = StackAugmentedVAE(**kwargs_generator)"
   ]
  },
  {
   "cell_type": "code",
   "execution_count": null,
   "id": "2e75b3d7",
   "metadata": {},
   "outputs": [],
   "source": [
    "class CKPTCONFIGS:\n",
    "    def __init__(self):\n",
    "        self.model_path = os.path.join('outputs_1_pretraining_ReBADD', 'gsk3_jnk3_qed_sa', 'checkpoint.pth')\n",
    "        \n",
    "ckptconfigs = CKPTCONFIGS()"
   ]
  },
  {
   "cell_type": "code",
   "execution_count": null,
   "id": "4097254d",
   "metadata": {},
   "outputs": [],
   "source": [
    "my_generator_after.load_model(ckptconfigs.model_path)"
   ]
  },
  {
   "cell_type": "markdown",
   "id": "cdfae5c1",
   "metadata": {},
   "source": [
    "# 2. Reinforcement learning"
   ]
  },
  {
   "cell_type": "code",
   "execution_count": null,
   "id": "424e892a",
   "metadata": {},
   "outputs": [],
   "source": [
    "from ReBADD_config import Reward_gsk3_jnk3_qed_sa as Reward"
   ]
  },
  {
   "cell_type": "markdown",
   "id": "d19ebc17",
   "metadata": {},
   "source": [
    "## 2-1) RL design"
   ]
  },
  {
   "cell_type": "code",
   "execution_count": null,
   "id": "78155c0a",
   "metadata": {},
   "outputs": [],
   "source": [
    "my_reward_ft = Reward()"
   ]
  },
  {
   "cell_type": "code",
   "execution_count": null,
   "id": "82d08f2d",
   "metadata": {},
   "outputs": [],
   "source": [
    "ReBADD = REINFORCE(data=gen_data, generator=my_generator_after, reward_ft=my_reward_ft, zeta=0.9999)"
   ]
  },
  {
   "cell_type": "markdown",
   "id": "bae7f66d",
   "metadata": {},
   "source": [
    "## 2-2) Training"
   ]
  },
  {
   "cell_type": "code",
   "execution_count": null,
   "id": "2c385043",
   "metadata": {},
   "outputs": [],
   "source": [
    "model_path = os.path.join(dataconfigs.output_dir, 'checkpoint.pth')\n",
    "losses_path = os.path.join(dataconfigs.output_dir, 'losses.csv')\n",
    "plot_path = os.path.join(dataconfigs.output_dir, \"plots_reward_losses.pdf\")"
   ]
  },
  {
   "cell_type": "code",
   "execution_count": null,
   "id": "e1ff7bfb",
   "metadata": {},
   "outputs": [],
   "source": [
    "def SMILES_generate(generator, n_to_generate, gen_data):\n",
    "    generated = []\n",
    "    for i in trange(n_to_generate):\n",
    "        z = generator.sample_latent_vectors()\n",
    "        sel = generator.evaluate(gen_data, z=z)\n",
    "        sel = sel.replace(gen_data.start_token, \"\").replace(gen_data.end_token, \"\")\n",
    "        smi = sf.decoder(sel)\n",
    "        generated.append(smi)\n",
    "    return generated"
   ]
  },
  {
   "cell_type": "code",
   "execution_count": null,
   "id": "5f6cf98b",
   "metadata": {},
   "outputs": [],
   "source": [
    "def simple_moving_average(previous_values, new_value, ma_window_size=10):\n",
    "    value_ma = np.sum(previous_values[-(ma_window_size-1):]) + new_value\n",
    "    value_ma = value_ma/(len(previous_values[-(ma_window_size-1):]) + 1)\n",
    "    return value_ma"
   ]
  },
  {
   "cell_type": "code",
   "execution_count": null,
   "id": "1b5a3b3e",
   "metadata": {},
   "outputs": [],
   "source": [
    "def show_reward_loss(rewards, losses, figsize=(8,2.5), filepath=None):\n",
    "    fig, ax = plt.subplots(1,2,figsize=figsize)\n",
    "    \n",
    "    ax[0].plot(rewards)\n",
    "    ax[0].set_xlabel('Training iteration')\n",
    "    ax[0].set_ylabel('Average reward')\n",
    "    ax[1].plot(rl_losses, 'r')\n",
    "    ax[1].set_xlabel('Training iteration')\n",
    "    ax[1].set_ylabel('Loss')\n",
    "    \n",
    "    plt.tight_layout()\n",
    "    if filepath is None:\n",
    "        plt.show()\n",
    "    else:\n",
    "        plt.savefig(filepath)"
   ]
  },
  {
   "cell_type": "code",
   "execution_count": null,
   "id": "2d1dfe7d",
   "metadata": {},
   "outputs": [],
   "source": [
    "def write_history(tr_rewards, rl_losses, reconst_losses, entropy_losses,\n",
    "                  gsk_list, jnk_list, qed_list, sa_list,\n",
    "                  execution_times, filepath):\n",
    "    \n",
    "    df_history = pd.DataFrame({\"REWARD\":tr_rewards,\n",
    "                               \"LOSS\":rl_losses,\n",
    "                               \"LOSS_RECONST\":reconst_losses,\n",
    "                               \"LOSS_ENTROPY\":entropy_losses,\n",
    "                               \"GSK3\":gsk_list,\n",
    "                               \"JNK3\":jnk_list,\n",
    "                               \"QED\":qed_list,\n",
    "                               \"SA\":sa_list,\n",
    "                               \"EXEC_TIME\":execution_times})\n",
    "    \n",
    "    df_history.to_csv(filepath, index=False)\n",
    "    return df_history"
   ]
  },
  {
   "cell_type": "code",
   "execution_count": null,
   "id": "39539006",
   "metadata": {},
   "outputs": [],
   "source": [
    "# Setting up some parameters for the experiment\n",
    "n_iterations = 1000\n",
    "checkpoint_stepsize = 50\n",
    "behavior_stepsize = 20"
   ]
  },
  {
   "cell_type": "code",
   "execution_count": null,
   "id": "ec3d498c-060d-44d4-9f85-b31d8be1dad6",
   "metadata": {},
   "outputs": [],
   "source": [
    "tr_rewards = [] # rewards when training the model\n",
    "rl_losses = [] # loss when training the model\n",
    "reconst_losses = [] # reconstruction loss\n",
    "entropy_losses = [] # entropy regularization\n",
    "\n",
    "gsk_list = []\n",
    "jnk_list = []\n",
    "qed_list = []\n",
    "sa_list = []\n",
    "\n",
    "execution_times = []\n",
    "\n",
    "## Training RL optimizer\n",
    "start_time = time.time()\n",
    "\n",
    "alpha_min = 0.01\n",
    "alpha_max = 0.1\n",
    "alpha_inc = (alpha_max - alpha_min) / n_iterations\n",
    "alpha = alpha_min\n",
    "for i in range(1, n_iterations+1):\n",
    "    ## policy gradient\n",
    "    alpha += alpha_inc\n",
    "    cur_reward, cur_loss, cur_reconst, cur_entropy = ReBADD.policy_gradient(grad_clipping=1., alpha=alpha)\n",
    "    \n",
    "    ## append - reward\n",
    "    reward = cur_reward\n",
    "    tr_rewards.append(reward)\n",
    "    \n",
    "    ## append - loss\n",
    "    rl_loss = cur_loss\n",
    "    rl_losses.append(rl_loss)\n",
    "    reconst_loss = cur_reconst\n",
    "    reconst_losses.append(reconst_loss)\n",
    "    entropy_loss = cur_entropy\n",
    "    entropy_losses.append(entropy_loss)\n",
    "        \n",
    "    ## execution time check\n",
    "    end_time = time.time()\n",
    "    exec_time = end_time - start_time\n",
    "    execution_times.append(exec_time)\n",
    "    \n",
    "    ## print - logs\n",
    "    print(f\"[{i:04d}] rl_loss: {rl_loss:.3f}\\treconst_loss: {reconst_loss:.3f}\\tentropy_loss: {entropy_loss:.3f}\\treward: {reward:.3f}\\ttau: {ReBADD.tau:.3f}\\t({exec_time:.3f} sec)\")\n",
    "        \n",
    "    ## checkpoint\n",
    "    avg_gsk = 0.\n",
    "    avg_jnk = 0.\n",
    "    avg_qed = 0.\n",
    "    avg_sa = 0.\n",
    "    \n",
    "    if i % checkpoint_stepsize == 0:\n",
    "        ## save\n",
    "        ReBADD.generator.save_model(model_path.replace('.pth', f'.pth.{i:04d}'))\n",
    "        \n",
    "        ## plotting\n",
    "        show_reward_loss(tr_rewards, rl_losses)\n",
    "\n",
    "        ## sampling check\n",
    "        smiles_cur = SMILES_generate(ReBADD, n_to_generate=100, gen_data=gen_data)\n",
    "        print(f'Sample trajectories: {len(smiles_cur)}')\n",
    "        if len(smiles_cur) > 0:\n",
    "            for sm in smiles_cur:\n",
    "                _, s_gsk, s_jnk, s_qed, s_sa = my_reward_ft(sm, debug=True)\n",
    "                print(f\"[{s_gsk:.3f}, {s_jnk:.3f}, {s_qed:.3f}, {s_sa:.3f}]    {sm}\")\n",
    "                avg_gsk += s_gsk\n",
    "                avg_jnk += s_jnk\n",
    "                avg_qed += s_qed\n",
    "                avg_sa += s_sa\n",
    "            avg_gsk /= len(smiles_cur)\n",
    "            avg_jnk /= len(smiles_cur)\n",
    "            avg_qed /= len(smiles_cur)\n",
    "            avg_sa /= len(smiles_cur)\n",
    "    \n",
    "    ## append - binding affinity values\n",
    "    gsk_list.append(avg_gsk)\n",
    "    jnk_list.append(avg_jnk)\n",
    "    qed_list.append(avg_qed)\n",
    "    sa_list.append(avg_sa)\n",
    "    \n",
    "    ## history save\n",
    "    _ = write_history(tr_rewards, rl_losses, reconst_losses, entropy_losses,\n",
    "                      gsk_list, jnk_list, qed_list, sa_list,\n",
    "                      execution_times, losses_path)\n",
    "    \n",
    "    if i % behavior_stepsize == 0:\n",
    "        ReBADD.update_behavior()"
   ]
  },
  {
   "cell_type": "markdown",
   "id": "f341d2fd",
   "metadata": {},
   "source": [
    "# 3. Save"
   ]
  },
  {
   "cell_type": "code",
   "execution_count": null,
   "id": "53373c12",
   "metadata": {},
   "outputs": [],
   "source": [
    "ReBADD.generator.save_model(model_path)"
   ]
  },
  {
   "cell_type": "code",
   "execution_count": null,
   "id": "2acf6e87",
   "metadata": {},
   "outputs": [],
   "source": [
    "show_reward_loss(tr_rewards, rl_losses, filepath=plot_path)"
   ]
  },
  {
   "cell_type": "code",
   "execution_count": null,
   "id": "41f93c66",
   "metadata": {},
   "outputs": [],
   "source": [
    "df_history = write_history(tr_rewards, rl_losses, reconst_losses, entropy_losses,\n",
    "                           gsk_list, jnk_list, qed_list, sa_list,\n",
    "                           execution_times, losses_path)\n",
    "print(df_history.shape)\n",
    "print(df_history.head())"
   ]
  },
  {
   "cell_type": "code",
   "execution_count": null,
   "id": "7fa6aa47",
   "metadata": {},
   "outputs": [],
   "source": [
    "def save_smiles(filepath, smiles):\n",
    "    with open(filepath, 'w') as fout:\n",
    "        for smi in smiles:\n",
    "            fout.write(f\"{smi}\\n\")\n",
    "    print(f\"[INFO] {len(smiles)} SMILES were saved in {filepath}\")"
   ]
  },
  {
   "cell_type": "code",
   "execution_count": null,
   "id": "939f6f56",
   "metadata": {
    "scrolled": true
   },
   "outputs": [],
   "source": [
    "n_sampling = 30000\n",
    "\n",
    "smi_after = SMILES_generate(ReBADD, n_sampling, gen_data)"
   ]
  },
  {
   "cell_type": "code",
   "execution_count": null,
   "id": "1752c5be",
   "metadata": {},
   "outputs": [],
   "source": [
    "save_smiles(os.path.join(dataconfigs.output_dir, \"smi_after.csv\"), smi_after)"
   ]
  },
  {
   "cell_type": "code",
   "execution_count": null,
   "id": "08b98222",
   "metadata": {},
   "outputs": [],
   "source": []
  }
 ],
 "metadata": {
  "kernelspec": {
   "display_name": "Python 3 (ipykernel)",
   "language": "python",
   "name": "python3"
  },
  "language_info": {
   "codemirror_mode": {
    "name": "ipython",
    "version": 3
   },
   "file_extension": ".py",
   "mimetype": "text/x-python",
   "name": "python",
   "nbconvert_exporter": "python",
   "pygments_lexer": "ipython3",
   "version": "3.8.18"
  }
 },
 "nbformat": 4,
 "nbformat_minor": 5
}
