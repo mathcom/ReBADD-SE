{
 "cells": [
  {
   "cell_type": "code",
   "execution_count": null,
   "id": "95884ad2",
   "metadata": {},
   "outputs": [],
   "source": [
    "%load_ext autoreload\n",
    "%autoreload 2"
   ]
  },
  {
   "cell_type": "code",
   "execution_count": null,
   "id": "8f3b2544",
   "metadata": {},
   "outputs": [],
   "source": [
    "import os\n",
    "import sys\n",
    "import pickle"
   ]
  },
  {
   "cell_type": "code",
   "execution_count": null,
   "id": "d29a82d0",
   "metadata": {},
   "outputs": [],
   "source": [
    "import tqdm\n",
    "import pandas as pd\n",
    "import selfies as sf\n",
    "from rdkit import Chem"
   ]
  },
  {
   "cell_type": "code",
   "execution_count": null,
   "id": "3da046bf",
   "metadata": {},
   "outputs": [],
   "source": [
    "REBADD_LIB_PATH = os.path.abspath(os.pardir)\n",
    "if REBADD_LIB_PATH not in sys.path:\n",
    "    sys.path = [REBADD_LIB_PATH] + sys.path\n",
    "    \n",
    "from rebadd.datautils import get_fragment_from_selfies"
   ]
  },
  {
   "cell_type": "code",
   "execution_count": null,
   "id": "978fdc39",
   "metadata": {},
   "outputs": [],
   "source": [
    "class DATACONFIGS:\n",
    "    def __init__(self):\n",
    "        ## input\n",
    "        self.input_dir = os.path.join(os.pardir, 'data', 'chembl')\n",
    "        self.train_data_path = os.path.join(self.input_dir, 'chembl_train_full.csv')\n",
    "        ## output\n",
    "        self.output_dir = os.path.join('processed_data', 'gsk3_jnk3_qed_sa')\n",
    "        assert os.path.exists(self.output_dir)\n",
    "\n",
    "dataconfigs = DATACONFIGS()"
   ]
  },
  {
   "cell_type": "code",
   "execution_count": null,
   "id": "d612cd20",
   "metadata": {},
   "outputs": [],
   "source": [
    "df_train = pd.read_csv(dataconfigs.train_data_path)\n",
    "\n",
    "df_train"
   ]
  },
  {
   "cell_type": "code",
   "execution_count": null,
   "id": "c0a2b560",
   "metadata": {},
   "outputs": [],
   "source": [
    "df_trainable = df_train[ (df_train['gsk3'] > 0.5) | (df_train['jnk3'] > 0.5) | (df_train['qed'] > 0.6) | (df_train['sa'] < 4.001)]\n",
    "df_trainable = df_trainable[ (df_trainable['gsk3'] > 0.01) | (df_trainable['jnk3'] > 0.01) ]\n",
    "df_trainable = df_trainable.reset_index(drop=True)\n",
    "\n",
    "df_trainable"
   ]
  },
  {
   "cell_type": "code",
   "execution_count": null,
   "id": "75c55319",
   "metadata": {},
   "outputs": [],
   "source": [
    "data = df_trainable.loc[:,'smiles'].values.tolist()\n",
    "\n",
    "with open(os.path.join(dataconfigs.output_dir, 'trainable_smiles.txt'), 'w') as fout:\n",
    "    for smi in data:\n",
    "        fout.write(f'{smi}\\n')"
   ]
  },
  {
   "cell_type": "code",
   "execution_count": null,
   "id": "37b1042f",
   "metadata": {},
   "outputs": [],
   "source": [
    "print(f'Number of training data (raw): {len(data)}')\n",
    "data[:5]"
   ]
  },
  {
   "cell_type": "code",
   "execution_count": null,
   "id": "b144a69d",
   "metadata": {},
   "outputs": [],
   "source": [
    "def make_selfies_data(smiles_iter):\n",
    "    selfies_list = []\n",
    "    fragments_list = []\n",
    "    \n",
    "    for smi in tqdm.tqdm(smiles_iter):\n",
    "        \n",
    "        try:\n",
    "            mol = Chem.MolFromSmiles(smi)\n",
    "            Chem.Kekulize(mol)\n",
    "        except:\n",
    "            continue\n",
    "\n",
    "        try:\n",
    "            smi = Chem.MolToSmiles(mol, canonical=True, doRandom=False, isomericSmiles=False, kekuleSmiles=True)\n",
    "            sel = sf.encoder(smi)\n",
    "            frags = get_fragment_from_selfies([sel], use_tqdm=False)[0]\n",
    "            if max([sf.len_selfies(x) for x in frags]) < 16:\n",
    "                selfies_list.append(sel)\n",
    "                fragments_list.append(frags)\n",
    "        except AssertionError:\n",
    "            pass\n",
    "        except sf.EncoderError:\n",
    "            pass\n",
    "    \n",
    "    return selfies_list, fragments_list"
   ]
  },
  {
   "cell_type": "code",
   "execution_count": null,
   "id": "7f12ffcb",
   "metadata": {},
   "outputs": [],
   "source": [
    "selfies_list, fragments_list = make_selfies_data(data)"
   ]
  },
  {
   "cell_type": "code",
   "execution_count": null,
   "id": "5c7fb38a",
   "metadata": {},
   "outputs": [],
   "source": [
    "print(f'Number of training data (selfies): {len(selfies_list)}')\n",
    "selfies_list[:5]"
   ]
  },
  {
   "cell_type": "code",
   "execution_count": null,
   "id": "933da28d",
   "metadata": {},
   "outputs": [],
   "source": [
    "print(f'maxlen of fragments: {max([len(fragments) for fragments in fragments_list])}')\n",
    "fragments_list[:2]"
   ]
  },
  {
   "cell_type": "code",
   "execution_count": null,
   "id": "14287d5d",
   "metadata": {},
   "outputs": [],
   "source": [
    "with open(os.path.join(dataconfigs.output_dir, 'fragments_list.pkl'), 'wb') as fout:\n",
    "    pickle.dump(fragments_list, fout)"
   ]
  },
  {
   "cell_type": "code",
   "execution_count": null,
   "id": "32413ffb",
   "metadata": {},
   "outputs": [],
   "source": [
    "vocabs = set()\n",
    "for fragments in tqdm.tqdm(fragments_list):\n",
    "    vocabs = vocabs.union(set(fragments))\n",
    "\n",
    "vocabs = sorted(vocabs)"
   ]
  },
  {
   "cell_type": "code",
   "execution_count": null,
   "id": "ff114427",
   "metadata": {},
   "outputs": [],
   "source": [
    "print(f'Number of vocabulary(unique fragments): {len(vocabs)}')\n",
    "vocabs"
   ]
  },
  {
   "cell_type": "code",
   "execution_count": null,
   "id": "e3ba72b1",
   "metadata": {},
   "outputs": [],
   "source": [
    "with open(os.path.join(dataconfigs.output_dir, 'vocabulary.csv'), 'w') as fout:\n",
    "    for v in vocabs:\n",
    "        fout.write(f'{v}\\n')"
   ]
  },
  {
   "cell_type": "code",
   "execution_count": null,
   "id": "292e549e",
   "metadata": {},
   "outputs": [],
   "source": [
    "with open(os.path.join(dataconfigs.output_dir, 'selfies.csv'), 'w') as fout:\n",
    "    for selfies in selfies_list:\n",
    "        fout.write(f'{selfies}\\n')"
   ]
  },
  {
   "cell_type": "code",
   "execution_count": null,
   "id": "130e39bc",
   "metadata": {},
   "outputs": [],
   "source": []
  }
 ],
 "metadata": {
  "kernelspec": {
   "display_name": "Python 3 (ipykernel)",
   "language": "python",
   "name": "python3"
  },
  "language_info": {
   "codemirror_mode": {
    "name": "ipython",
    "version": 3
   },
   "file_extension": ".py",
   "mimetype": "text/x-python",
   "name": "python",
   "nbconvert_exporter": "python",
   "pygments_lexer": "ipython3",
   "version": "3.8.18"
  }
 },
 "nbformat": 4,
 "nbformat_minor": 5
}
