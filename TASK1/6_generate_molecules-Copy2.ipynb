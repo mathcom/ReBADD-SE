{
 "cells": [
  {
   "cell_type": "code",
   "execution_count": 1,
   "id": "fbf0d679",
   "metadata": {},
   "outputs": [
    {
     "name": "stdout",
     "output_type": "stream",
     "text": [
      "env: CUDA_VISIBLE_DEVICES=0\n"
     ]
    }
   ],
   "source": [
    "%env CUDA_VISIBLE_DEVICES=0"
   ]
  },
  {
   "cell_type": "code",
   "execution_count": 2,
   "id": "530cb674",
   "metadata": {},
   "outputs": [],
   "source": [
    "%load_ext autoreload\n",
    "%autoreload 2"
   ]
  },
  {
   "cell_type": "code",
   "execution_count": 3,
   "id": "11ab2509",
   "metadata": {},
   "outputs": [],
   "source": [
    "import os\n",
    "import sys\n",
    "import numpy as np\n",
    "import pandas as pd\n",
    "import matplotlib.pyplot as plt\n",
    "import selfies as sf\n",
    "import torch\n",
    "import time\n",
    "from tqdm import tqdm, trange\n",
    "from rdkit import RDLogger, Chem\n",
    "RDLogger.DisableLog('rdApp.*')"
   ]
  },
  {
   "cell_type": "code",
   "execution_count": 4,
   "id": "897836e5",
   "metadata": {},
   "outputs": [
    {
     "data": {
      "text/plain": [
       "4"
      ]
     },
     "execution_count": 4,
     "metadata": {},
     "output_type": "execute_result"
    }
   ],
   "source": [
    "## Inter-op parallelism\n",
    "torch.set_num_interop_threads(4)\n",
    "torch.get_num_interop_threads()\n",
    "## Intra-op parallelism\n",
    "torch.set_num_threads(4)\n",
    "torch.get_num_threads()"
   ]
  },
  {
   "cell_type": "code",
   "execution_count": 5,
   "id": "cfeb170c",
   "metadata": {},
   "outputs": [
    {
     "name": "stdout",
     "output_type": "stream",
     "text": [
      "0\n"
     ]
    }
   ],
   "source": [
    "class GPUCONFIGS:\n",
    "    def __init__(self):\n",
    "        self.use_cuda = torch.cuda.is_available()\n",
    "        self.device = torch.device('cuda:0' if self.use_cuda else 'cpu')\n",
    "        if self.use_cuda: torch.cuda.set_device(self.device)\n",
    "        \n",
    "gpuconfigs = GPUCONFIGS()\n",
    "print(torch.cuda.current_device())"
   ]
  },
  {
   "cell_type": "code",
   "execution_count": 6,
   "id": "aeb3721c",
   "metadata": {},
   "outputs": [],
   "source": [
    "REBADD_LIB_PATH = os.path.abspath(os.pardir)\n",
    "if REBADD_LIB_PATH not in sys.path:\n",
    "    sys.path = [REBADD_LIB_PATH] + sys.path\n",
    "\n",
    "from rebadd.stackVAE import StackAugmentedVAE\n",
    "from rebadd.datautils import GeneratorData\n",
    "from rebadd.evaluate import TanimotoSimilarity_OneToBulk"
   ]
  },
  {
   "cell_type": "code",
   "execution_count": 7,
   "id": "3b9782d1",
   "metadata": {},
   "outputs": [],
   "source": [
    "class DATACONFIGS:\n",
    "    def __init__(self):\n",
    "        ## input\n",
    "        self.input_dir = os.path.join('processed_data', 'gsk3_jnk3_qed_sa')\n",
    "        self.train_data_path = os.path.join(self.input_dir, 'fragments_list.pkl')\n",
    "        self.vocab_data_path = os.path.join(self.input_dir, 'vocabulary.csv')\n",
    "        ## output\n",
    "        self.output_dir = 'outputs_6_generate_molecules'\n",
    "        assert os.path.exists(self.output_dir)\n",
    "\n",
    "dataconfigs = DATACONFIGS()"
   ]
  },
  {
   "cell_type": "code",
   "execution_count": 8,
   "id": "eb5ef422",
   "metadata": {},
   "outputs": [
    {
     "name": "stdout",
     "output_type": "stream",
     "text": [
      "Number of training samples: 781797\n",
      "Number of vocabulary: 53687\n",
      "Maximum of seqlen: 40\n"
     ]
    }
   ],
   "source": [
    "gen_data = GeneratorData(pickle_data_path=dataconfigs.train_data_path,\n",
    "                         vocabulary_path=dataconfigs.vocab_data_path,\n",
    "                         use_cuda=gpuconfigs.use_cuda)\n",
    "\n",
    "print(f\"Number of training samples: {len(gen_data.data)}\")\n",
    "print(f\"Number of vocabulary: {len(gen_data.vocabs)}\")\n",
    "print(f\"Maximum of seqlen: {gen_data.max_seqlen}\")"
   ]
  },
  {
   "cell_type": "code",
   "execution_count": 9,
   "id": "c374a441",
   "metadata": {},
   "outputs": [],
   "source": [
    "filepath_ref = os.path.join(os.pardir, 'data', 'chembl', 'actives.txt')\n",
    "referece_smiles_iter = pd.read_csv(filepath_ref).iloc[:,0].values.tolist()\n",
    "calc_sim = TanimotoSimilarity_OneToBulk(referece_smiles_iter, aggregate='max')"
   ]
  },
  {
   "cell_type": "code",
   "execution_count": 10,
   "id": "0251d74a",
   "metadata": {},
   "outputs": [],
   "source": [
    "from ReBADD_config import Reward_gsk3_jnk3_qed_sa\n",
    "from ReBADD_config import Reward_gsk3_jnk3\n",
    "from ReBADD_config import Reward_gsk3\n",
    "from ReBADD_config import Reward_jnk3"
   ]
  },
  {
   "cell_type": "code",
   "execution_count": 11,
   "id": "8507be11",
   "metadata": {},
   "outputs": [],
   "source": [
    "kwargs_generator = {\"input_size\"         : gen_data.n_characters,\n",
    "                    \"output_size\"        : gen_data.n_characters,\n",
    "                    \"max_seqlen\"         : 40,\n",
    "                    \"hidden_size\"        : 256,\n",
    "                    \"latent_size\"        : 64,\n",
    "                    \"n_layers\"           : 4,\n",
    "                    \"has_stack\"          : True,\n",
    "                    \"stack_width\"        : 256,\n",
    "                    \"stack_depth\"        : 20,\n",
    "                    \"lr\"                 : 1e-4,\n",
    "                    \"use_cuda\"           : gpuconfigs.use_cuda,\n",
    "                    \"device\"             : gpuconfigs.device,\n",
    "                    \"optimizer_instance\" : torch.optim.RMSprop}\n",
    "\n",
    "generator = StackAugmentedVAE(**kwargs_generator)"
   ]
  },
  {
   "cell_type": "code",
   "execution_count": 12,
   "id": "9a127509",
   "metadata": {},
   "outputs": [],
   "source": [
    "class CKPTCONFIGS:\n",
    "    def __init__(self):\n",
    "        self.input_dir = 'outputs_2_optimize_ReBADD'\n",
    "        \n",
    "        jobs = [\n",
    "            #('gsk3_jnk3_qed_sa', '0150', Reward_gsk3_jnk3_qed_sa()),\n",
    "            #('gsk3_jnk3', '0450', Reward_gsk3_jnk3()),\n",
    "            #('gsk3', '0500', Reward_gsk3()),\n",
    "            ('jnk3', '0450', Reward_jnk3()),\n",
    "        ]\n",
    "        \n",
    "        self.modelnames = [x[0] for x in jobs]\n",
    "        self.numbers    = [x[1] for x in jobs]\n",
    "        self.reward_fts = [x[2] for x in jobs]\n",
    "        \n",
    "ckptconfigs = CKPTCONFIGS()"
   ]
  },
  {
   "cell_type": "code",
   "execution_count": 13,
   "id": "590371a0",
   "metadata": {},
   "outputs": [],
   "source": [
    "def normalize_SMILES(smi):\n",
    "    mol = Chem.MolFromSmiles(smi)\n",
    "    smi_rdkit = Chem.MolToSmiles(\n",
    "        mol,\n",
    "        isomericSmiles=False,   # modified because this option allows special tokens (e.g. [125I])\n",
    "        kekuleSmiles=False,     # default\n",
    "        rootedAtAtom=-1,        # default\n",
    "        canonical=True,         # default\n",
    "        allBondsExplicit=False, # default\n",
    "        allHsExplicit=False     # default\n",
    "    )\n",
    "    return smi_rdkit\n",
    "\n",
    "\n",
    "def generate_single_SMILES(data, generator, reward_ft, K, threshold):\n",
    "    best_smi = 'C'\n",
    "    best_rwd = threshold\n",
    "    \n",
    "    for _ in range(K):\n",
    "        ## SELFIES\n",
    "        z = generator.sample_latent_vectors()\n",
    "        sel = generator.evaluate(data, z=z, return_z=False, greedy=False)\n",
    "        sel = sel.replace(data.start_token, '').replace(data.end_token, '')\n",
    "        \n",
    "        ## SMILES\n",
    "        smi = sf.decoder(sel)\n",
    "    \n",
    "        ## Reward\n",
    "        try:\n",
    "            smi = normalize_SMILES(smi)\n",
    "            rwd = reward_ft(smi)\n",
    "        except:\n",
    "            rwd = threshold\n",
    "            \n",
    "        if rwd > best_rwd:\n",
    "            best_smi = smi\n",
    "            best_rwd = rwd\n",
    "        \n",
    "    return best_smi\n",
    "\n",
    "\n",
    "def generate_SMILES(data, generator, reward_ft, sample_size, K, threshold):\n",
    "    results = []\n",
    "    for _ in trange(sample_size):\n",
    "        best_smi = generate_single_SMILES(data, generator, reward_ft, K, threshold)\n",
    "        results.append(best_smi)\n",
    "    return results\n",
    "\n",
    "\n",
    "def generate_novel_SMILES(data, generator, reward_ft, sample_size, K, threshold, calc_sim):\n",
    "    results = []\n",
    "    for _ in trange(sample_size):\n",
    "        best_smi = 'C'\n",
    "        best_sim = 1.\n",
    "        for _ in range(K):\n",
    "            smi = generate_single_SMILES(data, generator, reward_ft, K, threshold)\n",
    "            sim = calc_sim(smi)\n",
    "            if sim < best_sim:\n",
    "                best_sim = sim\n",
    "                best_smi = smi\n",
    "        results.append(best_smi)\n",
    "    return results\n",
    "\n",
    "\n",
    "def SMILES_generate(data, generator, reward_ft, sample_size=5000, K=5, threshold=0., calc_sim=None):\n",
    "    generator.eval()\n",
    "    if calc_sim:\n",
    "        return generate_novel_SMILES(data, generator, reward_ft, sample_size, K, threshold, calc_sim)\n",
    "    else:\n",
    "        return generate_SMILES(data, generator, reward_ft, sample_size, K, threshold)\n",
    "    \n",
    "\n",
    "def save_smiles(filepath, smiles):\n",
    "    with open(filepath, 'w') as fout:\n",
    "        for smi in smiles:\n",
    "            fout.write(f\"{smi}\\n\")\n",
    "    print(f\"[INFO] {len(smiles)} SMILES were saved in {filepath}\")"
   ]
  },
  {
   "cell_type": "code",
   "execution_count": 14,
   "id": "371bb2d6",
   "metadata": {},
   "outputs": [],
   "source": [
    "n_sampling = 5000\n",
    "K = 10"
   ]
  },
  {
   "cell_type": "code",
   "execution_count": 15,
   "id": "d178fd93",
   "metadata": {},
   "outputs": [
    {
     "name": "stderr",
     "output_type": "stream",
     "text": [
      "100%|██████████| 5000/5000 [50:11<00:00,  1.66it/s]\n"
     ]
    },
    {
     "name": "stdout",
     "output_type": "stream",
     "text": [
      "[INFO] 5000 SMILES were saved in outputs_6_generate_molecules/jnk3/smi_after.csv.0\n"
     ]
    },
    {
     "name": "stderr",
     "output_type": "stream",
     "text": [
      "100%|██████████| 5000/5000 [50:13<00:00,  1.66it/s]\n"
     ]
    },
    {
     "name": "stdout",
     "output_type": "stream",
     "text": [
      "[INFO] 5000 SMILES were saved in outputs_6_generate_molecules/jnk3/smi_after.csv.1\n"
     ]
    },
    {
     "name": "stderr",
     "output_type": "stream",
     "text": [
      "100%|██████████| 5000/5000 [50:19<00:00,  1.66it/s]\n"
     ]
    },
    {
     "name": "stdout",
     "output_type": "stream",
     "text": [
      "[INFO] 5000 SMILES were saved in outputs_6_generate_molecules/jnk3/smi_after.csv.2\n"
     ]
    },
    {
     "name": "stderr",
     "output_type": "stream",
     "text": [
      "100%|██████████| 5000/5000 [50:23<00:00,  1.65it/s]\n"
     ]
    },
    {
     "name": "stdout",
     "output_type": "stream",
     "text": [
      "[INFO] 5000 SMILES were saved in outputs_6_generate_molecules/jnk3/smi_after.csv.3\n"
     ]
    },
    {
     "name": "stderr",
     "output_type": "stream",
     "text": [
      "100%|██████████| 5000/5000 [50:27<00:00,  1.65it/s]\n"
     ]
    },
    {
     "name": "stdout",
     "output_type": "stream",
     "text": [
      "[INFO] 5000 SMILES were saved in outputs_6_generate_molecules/jnk3/smi_after.csv.4\n"
     ]
    },
    {
     "name": "stderr",
     "output_type": "stream",
     "text": [
      "100%|██████████| 5000/5000 [50:25<00:00,  1.65it/s] \n"
     ]
    },
    {
     "name": "stdout",
     "output_type": "stream",
     "text": [
      "[INFO] 5000 SMILES were saved in outputs_6_generate_molecules/jnk3/smi_after.csv.5\n"
     ]
    },
    {
     "name": "stderr",
     "output_type": "stream",
     "text": [
      "100%|██████████| 5000/5000 [50:28<00:00,  1.65it/s]\n"
     ]
    },
    {
     "name": "stdout",
     "output_type": "stream",
     "text": [
      "[INFO] 5000 SMILES were saved in outputs_6_generate_molecules/jnk3/smi_after.csv.6\n"
     ]
    },
    {
     "name": "stderr",
     "output_type": "stream",
     "text": [
      "100%|██████████| 5000/5000 [50:25<00:00,  1.65it/s]\n"
     ]
    },
    {
     "name": "stdout",
     "output_type": "stream",
     "text": [
      "[INFO] 5000 SMILES were saved in outputs_6_generate_molecules/jnk3/smi_after.csv.7\n"
     ]
    },
    {
     "name": "stderr",
     "output_type": "stream",
     "text": [
      "100%|██████████| 5000/5000 [48:37<00:00,  1.71it/s]\n"
     ]
    },
    {
     "name": "stdout",
     "output_type": "stream",
     "text": [
      "[INFO] 5000 SMILES were saved in outputs_6_generate_molecules/jnk3/smi_after.csv.8\n"
     ]
    },
    {
     "name": "stderr",
     "output_type": "stream",
     "text": [
      "100%|██████████| 5000/5000 [45:54<00:00,  1.82it/s]"
     ]
    },
    {
     "name": "stdout",
     "output_type": "stream",
     "text": [
      "[INFO] 5000 SMILES were saved in outputs_6_generate_molecules/jnk3/smi_after.csv.9\n"
     ]
    },
    {
     "name": "stderr",
     "output_type": "stream",
     "text": [
      "\n"
     ]
    }
   ],
   "source": [
    "for modelname, num, reward_ft in zip(ckptconfigs.modelnames, ckptconfigs.numbers, ckptconfigs.reward_fts):\n",
    "    \n",
    "    filepath = os.path.join(ckptconfigs.input_dir, modelname, f'checkpoint.pth.{num}')\n",
    "    generator.load_model(filepath)\n",
    "        \n",
    "    output_dir = os.path.join(dataconfigs.output_dir, modelname)\n",
    "    if not os.path.exists(output_dir):\n",
    "        os.mkdir(output_dir)\n",
    "        \n",
    "    for k in range(K):\n",
    "        \n",
    "        generated = SMILES_generate(gen_data, generator, reward_ft, sample_size=n_sampling, calc_sim=calc_sim)\n",
    "        save_smiles(os.path.join(output_dir, f'smi_after.csv.{k}'), generated)\n",
    "        "
   ]
  },
  {
   "cell_type": "code",
   "execution_count": null,
   "id": "d597cc1a",
   "metadata": {},
   "outputs": [],
   "source": []
  }
 ],
 "metadata": {
  "kernelspec": {
   "display_name": "Python 3 (ipykernel)",
   "language": "python",
   "name": "python3"
  },
  "language_info": {
   "codemirror_mode": {
    "name": "ipython",
    "version": 3
   },
   "file_extension": ".py",
   "mimetype": "text/x-python",
   "name": "python",
   "nbconvert_exporter": "python",
   "pygments_lexer": "ipython3",
   "version": "3.8.13"
  }
 },
 "nbformat": 4,
 "nbformat_minor": 5
}
