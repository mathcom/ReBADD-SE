{
 "cells": [
  {
   "cell_type": "code",
   "execution_count": null,
   "id": "7d6ee0b8",
   "metadata": {},
   "outputs": [],
   "source": [
    "import os\n",
    "import numpy as np\n",
    "import pandas as pd\n",
    "import selfies as sf\n",
    "import matplotlib.pyplot as plt\n",
    "import seaborn as sns\n",
    "from textdistance import levenshtein\n",
    "from tqdm import tqdm"
   ]
  },
  {
   "cell_type": "code",
   "execution_count": null,
   "id": "32a3b711",
   "metadata": {},
   "outputs": [],
   "source": [
    "output_dir = 'outputs_3_levenshtein_distance_analysis'\n",
    "if not os.path.exists(output_dir):\n",
    "    os.mkdir(output_dir)"
   ]
  },
  {
   "cell_type": "code",
   "execution_count": null,
   "id": "4874c877",
   "metadata": {},
   "outputs": [],
   "source": [
    "## baseline\n",
    "filepath_base = os.path.join('baseline', 'GA+D.txt')\n",
    "generated_base = pd.read_csv(filepath_base, header=None).iloc[:,0].values.tolist()\n",
    "print(len(generated_base))"
   ]
  },
  {
   "cell_type": "code",
   "execution_count": null,
   "id": "2f274ffb",
   "metadata": {},
   "outputs": [],
   "source": [
    "## frag-level\n",
    "filepath_frag = os.path.join('outputs_2_generate_molecules', 'zinc15+frag', 'smi_after.csv')\n",
    "generated_frag = pd.read_csv(filepath_frag, header=None).iloc[:,0].values.tolist()\n",
    "print(len(generated_frag))"
   ]
  },
  {
   "cell_type": "code",
   "execution_count": null,
   "id": "61b557fd",
   "metadata": {},
   "outputs": [],
   "source": [
    "## char-level\n",
    "filepath_char = os.path.join('outputs_2_generate_molecules', 'zinc15+char', 'smi_after.csv')\n",
    "generated_char = pd.read_csv(filepath_char, header=None).iloc[:,0].values.tolist()\n",
    "print(len(generated_char))"
   ]
  },
  {
   "cell_type": "code",
   "execution_count": null,
   "id": "ab523d55",
   "metadata": {},
   "outputs": [],
   "source": [
    "reconstructed_base = [sf.encoder(sf.decoder(x)) for x in generated_base]\n",
    "reconstructed_frag = [sf.encoder(sf.decoder(x)) for x in generated_frag]\n",
    "reconstructed_char = [sf.encoder(sf.decoder(x)) for x in generated_char]"
   ]
  },
  {
   "cell_type": "code",
   "execution_count": null,
   "id": "aecc4d9a",
   "metadata": {},
   "outputs": [],
   "source": [
    "base_gen = [list(sf.split_selfies(x)) for x in generated_base]\n",
    "frag_gen = [list(sf.split_selfies(x)) for x in generated_frag]\n",
    "char_gen = [list(sf.split_selfies(x)) for x in generated_char]"
   ]
  },
  {
   "cell_type": "code",
   "execution_count": null,
   "id": "5c9430f9",
   "metadata": {},
   "outputs": [],
   "source": [
    "base_rec = [list(sf.split_selfies(x)) for x in reconstructed_base]\n",
    "frag_rec = [list(sf.split_selfies(x)) for x in reconstructed_frag]\n",
    "char_rec = [list(sf.split_selfies(x)) for x in reconstructed_char]"
   ]
  },
  {
   "cell_type": "code",
   "execution_count": null,
   "id": "00d7a86e",
   "metadata": {},
   "outputs": [],
   "source": [
    "base_sim = [levenshtein.normalized_similarity(x, y) for x, y in zip(base_gen, base_rec)]\n",
    "frag_sim = [levenshtein.normalized_similarity(x, y) for x, y in zip(frag_gen, frag_rec)]\n",
    "char_sim = [levenshtein.normalized_similarity(x, y) for x, y in zip(char_gen, char_rec)]"
   ]
  },
  {
   "cell_type": "code",
   "execution_count": null,
   "id": "5eb0a525",
   "metadata": {},
   "outputs": [],
   "source": [
    "base_dist = [levenshtein.normalized_distance(x, y) for x, y in zip(base_gen, base_rec)]\n",
    "frag_dist = [levenshtein.normalized_distance(x, y) for x, y in zip(frag_gen, frag_rec)]\n",
    "char_dist = [levenshtein.normalized_distance(x, y) for x, y in zip(char_gen, char_rec)]"
   ]
  },
  {
   "cell_type": "code",
   "execution_count": null,
   "id": "86653dbf",
   "metadata": {},
   "outputs": [],
   "source": [
    "data = pd.DataFrame({\n",
    "    'Normalized Levenshtein Distance':frag_dist + base_dist,\n",
    "    'Degree of Collapse':([f'ReBADD-SE (frag): {np.mean(frag_dist):.2f}'] * len(frag_dist))\n",
    "                       + ([f'GA+D: {np.mean(base_dist):.2f}'] * len(base_dist))\n",
    "})"
   ]
  },
  {
   "cell_type": "code",
   "execution_count": null,
   "id": "cb155b42",
   "metadata": {},
   "outputs": [],
   "source": [
    "sns.set_theme(style='darkgrid')"
   ]
  },
  {
   "cell_type": "code",
   "execution_count": null,
   "id": "26266b3a",
   "metadata": {},
   "outputs": [],
   "source": [
    "fig, ax = plt.subplots(1,1, figsize=(6, 3))\n",
    "\n",
    "_ = sns.histplot(data=data, x='Normalized Levenshtein Distance', binwidth=0.05, hue='Degree of Collapse',\n",
    "                 kde=True, common_norm=False, ax=ax)\n",
    "\n",
    "plt.tight_layout()\n",
    "plt.savefig(os.path.join(output_dir, 'selfies_collapse_analysis.png'), dpi=600)"
   ]
  },
  {
   "cell_type": "code",
   "execution_count": null,
   "id": "7ca755b6",
   "metadata": {},
   "outputs": [],
   "source": []
  }
 ],
 "metadata": {
  "kernelspec": {
   "display_name": "Python 3 (ipykernel)",
   "language": "python",
   "name": "python3"
  },
  "language_info": {
   "codemirror_mode": {
    "name": "ipython",
    "version": 3
   },
   "file_extension": ".py",
   "mimetype": "text/x-python",
   "name": "python",
   "nbconvert_exporter": "python",
   "pygments_lexer": "ipython3",
   "version": "3.8.18"
  }
 },
 "nbformat": 4,
 "nbformat_minor": 5
}
